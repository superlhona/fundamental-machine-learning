{
 "cells": [
  {
   "cell_type": "markdown",
   "metadata": {},
   "source": [
    "# Song genre prediction\n",
    "<b>Predict a song genre using its track information and features</b>"
   ]
  },
  {
   "cell_type": "markdown",
   "metadata": {},
   "source": [
    "For this project, my research question is: <b>Can we predict a track genre based on track info and features?</b><br>\n",
    "<br>\n",
    "Through its API, Spotify provided users with variety of track features, from tempo and key to whether the song is with lyrics or not and whether the song is suitable for dancing or not. These track features will be the X variables. Using these track features, I will predict the genre of the song. This also means, that genre is the Y variable.<br>\n",
    "<br>\n",
    "The unit of observation of this project is song. I will use 6 Spotify playlists from 6 different era: All Out 50s, All Out 60s, All Out 70s, All Out 80s, All Out 90s, and All Out 00s. Each playlist consist of minimum 100 songs.<br>\n",
    "<br>\n",
    "For this proejctI will use <a href=\"https://github.com/plamere/spotipy\">Spotipy</a> library to get data from Spotify API. Let's get started!"
   ]
  },
  {
   "cell_type": "markdown",
   "metadata": {},
   "source": [
    "## Data processing"
   ]
  },
  {
   "cell_type": "markdown",
   "metadata": {},
   "source": [
    "In this section, I will firstly get the track IDs from all the playlist. Then, I from each track ID, will get the track features. From the Artist data, I will then get the possible genre of the song. Why possible genre? Because in Spotify, the genre is related to the artist, not the song. Therefore, each song might be tagged with multiple genre. These list of genre that is a categorical variables then will be transformed into dummy variables.\n",
    "<hr>"
   ]
  },
  {
   "cell_type": "markdown",
   "metadata": {},
   "source": [
    "Import necessary libraries for this project, then connect with my Spotify for Developer credentials"
   ]
  },
  {
   "cell_type": "code",
   "execution_count": 1,
   "metadata": {},
   "outputs": [],
   "source": [
    "from __future__ import print_function\n",
    "import spotipy\n",
    "from spotipy.oauth2 import SpotifyClientCredentials\n",
    "from pprint import pprint\n",
    "import json\n",
    "import csv\n",
    "import time\n",
    "import sys\n",
    "import seaborn as sns\n",
    "import pandas as pd\n",
    "import matplotlib.pyplot as plt\n",
    "from sklearn.model_selection import train_test_split\n",
    "from sklearn.ensemble import RandomForestClassifier \n",
    "from sklearn.metrics import confusion_matrix\n",
    "from sklearn.metrics import classification_report\n",
    "import sklearn as sk\n",
    "\n",
    "sp = spotipy.Spotify(client_credentials_manager=SpotifyClientCredentials(client_id='eaa563769e874ccd85c8185f682ef625', client_secret='9d60c77a99e34791a1b126a06d43dcf6'))"
   ]
  },
  {
   "cell_type": "markdown",
   "metadata": {},
   "source": [
    "Next, define the playlist IDs I'm going to work with. Since I hand-picked the playlist through Spotify Web Player, I was able to get the playlist ID through Spotify Web Player. Another way of doing this is to get a list of a user's playlist and search for the playlist IDs.<br>\n",
    "<br>\n",
    "In the below array, the playlist are sorted by oldest to newest (50s to 00s)"
   ]
  },
  {
   "cell_type": "code",
   "execution_count": 2,
   "metadata": {},
   "outputs": [],
   "source": [
    "playlists = ['37i9dQZF1DWSV3Tk4GO2fq', '37i9dQZF1DXaKIA8E7WcJj', '37i9dQZF1DWTJ7xPn4vNaz', '37i9dQZF1DX4UtSsGT1Sbe', '37i9dQZF1DXbTxeAdrVG2l', '37i9dQZF1DX4o1oenSJRJd']"
   ]
  },
  {
   "cell_type": "markdown",
   "metadata": {},
   "source": [
    "In the below code, we're getting the track IDs of every song on the above playlists and save them in a csv file, so that we can work with the data locally in the next process."
   ]
  },
  {
   "cell_type": "code",
   "execution_count": 3,
   "metadata": {},
   "outputs": [],
   "source": [
    "#source this\n",
    "get_tracks = []\n",
    "\n",
    "for list in playlists:\n",
    "    offset = 0    \n",
    "    \n",
    "    while True:\n",
    "        response = sp.playlist_items(list,\n",
    "                                     offset=offset,\n",
    "                                     fields='items.track.id,total',\n",
    "                                     additional_types=['track'])\n",
    "\n",
    "        if len(response['items']) == 0:\n",
    "            break\n",
    "        \n",
    "        get_tracks.extend(response['items'])\n",
    "        offset = offset + len(response['items'])\n",
    "        \n",
    "\n",
    "with open(\"tracks.json\", \"w\") as outfile:\n",
    "    json.dump(get_tracks, outfile)"
   ]
  },
  {
   "cell_type": "markdown",
   "metadata": {},
   "source": [
    "In the below code, we take the tracks data stored locally and continue work with it. The data was saved as json file, we're going to transform it into a dataframe (df) for further working on it."
   ]
  },
  {
   "cell_type": "code",
   "execution_count": 4,
   "metadata": {
    "scrolled": true
   },
   "outputs": [
    {
     "data": {
      "text/html": [
       "<div>\n",
       "<style scoped>\n",
       "    .dataframe tbody tr th:only-of-type {\n",
       "        vertical-align: middle;\n",
       "    }\n",
       "\n",
       "    .dataframe tbody tr th {\n",
       "        vertical-align: top;\n",
       "    }\n",
       "\n",
       "    .dataframe thead th {\n",
       "        text-align: right;\n",
       "    }\n",
       "</style>\n",
       "<table border=\"1\" class=\"dataframe\">\n",
       "  <thead>\n",
       "    <tr style=\"text-align: right;\">\n",
       "      <th></th>\n",
       "      <th>id</th>\n",
       "    </tr>\n",
       "  </thead>\n",
       "  <tbody>\n",
       "    <tr>\n",
       "      <th>0</th>\n",
       "      <td>06PdA0DLgF4BfAeUNZAbFG</td>\n",
       "    </tr>\n",
       "    <tr>\n",
       "      <th>1</th>\n",
       "      <td>40KCF1U2DNceYsugxZQruU</td>\n",
       "    </tr>\n",
       "    <tr>\n",
       "      <th>2</th>\n",
       "      <td>2viNxee3uNcVXrXvwAUVir</td>\n",
       "    </tr>\n",
       "    <tr>\n",
       "      <th>3</th>\n",
       "      <td>72nqbbrKjhXmDdRXQGq115</td>\n",
       "    </tr>\n",
       "    <tr>\n",
       "      <th>4</th>\n",
       "      <td>50RwvvEKX5Q7AZt8FTAwIF</td>\n",
       "    </tr>\n",
       "  </tbody>\n",
       "</table>\n",
       "</div>"
      ],
      "text/plain": [
       "                       id\n",
       "0  06PdA0DLgF4BfAeUNZAbFG\n",
       "1  40KCF1U2DNceYsugxZQruU\n",
       "2  2viNxee3uNcVXrXvwAUVir\n",
       "3  72nqbbrKjhXmDdRXQGq115\n",
       "4  50RwvvEKX5Q7AZt8FTAwIF"
      ]
     },
     "execution_count": 4,
     "metadata": {},
     "output_type": "execute_result"
    }
   ],
   "source": [
    "import pandas as pd\n",
    "\n",
    "data = pd.read_json(\"tracks.json\")\n",
    "df = pd.json_normalize(data['track'])\n",
    "df.head()"
   ]
  },
  {
   "cell_type": "markdown",
   "metadata": {},
   "source": [
    "In the next step, we take the track names, artist names and artist ids from the track id data we have."
   ]
  },
  {
   "cell_type": "code",
   "execution_count": 5,
   "metadata": {},
   "outputs": [
    {
     "data": {
      "text/html": [
       "<div>\n",
       "<style scoped>\n",
       "    .dataframe tbody tr th:only-of-type {\n",
       "        vertical-align: middle;\n",
       "    }\n",
       "\n",
       "    .dataframe tbody tr th {\n",
       "        vertical-align: top;\n",
       "    }\n",
       "\n",
       "    .dataframe thead th {\n",
       "        text-align: right;\n",
       "    }\n",
       "</style>\n",
       "<table border=\"1\" class=\"dataframe\">\n",
       "  <thead>\n",
       "    <tr style=\"text-align: right;\">\n",
       "      <th></th>\n",
       "      <th>id</th>\n",
       "      <th>track names</th>\n",
       "      <th>artists name</th>\n",
       "      <th>artists id</th>\n",
       "    </tr>\n",
       "  </thead>\n",
       "  <tbody>\n",
       "    <tr>\n",
       "      <th>0</th>\n",
       "      <td>06PdA0DLgF4BfAeUNZAbFG</td>\n",
       "      <td>Blueberry Hill</td>\n",
       "      <td>Fats Domino</td>\n",
       "      <td>09C0xjtosNAIXP36wTnWxd</td>\n",
       "    </tr>\n",
       "    <tr>\n",
       "      <th>1</th>\n",
       "      <td>40KCF1U2DNceYsugxZQruU</td>\n",
       "      <td>Broken Hearted Melody</td>\n",
       "      <td>Sarah Vaughan</td>\n",
       "      <td>1bgyxtWjZwA5PQlDsvs9b8</td>\n",
       "    </tr>\n",
       "    <tr>\n",
       "      <th>2</th>\n",
       "      <td>2viNxee3uNcVXrXvwAUVir</td>\n",
       "      <td>That's Amore</td>\n",
       "      <td>Dean Martin</td>\n",
       "      <td>49e4v89VmlDcFCMyDv9wQ9</td>\n",
       "    </tr>\n",
       "    <tr>\n",
       "      <th>3</th>\n",
       "      <td>72nqbbrKjhXmDdRXQGq115</td>\n",
       "      <td>All I Have to Do Is Dream</td>\n",
       "      <td>The Everly Brothers</td>\n",
       "      <td>4ACplpEqD6JIVgKrafauzs</td>\n",
       "    </tr>\n",
       "    <tr>\n",
       "      <th>4</th>\n",
       "      <td>50RwvvEKX5Q7AZt8FTAwIF</td>\n",
       "      <td>That'll Be The Day</td>\n",
       "      <td>Buddy Holly</td>\n",
       "      <td>3wYyutjgII8LJVVOLrGI0D</td>\n",
       "    </tr>\n",
       "  </tbody>\n",
       "</table>\n",
       "</div>"
      ],
      "text/plain": [
       "                       id                track names         artists name  \\\n",
       "0  06PdA0DLgF4BfAeUNZAbFG             Blueberry Hill          Fats Domino   \n",
       "1  40KCF1U2DNceYsugxZQruU      Broken Hearted Melody        Sarah Vaughan   \n",
       "2  2viNxee3uNcVXrXvwAUVir               That's Amore          Dean Martin   \n",
       "3  72nqbbrKjhXmDdRXQGq115  All I Have to Do Is Dream  The Everly Brothers   \n",
       "4  50RwvvEKX5Q7AZt8FTAwIF         That'll Be The Day          Buddy Holly   \n",
       "\n",
       "               artists id  \n",
       "0  09C0xjtosNAIXP36wTnWxd  \n",
       "1  1bgyxtWjZwA5PQlDsvs9b8  \n",
       "2  49e4v89VmlDcFCMyDv9wQ9  \n",
       "3  4ACplpEqD6JIVgKrafauzs  \n",
       "4  3wYyutjgII8LJVVOLrGI0D  "
      ]
     },
     "execution_count": 5,
     "metadata": {},
     "output_type": "execute_result"
    }
   ],
   "source": [
    "#source this\n",
    "tracks = df['id']\n",
    "track_names = []\n",
    "track_artists_name = []\n",
    "track_artists_id = []\n",
    "\n",
    "for track in tracks:\n",
    "    urn = 'spotify:track:' + track\n",
    "    track = sp.track(urn)\n",
    "    track_name = track['name']\n",
    "    track_artist_name = track['artists'][0]['name']\n",
    "    track_artist_id = track['artists'][0]['id']\n",
    "    track_explicit = track['explicit']\n",
    "    track_album_type = track['album']['album_type']\n",
    "    track_names.append(track_name)\n",
    "    track_artists_name.append(track_artist_name)\n",
    "    track_artists_id.append(track_artist_id)\n",
    "    \n",
    "df['track names'] = track_names\n",
    "df['artists name'] = track_artists_name\n",
    "df['artists id'] = track_artists_id\n",
    "\n",
    "df.head()"
   ]
  },
  {
   "cell_type": "markdown",
   "metadata": {},
   "source": [
    "Next:<br>\n",
    "From each track ID, will get the track features consisting of the following (Web API Reference | Spotify for Developers, n.d.):\n",
    "<ul>\n",
    "    <li><b>Accousticness</b> (A confidence measure from 0.0 to 1.0 of whether the track is acoustic. 1.0 represents high confidence the track is acoustic.)</li>\n",
    "    <li><b>Danceability</b> (Danceability describes how suitable a track is for dancing based on a combination of musical elements including tempo, rhythm stability, beat strength, and overall regularity. A value of 0.0 is least danceable and 1.0 is most danceable.)</li>\n",
    "    <li><b>Duration_ms</b> (The duration of the track in milliseconds.)</li>\n",
    "    <li><b>Energy</b> (Energy is a measure from 0.0 to 1.0 and represents a perceptual measure of intensity and activity. Typically, energetic tracks feel fast, loud, and noisy. For example, death metal has high energy, while a Bach prelude scores low on the scale. Perceptual features contributing to this attribute include dynamic range, perceived loudness, timbre, onset rate, and general entropy.)</li>\n",
    "    <li><b>Instrumentalness</b> (Predicts whether a track contains no vocals. “Ooh” and “aah” sounds are treated as instrumental in this context. Rap or spoken word tracks are clearly “vocal”. The closer the instrumentalness value is to 1.0, the greater likelihood the track contains no vocal content. Values above 0.5 are intended to represent instrumental tracks, but confidence is higher as the value approaches 1.0.)</li>\n",
    "    <li><b>Key</b> (The key the track is in. Integers map to pitches using standard Pitch Class notation. E.g. 0 = C, 1 = C♯/D♭, 2 = D, and so on.)</li>\n",
    "    <li><b>Liveness</b> (Detects the presence of an audience in the recording. Higher liveness values represent an increased probability that the track was performed live. A value above 0.8 provides strong likelihood that the track is live.)</li>\n",
    "    <li><b>Loudness</b> (The overall loudness of a track in decibels (dB). Loudness values are averaged across the entire track and are useful for comparing relative loudness of tracks. Loudness is the quality of a sound that is the primary psychological correlate of physical strength (amplitude). Values typical range between -60 and 0 db.)</li>\n",
    "    <li><b>Mode</b> (Mode indicates the modality (major or minor) of a track, the type of scale from which its melodic content is derived. Major is represented by 1 and minor is 0.)</li>\n",
    "    <li><b>Speechiness</b> (Speechiness detects the presence of spoken words in a track. The more exclusively speech-like the recording (e.g. talk show, audio book, poetry), the closer to 1.0 the attribute value. Values above 0.66 describe tracks that are probably made entirely of spoken words. Values between 0.33 and 0.66 describe tracks that may contain both music and speech, either in sections or layered, including such cases as rap music. Values below 0.33 most likely represent music and other non-speech-like tracks.)</li>\n",
    "    <li><b>Time signature</b> (An estimated overall time signature of a track. The time signature (meter) is a notational convention to specify how many beats are in each bar (or measure).)</li>\n",
    "    <li><b>Valence</b> (A measure from 0.0 to 1.0 describing the musical positiveness conveyed by a track. Tracks with high valence sound more positive (e.g. happy, cheerful, euphoric), while tracks with low valence sound more negative (e.g. sad, depressed, angry).)</li>\n",
    "</ul>"
   ]
  },
  {
   "cell_type": "code",
   "execution_count": 6,
   "metadata": {},
   "outputs": [
    {
     "data": {
      "text/html": [
       "<div>\n",
       "<style scoped>\n",
       "    .dataframe tbody tr th:only-of-type {\n",
       "        vertical-align: middle;\n",
       "    }\n",
       "\n",
       "    .dataframe tbody tr th {\n",
       "        vertical-align: top;\n",
       "    }\n",
       "\n",
       "    .dataframe thead th {\n",
       "        text-align: right;\n",
       "    }\n",
       "</style>\n",
       "<table border=\"1\" class=\"dataframe\">\n",
       "  <thead>\n",
       "    <tr style=\"text-align: right;\">\n",
       "      <th></th>\n",
       "      <th>id</th>\n",
       "      <th>track names</th>\n",
       "      <th>artists name</th>\n",
       "      <th>artists id</th>\n",
       "      <th>track acousticness</th>\n",
       "      <th>track danceability</th>\n",
       "      <th>track duration_ms</th>\n",
       "      <th>track energy</th>\n",
       "      <th>track instrumentalness</th>\n",
       "      <th>track key</th>\n",
       "      <th>track liveness</th>\n",
       "      <th>track loudness</th>\n",
       "      <th>track mode</th>\n",
       "      <th>track speechiness</th>\n",
       "      <th>track time_signature</th>\n",
       "      <th>track valence</th>\n",
       "    </tr>\n",
       "  </thead>\n",
       "  <tbody>\n",
       "    <tr>\n",
       "      <th>0</th>\n",
       "      <td>06PdA0DLgF4BfAeUNZAbFG</td>\n",
       "      <td>Blueberry Hill</td>\n",
       "      <td>Fats Domino</td>\n",
       "      <td>09C0xjtosNAIXP36wTnWxd</td>\n",
       "      <td>0.740</td>\n",
       "      <td>0.489</td>\n",
       "      <td>147880</td>\n",
       "      <td>0.499</td>\n",
       "      <td>0.000236</td>\n",
       "      <td>11</td>\n",
       "      <td>0.1560</td>\n",
       "      <td>-9.702</td>\n",
       "      <td>1</td>\n",
       "      <td>0.0271</td>\n",
       "      <td>3</td>\n",
       "      <td>0.829</td>\n",
       "    </tr>\n",
       "    <tr>\n",
       "      <th>1</th>\n",
       "      <td>40KCF1U2DNceYsugxZQruU</td>\n",
       "      <td>Broken Hearted Melody</td>\n",
       "      <td>Sarah Vaughan</td>\n",
       "      <td>1bgyxtWjZwA5PQlDsvs9b8</td>\n",
       "      <td>0.744</td>\n",
       "      <td>0.448</td>\n",
       "      <td>143267</td>\n",
       "      <td>0.500</td>\n",
       "      <td>0.000000</td>\n",
       "      <td>7</td>\n",
       "      <td>0.1910</td>\n",
       "      <td>-11.304</td>\n",
       "      <td>1</td>\n",
       "      <td>0.0356</td>\n",
       "      <td>4</td>\n",
       "      <td>0.768</td>\n",
       "    </tr>\n",
       "    <tr>\n",
       "      <th>2</th>\n",
       "      <td>2viNxee3uNcVXrXvwAUVir</td>\n",
       "      <td>That's Amore</td>\n",
       "      <td>Dean Martin</td>\n",
       "      <td>49e4v89VmlDcFCMyDv9wQ9</td>\n",
       "      <td>0.741</td>\n",
       "      <td>0.476</td>\n",
       "      <td>186267</td>\n",
       "      <td>0.226</td>\n",
       "      <td>0.000000</td>\n",
       "      <td>10</td>\n",
       "      <td>0.0944</td>\n",
       "      <td>-10.546</td>\n",
       "      <td>1</td>\n",
       "      <td>0.0295</td>\n",
       "      <td>4</td>\n",
       "      <td>0.500</td>\n",
       "    </tr>\n",
       "    <tr>\n",
       "      <th>3</th>\n",
       "      <td>72nqbbrKjhXmDdRXQGq115</td>\n",
       "      <td>All I Have to Do Is Dream</td>\n",
       "      <td>The Everly Brothers</td>\n",
       "      <td>4ACplpEqD6JIVgKrafauzs</td>\n",
       "      <td>0.783</td>\n",
       "      <td>0.542</td>\n",
       "      <td>141240</td>\n",
       "      <td>0.347</td>\n",
       "      <td>0.000000</td>\n",
       "      <td>4</td>\n",
       "      <td>0.1440</td>\n",
       "      <td>-14.011</td>\n",
       "      <td>1</td>\n",
       "      <td>0.0268</td>\n",
       "      <td>4</td>\n",
       "      <td>0.596</td>\n",
       "    </tr>\n",
       "    <tr>\n",
       "      <th>4</th>\n",
       "      <td>50RwvvEKX5Q7AZt8FTAwIF</td>\n",
       "      <td>That'll Be The Day</td>\n",
       "      <td>Buddy Holly</td>\n",
       "      <td>3wYyutjgII8LJVVOLrGI0D</td>\n",
       "      <td>0.467</td>\n",
       "      <td>0.536</td>\n",
       "      <td>150133</td>\n",
       "      <td>0.637</td>\n",
       "      <td>0.000000</td>\n",
       "      <td>2</td>\n",
       "      <td>0.0838</td>\n",
       "      <td>-7.774</td>\n",
       "      <td>1</td>\n",
       "      <td>0.0343</td>\n",
       "      <td>4</td>\n",
       "      <td>0.798</td>\n",
       "    </tr>\n",
       "  </tbody>\n",
       "</table>\n",
       "</div>"
      ],
      "text/plain": [
       "                       id                track names         artists name  \\\n",
       "0  06PdA0DLgF4BfAeUNZAbFG             Blueberry Hill          Fats Domino   \n",
       "1  40KCF1U2DNceYsugxZQruU      Broken Hearted Melody        Sarah Vaughan   \n",
       "2  2viNxee3uNcVXrXvwAUVir               That's Amore          Dean Martin   \n",
       "3  72nqbbrKjhXmDdRXQGq115  All I Have to Do Is Dream  The Everly Brothers   \n",
       "4  50RwvvEKX5Q7AZt8FTAwIF         That'll Be The Day          Buddy Holly   \n",
       "\n",
       "               artists id  track acousticness  track danceability  \\\n",
       "0  09C0xjtosNAIXP36wTnWxd               0.740               0.489   \n",
       "1  1bgyxtWjZwA5PQlDsvs9b8               0.744               0.448   \n",
       "2  49e4v89VmlDcFCMyDv9wQ9               0.741               0.476   \n",
       "3  4ACplpEqD6JIVgKrafauzs               0.783               0.542   \n",
       "4  3wYyutjgII8LJVVOLrGI0D               0.467               0.536   \n",
       "\n",
       "   track duration_ms  track energy  track instrumentalness  track key  \\\n",
       "0             147880         0.499                0.000236         11   \n",
       "1             143267         0.500                0.000000          7   \n",
       "2             186267         0.226                0.000000         10   \n",
       "3             141240         0.347                0.000000          4   \n",
       "4             150133         0.637                0.000000          2   \n",
       "\n",
       "   track liveness  track loudness  track mode  track speechiness  \\\n",
       "0          0.1560          -9.702           1             0.0271   \n",
       "1          0.1910         -11.304           1             0.0356   \n",
       "2          0.0944         -10.546           1             0.0295   \n",
       "3          0.1440         -14.011           1             0.0268   \n",
       "4          0.0838          -7.774           1             0.0343   \n",
       "\n",
       "   track time_signature  track valence  \n",
       "0                     3          0.829  \n",
       "1                     4          0.768  \n",
       "2                     4          0.500  \n",
       "3                     4          0.596  \n",
       "4                     4          0.798  "
      ]
     },
     "execution_count": 6,
     "metadata": {},
     "output_type": "execute_result"
    }
   ],
   "source": [
    "#source this\n",
    "track_ids = df['id']\n",
    "track_acousticness = []\n",
    "track_danceability = []\n",
    "track_duration_ms = []\n",
    "track_energy = []\n",
    "track_instrumentalness = []\n",
    "track_key = []\n",
    "track_liveness = []\n",
    "track_loudness = []\n",
    "track_mode = []\n",
    "track_speechiness = []\n",
    "track_time_signature = []\n",
    "track_valence = []\n",
    "                                            \n",
    "for id in track_ids:\n",
    "    features = sp.audio_features(id)\n",
    "    acousticness = features[0]['acousticness']\n",
    "    danceability = features[0]['danceability']\n",
    "    duration_ms = features[0]['duration_ms']\n",
    "    energy = features[0]['energy']\n",
    "    instrumentalness = features[0]['instrumentalness']\n",
    "    key = features[0]['key']\n",
    "    liveness = features[0]['liveness']\n",
    "    loudness = features[0]['loudness']\n",
    "    mode = features[0]['mode']\n",
    "    speechiness = features[0]['speechiness']\n",
    "    time_signature = features[0]['time_signature']\n",
    "    valence = features[0]['valence']\n",
    "    \n",
    "    track_acousticness.append(acousticness)\n",
    "    track_danceability.append(danceability)\n",
    "    track_duration_ms.append(duration_ms)\n",
    "    track_energy.append(energy)\n",
    "    track_instrumentalness.append(instrumentalness)\n",
    "    track_key.append(key)\n",
    "    track_liveness.append(liveness)\n",
    "    track_loudness.append(loudness)\n",
    "    track_mode.append(mode)\n",
    "    track_speechiness.append(speechiness)\n",
    "    track_time_signature.append(time_signature)\n",
    "    track_valence.append(valence)\n",
    "    \n",
    "df['track acousticness'] = track_acousticness\n",
    "df['track danceability'] = track_danceability\n",
    "df['track duration_ms'] = track_duration_ms\n",
    "df['track energy'] = track_energy\n",
    "df['track instrumentalness'] = track_instrumentalness\n",
    "df['track key'] = track_key\n",
    "df['track liveness'] = track_liveness\n",
    "df['track loudness'] = track_loudness\n",
    "df['track mode'] = track_mode\n",
    "df['track speechiness'] = track_speechiness\n",
    "df['track time_signature'] = track_time_signature\n",
    "df['track valence'] = track_valence\n",
    "\n",
    "df.head()"
   ]
  },
  {
   "cell_type": "markdown",
   "metadata": {},
   "source": [
    "In the last step of gathering the data for this project, we'll get the genres from artist ids. The result might return a few genres per artist, therefore for this project, we use only the last genre with the assumption that it's the broadest genre. Then, we save them as a csv file to keep the data locally."
   ]
  },
  {
   "cell_type": "code",
   "execution_count": 7,
   "metadata": {},
   "outputs": [],
   "source": [
    "#source this\n",
    "artists_id = df['artists id']\n",
    "genres = []\n",
    "\n",
    "for artist in artists_id:\n",
    "    urn = 'spotify:artist:' + artist\n",
    "    artist = sp.artist(urn)\n",
    "    artist_genres = artist['genres']\n",
    "    \n",
    "    if len(artist_genres) != 0:\n",
    "        broad_genre = artist_genres[-1] #only the last genre with the assumption that it's the broadest genre, also otherwise too many genre present.\n",
    "    else:\n",
    "        broad_genre = 'no genre'\n",
    "    \n",
    "    genres.append(broad_genre)\n",
    "    \n",
    "df['genres'] = genres\n",
    "df.to_csv('raw_data.csv', index=False)"
   ]
  },
  {
   "cell_type": "markdown",
   "metadata": {},
   "source": [
    "In the next step, we are working with the local dataset and continue with filtering all the genres to only show the ones containing pop and rock."
   ]
  },
  {
   "cell_type": "code",
   "execution_count": 8,
   "metadata": {},
   "outputs": [
    {
     "data": {
      "text/plain": [
       "soft rock              151\n",
       "rockabilly              56\n",
       "rock                    50\n",
       "pop rock                41\n",
       "yacht rock              41\n",
       "pop                     28\n",
       "post-teen pop           25\n",
       "rock-and-roll           20\n",
       "sunshine pop            18\n",
       "synthpop                12\n",
       "europop                 12\n",
       "swedish pop             12\n",
       "symphonic rock          10\n",
       "dance pop                8\n",
       "pop rap                  8\n",
       "viral pop                5\n",
       "sophisti-pop             5\n",
       "new wave pop             4\n",
       "swamp rock               4\n",
       "pop dance                4\n",
       "scottish rock            4\n",
       "country rock             2\n",
       "roots rock               2\n",
       "classic garage rock      1\n",
       "australian rock          1\n",
       "swamp pop                1\n",
       "britpop                  1\n",
       "glam rock                1\n",
       "power pop                1\n",
       "latin pop                1\n",
       "folk rock                1\n",
       "nz pop                   1\n",
       "classic uk pop           1\n",
       "Name: genres, dtype: int64"
      ]
     },
     "execution_count": 8,
     "metadata": {},
     "output_type": "execute_result"
    }
   ],
   "source": [
    "df1 = pd.read_csv('raw_data.csv')  \n",
    "df2 = df1[df1['genres'].str.contains('pop|rock')]\n",
    "df2['genres'].value_counts()"
   ]
  },
  {
   "cell_type": "markdown",
   "metadata": {},
   "source": [
    "To make it easier for us to process the genre later on, we're going to transform the values of genres column to the following: when it is a sub genre of pop, we're turning it into 'pop' and when it is a sub genre of rock, we're turning it into 'rock'. The values will be put to a new column named genres-transformed."
   ]
  },
  {
   "cell_type": "code",
   "execution_count": 9,
   "metadata": {},
   "outputs": [
    {
     "name": "stderr",
     "output_type": "stream",
     "text": [
      "/opt/anaconda3/lib/python3.7/site-packages/pandas/core/indexing.py:1596: SettingWithCopyWarning: \n",
      "A value is trying to be set on a copy of a slice from a DataFrame.\n",
      "Try using .loc[row_indexer,col_indexer] = value instead\n",
      "\n",
      "See the caveats in the documentation: https://pandas.pydata.org/pandas-docs/stable/user_guide/indexing.html#returning-a-view-versus-a-copy\n",
      "  self.obj[key] = _infer_fill_value(value)\n",
      "/opt/anaconda3/lib/python3.7/site-packages/pandas/core/indexing.py:1765: SettingWithCopyWarning: \n",
      "A value is trying to be set on a copy of a slice from a DataFrame.\n",
      "Try using .loc[row_indexer,col_indexer] = value instead\n",
      "\n",
      "See the caveats in the documentation: https://pandas.pydata.org/pandas-docs/stable/user_guide/indexing.html#returning-a-view-versus-a-copy\n",
      "  isetter(loc, value)\n"
     ]
    },
    {
     "data": {
      "text/html": [
       "<div>\n",
       "<style scoped>\n",
       "    .dataframe tbody tr th:only-of-type {\n",
       "        vertical-align: middle;\n",
       "    }\n",
       "\n",
       "    .dataframe tbody tr th {\n",
       "        vertical-align: top;\n",
       "    }\n",
       "\n",
       "    .dataframe thead th {\n",
       "        text-align: right;\n",
       "    }\n",
       "</style>\n",
       "<table border=\"1\" class=\"dataframe\">\n",
       "  <thead>\n",
       "    <tr style=\"text-align: right;\">\n",
       "      <th></th>\n",
       "      <th>id</th>\n",
       "      <th>track names</th>\n",
       "      <th>artists name</th>\n",
       "      <th>artists id</th>\n",
       "      <th>track acousticness</th>\n",
       "      <th>track danceability</th>\n",
       "      <th>track duration_ms</th>\n",
       "      <th>track energy</th>\n",
       "      <th>track instrumentalness</th>\n",
       "      <th>track key</th>\n",
       "      <th>track liveness</th>\n",
       "      <th>track loudness</th>\n",
       "      <th>track mode</th>\n",
       "      <th>track speechiness</th>\n",
       "      <th>track time_signature</th>\n",
       "      <th>track valence</th>\n",
       "      <th>genres</th>\n",
       "      <th>genres-transformed</th>\n",
       "    </tr>\n",
       "  </thead>\n",
       "  <tbody>\n",
       "    <tr>\n",
       "      <th>3</th>\n",
       "      <td>72nqbbrKjhXmDdRXQGq115</td>\n",
       "      <td>All I Have to Do Is Dream</td>\n",
       "      <td>The Everly Brothers</td>\n",
       "      <td>4ACplpEqD6JIVgKrafauzs</td>\n",
       "      <td>0.783</td>\n",
       "      <td>0.542</td>\n",
       "      <td>141240</td>\n",
       "      <td>0.347</td>\n",
       "      <td>0.000000</td>\n",
       "      <td>4</td>\n",
       "      <td>0.1440</td>\n",
       "      <td>-14.011</td>\n",
       "      <td>1</td>\n",
       "      <td>0.0268</td>\n",
       "      <td>4</td>\n",
       "      <td>0.596</td>\n",
       "      <td>sunshine pop</td>\n",
       "      <td>pop</td>\n",
       "    </tr>\n",
       "    <tr>\n",
       "      <th>4</th>\n",
       "      <td>50RwvvEKX5Q7AZt8FTAwIF</td>\n",
       "      <td>That'll Be The Day</td>\n",
       "      <td>Buddy Holly</td>\n",
       "      <td>3wYyutjgII8LJVVOLrGI0D</td>\n",
       "      <td>0.467</td>\n",
       "      <td>0.536</td>\n",
       "      <td>150133</td>\n",
       "      <td>0.637</td>\n",
       "      <td>0.000000</td>\n",
       "      <td>2</td>\n",
       "      <td>0.0838</td>\n",
       "      <td>-7.774</td>\n",
       "      <td>1</td>\n",
       "      <td>0.0343</td>\n",
       "      <td>4</td>\n",
       "      <td>0.798</td>\n",
       "      <td>rockabilly</td>\n",
       "      <td>rock</td>\n",
       "    </tr>\n",
       "    <tr>\n",
       "      <th>7</th>\n",
       "      <td>5ueyLj6e6oVaTY0KQ6yLaA</td>\n",
       "      <td>All Shook Up</td>\n",
       "      <td>Elvis Presley</td>\n",
       "      <td>43ZHCT0cAZBISjO8DG9PnE</td>\n",
       "      <td>0.881</td>\n",
       "      <td>0.624</td>\n",
       "      <td>117080</td>\n",
       "      <td>0.468</td>\n",
       "      <td>0.000006</td>\n",
       "      <td>10</td>\n",
       "      <td>0.1440</td>\n",
       "      <td>-12.162</td>\n",
       "      <td>1</td>\n",
       "      <td>0.1320</td>\n",
       "      <td>4</td>\n",
       "      <td>0.952</td>\n",
       "      <td>rockabilly</td>\n",
       "      <td>rock</td>\n",
       "    </tr>\n",
       "    <tr>\n",
       "      <th>8</th>\n",
       "      <td>2FkCjtQ1lYsf71s2FAS8hE</td>\n",
       "      <td>The Great Pretender</td>\n",
       "      <td>The Platters</td>\n",
       "      <td>6KWcxMWVNVIYbdOQyJtsSy</td>\n",
       "      <td>0.943</td>\n",
       "      <td>0.425</td>\n",
       "      <td>160667</td>\n",
       "      <td>0.401</td>\n",
       "      <td>0.000003</td>\n",
       "      <td>7</td>\n",
       "      <td>0.0720</td>\n",
       "      <td>-9.427</td>\n",
       "      <td>1</td>\n",
       "      <td>0.0315</td>\n",
       "      <td>3</td>\n",
       "      <td>0.531</td>\n",
       "      <td>rockabilly</td>\n",
       "      <td>rock</td>\n",
       "    </tr>\n",
       "    <tr>\n",
       "      <th>10</th>\n",
       "      <td>7ljPNANyoIDc7sL0PWaJlu</td>\n",
       "      <td>True Love Ways</td>\n",
       "      <td>Buddy Holly</td>\n",
       "      <td>3wYyutjgII8LJVVOLrGI0D</td>\n",
       "      <td>0.800</td>\n",
       "      <td>0.221</td>\n",
       "      <td>168707</td>\n",
       "      <td>0.124</td>\n",
       "      <td>0.103000</td>\n",
       "      <td>10</td>\n",
       "      <td>0.3160</td>\n",
       "      <td>-19.545</td>\n",
       "      <td>1</td>\n",
       "      <td>0.0346</td>\n",
       "      <td>4</td>\n",
       "      <td>0.276</td>\n",
       "      <td>rockabilly</td>\n",
       "      <td>rock</td>\n",
       "    </tr>\n",
       "  </tbody>\n",
       "</table>\n",
       "</div>"
      ],
      "text/plain": [
       "                        id                track names         artists name  \\\n",
       "3   72nqbbrKjhXmDdRXQGq115  All I Have to Do Is Dream  The Everly Brothers   \n",
       "4   50RwvvEKX5Q7AZt8FTAwIF         That'll Be The Day          Buddy Holly   \n",
       "7   5ueyLj6e6oVaTY0KQ6yLaA               All Shook Up        Elvis Presley   \n",
       "8   2FkCjtQ1lYsf71s2FAS8hE        The Great Pretender         The Platters   \n",
       "10  7ljPNANyoIDc7sL0PWaJlu             True Love Ways          Buddy Holly   \n",
       "\n",
       "                artists id  track acousticness  track danceability  \\\n",
       "3   4ACplpEqD6JIVgKrafauzs               0.783               0.542   \n",
       "4   3wYyutjgII8LJVVOLrGI0D               0.467               0.536   \n",
       "7   43ZHCT0cAZBISjO8DG9PnE               0.881               0.624   \n",
       "8   6KWcxMWVNVIYbdOQyJtsSy               0.943               0.425   \n",
       "10  3wYyutjgII8LJVVOLrGI0D               0.800               0.221   \n",
       "\n",
       "    track duration_ms  track energy  track instrumentalness  track key  \\\n",
       "3              141240         0.347                0.000000          4   \n",
       "4              150133         0.637                0.000000          2   \n",
       "7              117080         0.468                0.000006         10   \n",
       "8              160667         0.401                0.000003          7   \n",
       "10             168707         0.124                0.103000         10   \n",
       "\n",
       "    track liveness  track loudness  track mode  track speechiness  \\\n",
       "3           0.1440         -14.011           1             0.0268   \n",
       "4           0.0838          -7.774           1             0.0343   \n",
       "7           0.1440         -12.162           1             0.1320   \n",
       "8           0.0720          -9.427           1             0.0315   \n",
       "10          0.3160         -19.545           1             0.0346   \n",
       "\n",
       "    track time_signature  track valence        genres genres-transformed  \n",
       "3                      4          0.596  sunshine pop                pop  \n",
       "4                      4          0.798    rockabilly               rock  \n",
       "7                      4          0.952    rockabilly               rock  \n",
       "8                      3          0.531    rockabilly               rock  \n",
       "10                     4          0.276    rockabilly               rock  "
      ]
     },
     "execution_count": 9,
     "metadata": {},
     "output_type": "execute_result"
    }
   ],
   "source": [
    "df2.loc[df2['genres'].str.contains('pop'), 'genres-transformed'] = 'pop'\n",
    "df2.loc[df2['genres'].str.contains('rock'), 'genres-transformed'] = 'rock'\n",
    "df2.head()"
   ]
  },
  {
   "cell_type": "markdown",
   "metadata": {},
   "source": [
    "We're making dummies out of the genres-transformed values to later on see if there are strong correlation values to each genre."
   ]
  },
  {
   "cell_type": "code",
   "execution_count": 10,
   "metadata": {},
   "outputs": [
    {
     "data": {
      "text/html": [
       "<div>\n",
       "<style scoped>\n",
       "    .dataframe tbody tr th:only-of-type {\n",
       "        vertical-align: middle;\n",
       "    }\n",
       "\n",
       "    .dataframe tbody tr th {\n",
       "        vertical-align: top;\n",
       "    }\n",
       "\n",
       "    .dataframe thead th {\n",
       "        text-align: right;\n",
       "    }\n",
       "</style>\n",
       "<table border=\"1\" class=\"dataframe\">\n",
       "  <thead>\n",
       "    <tr style=\"text-align: right;\">\n",
       "      <th></th>\n",
       "      <th>id</th>\n",
       "      <th>track names</th>\n",
       "      <th>artists name</th>\n",
       "      <th>artists id</th>\n",
       "      <th>track acousticness</th>\n",
       "      <th>track danceability</th>\n",
       "      <th>track duration_ms</th>\n",
       "      <th>track energy</th>\n",
       "      <th>track instrumentalness</th>\n",
       "      <th>track key</th>\n",
       "      <th>track liveness</th>\n",
       "      <th>track loudness</th>\n",
       "      <th>track mode</th>\n",
       "      <th>track speechiness</th>\n",
       "      <th>track time_signature</th>\n",
       "      <th>track valence</th>\n",
       "      <th>genres</th>\n",
       "      <th>genres-transformed</th>\n",
       "      <th>pop</th>\n",
       "      <th>rock</th>\n",
       "    </tr>\n",
       "  </thead>\n",
       "  <tbody>\n",
       "    <tr>\n",
       "      <th>3</th>\n",
       "      <td>72nqbbrKjhXmDdRXQGq115</td>\n",
       "      <td>All I Have to Do Is Dream</td>\n",
       "      <td>The Everly Brothers</td>\n",
       "      <td>4ACplpEqD6JIVgKrafauzs</td>\n",
       "      <td>0.783</td>\n",
       "      <td>0.542</td>\n",
       "      <td>141240</td>\n",
       "      <td>0.347</td>\n",
       "      <td>0.000000</td>\n",
       "      <td>4</td>\n",
       "      <td>0.1440</td>\n",
       "      <td>-14.011</td>\n",
       "      <td>1</td>\n",
       "      <td>0.0268</td>\n",
       "      <td>4</td>\n",
       "      <td>0.596</td>\n",
       "      <td>sunshine pop</td>\n",
       "      <td>pop</td>\n",
       "      <td>1</td>\n",
       "      <td>0</td>\n",
       "    </tr>\n",
       "    <tr>\n",
       "      <th>4</th>\n",
       "      <td>50RwvvEKX5Q7AZt8FTAwIF</td>\n",
       "      <td>That'll Be The Day</td>\n",
       "      <td>Buddy Holly</td>\n",
       "      <td>3wYyutjgII8LJVVOLrGI0D</td>\n",
       "      <td>0.467</td>\n",
       "      <td>0.536</td>\n",
       "      <td>150133</td>\n",
       "      <td>0.637</td>\n",
       "      <td>0.000000</td>\n",
       "      <td>2</td>\n",
       "      <td>0.0838</td>\n",
       "      <td>-7.774</td>\n",
       "      <td>1</td>\n",
       "      <td>0.0343</td>\n",
       "      <td>4</td>\n",
       "      <td>0.798</td>\n",
       "      <td>rockabilly</td>\n",
       "      <td>rock</td>\n",
       "      <td>0</td>\n",
       "      <td>1</td>\n",
       "    </tr>\n",
       "    <tr>\n",
       "      <th>7</th>\n",
       "      <td>5ueyLj6e6oVaTY0KQ6yLaA</td>\n",
       "      <td>All Shook Up</td>\n",
       "      <td>Elvis Presley</td>\n",
       "      <td>43ZHCT0cAZBISjO8DG9PnE</td>\n",
       "      <td>0.881</td>\n",
       "      <td>0.624</td>\n",
       "      <td>117080</td>\n",
       "      <td>0.468</td>\n",
       "      <td>0.000006</td>\n",
       "      <td>10</td>\n",
       "      <td>0.1440</td>\n",
       "      <td>-12.162</td>\n",
       "      <td>1</td>\n",
       "      <td>0.1320</td>\n",
       "      <td>4</td>\n",
       "      <td>0.952</td>\n",
       "      <td>rockabilly</td>\n",
       "      <td>rock</td>\n",
       "      <td>0</td>\n",
       "      <td>1</td>\n",
       "    </tr>\n",
       "    <tr>\n",
       "      <th>8</th>\n",
       "      <td>2FkCjtQ1lYsf71s2FAS8hE</td>\n",
       "      <td>The Great Pretender</td>\n",
       "      <td>The Platters</td>\n",
       "      <td>6KWcxMWVNVIYbdOQyJtsSy</td>\n",
       "      <td>0.943</td>\n",
       "      <td>0.425</td>\n",
       "      <td>160667</td>\n",
       "      <td>0.401</td>\n",
       "      <td>0.000003</td>\n",
       "      <td>7</td>\n",
       "      <td>0.0720</td>\n",
       "      <td>-9.427</td>\n",
       "      <td>1</td>\n",
       "      <td>0.0315</td>\n",
       "      <td>3</td>\n",
       "      <td>0.531</td>\n",
       "      <td>rockabilly</td>\n",
       "      <td>rock</td>\n",
       "      <td>0</td>\n",
       "      <td>1</td>\n",
       "    </tr>\n",
       "    <tr>\n",
       "      <th>10</th>\n",
       "      <td>7ljPNANyoIDc7sL0PWaJlu</td>\n",
       "      <td>True Love Ways</td>\n",
       "      <td>Buddy Holly</td>\n",
       "      <td>3wYyutjgII8LJVVOLrGI0D</td>\n",
       "      <td>0.800</td>\n",
       "      <td>0.221</td>\n",
       "      <td>168707</td>\n",
       "      <td>0.124</td>\n",
       "      <td>0.103000</td>\n",
       "      <td>10</td>\n",
       "      <td>0.3160</td>\n",
       "      <td>-19.545</td>\n",
       "      <td>1</td>\n",
       "      <td>0.0346</td>\n",
       "      <td>4</td>\n",
       "      <td>0.276</td>\n",
       "      <td>rockabilly</td>\n",
       "      <td>rock</td>\n",
       "      <td>0</td>\n",
       "      <td>1</td>\n",
       "    </tr>\n",
       "  </tbody>\n",
       "</table>\n",
       "</div>"
      ],
      "text/plain": [
       "                        id                track names         artists name  \\\n",
       "3   72nqbbrKjhXmDdRXQGq115  All I Have to Do Is Dream  The Everly Brothers   \n",
       "4   50RwvvEKX5Q7AZt8FTAwIF         That'll Be The Day          Buddy Holly   \n",
       "7   5ueyLj6e6oVaTY0KQ6yLaA               All Shook Up        Elvis Presley   \n",
       "8   2FkCjtQ1lYsf71s2FAS8hE        The Great Pretender         The Platters   \n",
       "10  7ljPNANyoIDc7sL0PWaJlu             True Love Ways          Buddy Holly   \n",
       "\n",
       "                artists id  track acousticness  track danceability  \\\n",
       "3   4ACplpEqD6JIVgKrafauzs               0.783               0.542   \n",
       "4   3wYyutjgII8LJVVOLrGI0D               0.467               0.536   \n",
       "7   43ZHCT0cAZBISjO8DG9PnE               0.881               0.624   \n",
       "8   6KWcxMWVNVIYbdOQyJtsSy               0.943               0.425   \n",
       "10  3wYyutjgII8LJVVOLrGI0D               0.800               0.221   \n",
       "\n",
       "    track duration_ms  track energy  track instrumentalness  track key  \\\n",
       "3              141240         0.347                0.000000          4   \n",
       "4              150133         0.637                0.000000          2   \n",
       "7              117080         0.468                0.000006         10   \n",
       "8              160667         0.401                0.000003          7   \n",
       "10             168707         0.124                0.103000         10   \n",
       "\n",
       "    track liveness  track loudness  track mode  track speechiness  \\\n",
       "3           0.1440         -14.011           1             0.0268   \n",
       "4           0.0838          -7.774           1             0.0343   \n",
       "7           0.1440         -12.162           1             0.1320   \n",
       "8           0.0720          -9.427           1             0.0315   \n",
       "10          0.3160         -19.545           1             0.0346   \n",
       "\n",
       "    track time_signature  track valence        genres genres-transformed  pop  \\\n",
       "3                      4          0.596  sunshine pop                pop    1   \n",
       "4                      4          0.798    rockabilly               rock    0   \n",
       "7                      4          0.952    rockabilly               rock    0   \n",
       "8                      3          0.531    rockabilly               rock    0   \n",
       "10                     4          0.276    rockabilly               rock    0   \n",
       "\n",
       "    rock  \n",
       "3      0  \n",
       "4      1  \n",
       "7      1  \n",
       "8      1  \n",
       "10     1  "
      ]
     },
     "execution_count": 10,
     "metadata": {},
     "output_type": "execute_result"
    }
   ],
   "source": [
    "dummies = df2['genres-transformed'].str.get_dummies()\n",
    "df2 = pd.concat([df2, dummies], axis=1) \n",
    "df2.head()"
   ]
  },
  {
   "cell_type": "markdown",
   "metadata": {},
   "source": [
    "Our dataframe is ready to be processed!"
   ]
  },
  {
   "cell_type": "markdown",
   "metadata": {},
   "source": [
    "## Feature engineering"
   ]
  },
  {
   "cell_type": "markdown",
   "metadata": {},
   "source": [
    "For the above dataset, not a lot of transformation happens to the data. We did have to undergo a few steps to actually get the genre: Track id > artist id > genre, while the track feature is relatively easy: Track id > Feature track. We transformed all the pop and rock sub genres into just 2 genres: pop and rock to be used for the prediction.\n",
    "<hr>"
   ]
  },
  {
   "cell_type": "markdown",
   "metadata": {},
   "source": [
    "## Descriptive analysis"
   ]
  },
  {
   "cell_type": "markdown",
   "metadata": {},
   "source": [
    "Now, we're going to look at most strongly correlating variables, possibly also to the genres."
   ]
  },
  {
   "cell_type": "code",
   "execution_count": 11,
   "metadata": {},
   "outputs": [
    {
     "data": {
      "text/html": [
       "<div>\n",
       "<style scoped>\n",
       "    .dataframe tbody tr th:only-of-type {\n",
       "        vertical-align: middle;\n",
       "    }\n",
       "\n",
       "    .dataframe tbody tr th {\n",
       "        vertical-align: top;\n",
       "    }\n",
       "\n",
       "    .dataframe thead th {\n",
       "        text-align: right;\n",
       "    }\n",
       "</style>\n",
       "<table border=\"1\" class=\"dataframe\">\n",
       "  <thead>\n",
       "    <tr style=\"text-align: right;\">\n",
       "      <th></th>\n",
       "      <th>track acousticness</th>\n",
       "      <th>track danceability</th>\n",
       "      <th>track duration_ms</th>\n",
       "      <th>track energy</th>\n",
       "      <th>track instrumentalness</th>\n",
       "      <th>track key</th>\n",
       "      <th>track liveness</th>\n",
       "      <th>track loudness</th>\n",
       "      <th>track mode</th>\n",
       "      <th>track speechiness</th>\n",
       "      <th>track time_signature</th>\n",
       "      <th>track valence</th>\n",
       "      <th>pop</th>\n",
       "      <th>rock</th>\n",
       "    </tr>\n",
       "  </thead>\n",
       "  <tbody>\n",
       "    <tr>\n",
       "      <th>track acousticness</th>\n",
       "      <td>1.000000</td>\n",
       "      <td>-0.325963</td>\n",
       "      <td>-0.316790</td>\n",
       "      <td>-0.549173</td>\n",
       "      <td>0.039999</td>\n",
       "      <td>0.035869</td>\n",
       "      <td>0.041445</td>\n",
       "      <td>-0.378793</td>\n",
       "      <td>0.158691</td>\n",
       "      <td>-0.044606</td>\n",
       "      <td>-0.185844</td>\n",
       "      <td>-0.199465</td>\n",
       "      <td>-0.220072</td>\n",
       "      <td>0.220072</td>\n",
       "    </tr>\n",
       "    <tr>\n",
       "      <th>track danceability</th>\n",
       "      <td>-0.325963</td>\n",
       "      <td>1.000000</td>\n",
       "      <td>0.021089</td>\n",
       "      <td>0.292094</td>\n",
       "      <td>-0.032120</td>\n",
       "      <td>-0.046570</td>\n",
       "      <td>-0.110286</td>\n",
       "      <td>0.215987</td>\n",
       "      <td>-0.150075</td>\n",
       "      <td>0.134992</td>\n",
       "      <td>0.144364</td>\n",
       "      <td>0.486835</td>\n",
       "      <td>0.212921</td>\n",
       "      <td>-0.212921</td>\n",
       "    </tr>\n",
       "    <tr>\n",
       "      <th>track duration_ms</th>\n",
       "      <td>-0.316790</td>\n",
       "      <td>0.021089</td>\n",
       "      <td>1.000000</td>\n",
       "      <td>0.055000</td>\n",
       "      <td>0.015144</td>\n",
       "      <td>-0.046925</td>\n",
       "      <td>-0.069742</td>\n",
       "      <td>0.013321</td>\n",
       "      <td>-0.022688</td>\n",
       "      <td>-0.165117</td>\n",
       "      <td>-0.021977</td>\n",
       "      <td>-0.260616</td>\n",
       "      <td>0.007155</td>\n",
       "      <td>-0.007155</td>\n",
       "    </tr>\n",
       "    <tr>\n",
       "      <th>track energy</th>\n",
       "      <td>-0.549173</td>\n",
       "      <td>0.292094</td>\n",
       "      <td>0.055000</td>\n",
       "      <td>1.000000</td>\n",
       "      <td>-0.051124</td>\n",
       "      <td>-0.082386</td>\n",
       "      <td>0.162317</td>\n",
       "      <td>0.760627</td>\n",
       "      <td>-0.105331</td>\n",
       "      <td>0.233373</td>\n",
       "      <td>0.198085</td>\n",
       "      <td>0.442644</td>\n",
       "      <td>0.233613</td>\n",
       "      <td>-0.233613</td>\n",
       "    </tr>\n",
       "    <tr>\n",
       "      <th>track instrumentalness</th>\n",
       "      <td>0.039999</td>\n",
       "      <td>-0.032120</td>\n",
       "      <td>0.015144</td>\n",
       "      <td>-0.051124</td>\n",
       "      <td>1.000000</td>\n",
       "      <td>0.101629</td>\n",
       "      <td>0.059800</td>\n",
       "      <td>-0.127103</td>\n",
       "      <td>-0.068596</td>\n",
       "      <td>-0.013902</td>\n",
       "      <td>0.031890</td>\n",
       "      <td>-0.024010</td>\n",
       "      <td>-0.053833</td>\n",
       "      <td>0.053833</td>\n",
       "    </tr>\n",
       "    <tr>\n",
       "      <th>track key</th>\n",
       "      <td>0.035869</td>\n",
       "      <td>-0.046570</td>\n",
       "      <td>-0.046925</td>\n",
       "      <td>-0.082386</td>\n",
       "      <td>0.101629</td>\n",
       "      <td>1.000000</td>\n",
       "      <td>-0.054596</td>\n",
       "      <td>-0.091884</td>\n",
       "      <td>-0.133738</td>\n",
       "      <td>0.076995</td>\n",
       "      <td>0.009970</td>\n",
       "      <td>-0.086439</td>\n",
       "      <td>0.022966</td>\n",
       "      <td>-0.022966</td>\n",
       "    </tr>\n",
       "    <tr>\n",
       "      <th>track liveness</th>\n",
       "      <td>0.041445</td>\n",
       "      <td>-0.110286</td>\n",
       "      <td>-0.069742</td>\n",
       "      <td>0.162317</td>\n",
       "      <td>0.059800</td>\n",
       "      <td>-0.054596</td>\n",
       "      <td>1.000000</td>\n",
       "      <td>0.147987</td>\n",
       "      <td>0.013749</td>\n",
       "      <td>0.067814</td>\n",
       "      <td>-0.039646</td>\n",
       "      <td>0.052834</td>\n",
       "      <td>0.079953</td>\n",
       "      <td>-0.079953</td>\n",
       "    </tr>\n",
       "    <tr>\n",
       "      <th>track loudness</th>\n",
       "      <td>-0.378793</td>\n",
       "      <td>0.215987</td>\n",
       "      <td>0.013321</td>\n",
       "      <td>0.760627</td>\n",
       "      <td>-0.127103</td>\n",
       "      <td>-0.091884</td>\n",
       "      <td>0.147987</td>\n",
       "      <td>1.000000</td>\n",
       "      <td>-0.092289</td>\n",
       "      <td>0.196601</td>\n",
       "      <td>0.113795</td>\n",
       "      <td>0.146077</td>\n",
       "      <td>0.299494</td>\n",
       "      <td>-0.299494</td>\n",
       "    </tr>\n",
       "    <tr>\n",
       "      <th>track mode</th>\n",
       "      <td>0.158691</td>\n",
       "      <td>-0.150075</td>\n",
       "      <td>-0.022688</td>\n",
       "      <td>-0.105331</td>\n",
       "      <td>-0.068596</td>\n",
       "      <td>-0.133738</td>\n",
       "      <td>0.013749</td>\n",
       "      <td>-0.092289</td>\n",
       "      <td>1.000000</td>\n",
       "      <td>-0.115032</td>\n",
       "      <td>-0.047155</td>\n",
       "      <td>-0.106192</td>\n",
       "      <td>-0.147524</td>\n",
       "      <td>0.147524</td>\n",
       "    </tr>\n",
       "    <tr>\n",
       "      <th>track speechiness</th>\n",
       "      <td>-0.044606</td>\n",
       "      <td>0.134992</td>\n",
       "      <td>-0.165117</td>\n",
       "      <td>0.233373</td>\n",
       "      <td>-0.013902</td>\n",
       "      <td>0.076995</td>\n",
       "      <td>0.067814</td>\n",
       "      <td>0.196601</td>\n",
       "      <td>-0.115032</td>\n",
       "      <td>1.000000</td>\n",
       "      <td>0.047243</td>\n",
       "      <td>0.188793</td>\n",
       "      <td>0.119881</td>\n",
       "      <td>-0.119881</td>\n",
       "    </tr>\n",
       "    <tr>\n",
       "      <th>track time_signature</th>\n",
       "      <td>-0.185844</td>\n",
       "      <td>0.144364</td>\n",
       "      <td>-0.021977</td>\n",
       "      <td>0.198085</td>\n",
       "      <td>0.031890</td>\n",
       "      <td>0.009970</td>\n",
       "      <td>-0.039646</td>\n",
       "      <td>0.113795</td>\n",
       "      <td>-0.047155</td>\n",
       "      <td>0.047243</td>\n",
       "      <td>1.000000</td>\n",
       "      <td>0.195430</td>\n",
       "      <td>0.041992</td>\n",
       "      <td>-0.041992</td>\n",
       "    </tr>\n",
       "    <tr>\n",
       "      <th>track valence</th>\n",
       "      <td>-0.199465</td>\n",
       "      <td>0.486835</td>\n",
       "      <td>-0.260616</td>\n",
       "      <td>0.442644</td>\n",
       "      <td>-0.024010</td>\n",
       "      <td>-0.086439</td>\n",
       "      <td>0.052834</td>\n",
       "      <td>0.146077</td>\n",
       "      <td>-0.106192</td>\n",
       "      <td>0.188793</td>\n",
       "      <td>0.195430</td>\n",
       "      <td>1.000000</td>\n",
       "      <td>0.090464</td>\n",
       "      <td>-0.090464</td>\n",
       "    </tr>\n",
       "    <tr>\n",
       "      <th>pop</th>\n",
       "      <td>-0.220072</td>\n",
       "      <td>0.212921</td>\n",
       "      <td>0.007155</td>\n",
       "      <td>0.233613</td>\n",
       "      <td>-0.053833</td>\n",
       "      <td>0.022966</td>\n",
       "      <td>0.079953</td>\n",
       "      <td>0.299494</td>\n",
       "      <td>-0.147524</td>\n",
       "      <td>0.119881</td>\n",
       "      <td>0.041992</td>\n",
       "      <td>0.090464</td>\n",
       "      <td>1.000000</td>\n",
       "      <td>-1.000000</td>\n",
       "    </tr>\n",
       "    <tr>\n",
       "      <th>rock</th>\n",
       "      <td>0.220072</td>\n",
       "      <td>-0.212921</td>\n",
       "      <td>-0.007155</td>\n",
       "      <td>-0.233613</td>\n",
       "      <td>0.053833</td>\n",
       "      <td>-0.022966</td>\n",
       "      <td>-0.079953</td>\n",
       "      <td>-0.299494</td>\n",
       "      <td>0.147524</td>\n",
       "      <td>-0.119881</td>\n",
       "      <td>-0.041992</td>\n",
       "      <td>-0.090464</td>\n",
       "      <td>-1.000000</td>\n",
       "      <td>1.000000</td>\n",
       "    </tr>\n",
       "  </tbody>\n",
       "</table>\n",
       "</div>"
      ],
      "text/plain": [
       "                        track acousticness  track danceability  \\\n",
       "track acousticness                1.000000           -0.325963   \n",
       "track danceability               -0.325963            1.000000   \n",
       "track duration_ms                -0.316790            0.021089   \n",
       "track energy                     -0.549173            0.292094   \n",
       "track instrumentalness            0.039999           -0.032120   \n",
       "track key                         0.035869           -0.046570   \n",
       "track liveness                    0.041445           -0.110286   \n",
       "track loudness                   -0.378793            0.215987   \n",
       "track mode                        0.158691           -0.150075   \n",
       "track speechiness                -0.044606            0.134992   \n",
       "track time_signature             -0.185844            0.144364   \n",
       "track valence                    -0.199465            0.486835   \n",
       "pop                              -0.220072            0.212921   \n",
       "rock                              0.220072           -0.212921   \n",
       "\n",
       "                        track duration_ms  track energy  \\\n",
       "track acousticness              -0.316790     -0.549173   \n",
       "track danceability               0.021089      0.292094   \n",
       "track duration_ms                1.000000      0.055000   \n",
       "track energy                     0.055000      1.000000   \n",
       "track instrumentalness           0.015144     -0.051124   \n",
       "track key                       -0.046925     -0.082386   \n",
       "track liveness                  -0.069742      0.162317   \n",
       "track loudness                   0.013321      0.760627   \n",
       "track mode                      -0.022688     -0.105331   \n",
       "track speechiness               -0.165117      0.233373   \n",
       "track time_signature            -0.021977      0.198085   \n",
       "track valence                   -0.260616      0.442644   \n",
       "pop                              0.007155      0.233613   \n",
       "rock                            -0.007155     -0.233613   \n",
       "\n",
       "                        track instrumentalness  track key  track liveness  \\\n",
       "track acousticness                    0.039999   0.035869        0.041445   \n",
       "track danceability                   -0.032120  -0.046570       -0.110286   \n",
       "track duration_ms                     0.015144  -0.046925       -0.069742   \n",
       "track energy                         -0.051124  -0.082386        0.162317   \n",
       "track instrumentalness                1.000000   0.101629        0.059800   \n",
       "track key                             0.101629   1.000000       -0.054596   \n",
       "track liveness                        0.059800  -0.054596        1.000000   \n",
       "track loudness                       -0.127103  -0.091884        0.147987   \n",
       "track mode                           -0.068596  -0.133738        0.013749   \n",
       "track speechiness                    -0.013902   0.076995        0.067814   \n",
       "track time_signature                  0.031890   0.009970       -0.039646   \n",
       "track valence                        -0.024010  -0.086439        0.052834   \n",
       "pop                                  -0.053833   0.022966        0.079953   \n",
       "rock                                  0.053833  -0.022966       -0.079953   \n",
       "\n",
       "                        track loudness  track mode  track speechiness  \\\n",
       "track acousticness           -0.378793    0.158691          -0.044606   \n",
       "track danceability            0.215987   -0.150075           0.134992   \n",
       "track duration_ms             0.013321   -0.022688          -0.165117   \n",
       "track energy                  0.760627   -0.105331           0.233373   \n",
       "track instrumentalness       -0.127103   -0.068596          -0.013902   \n",
       "track key                    -0.091884   -0.133738           0.076995   \n",
       "track liveness                0.147987    0.013749           0.067814   \n",
       "track loudness                1.000000   -0.092289           0.196601   \n",
       "track mode                   -0.092289    1.000000          -0.115032   \n",
       "track speechiness             0.196601   -0.115032           1.000000   \n",
       "track time_signature          0.113795   -0.047155           0.047243   \n",
       "track valence                 0.146077   -0.106192           0.188793   \n",
       "pop                           0.299494   -0.147524           0.119881   \n",
       "rock                         -0.299494    0.147524          -0.119881   \n",
       "\n",
       "                        track time_signature  track valence       pop  \\\n",
       "track acousticness                 -0.185844      -0.199465 -0.220072   \n",
       "track danceability                  0.144364       0.486835  0.212921   \n",
       "track duration_ms                  -0.021977      -0.260616  0.007155   \n",
       "track energy                        0.198085       0.442644  0.233613   \n",
       "track instrumentalness              0.031890      -0.024010 -0.053833   \n",
       "track key                           0.009970      -0.086439  0.022966   \n",
       "track liveness                     -0.039646       0.052834  0.079953   \n",
       "track loudness                      0.113795       0.146077  0.299494   \n",
       "track mode                         -0.047155      -0.106192 -0.147524   \n",
       "track speechiness                   0.047243       0.188793  0.119881   \n",
       "track time_signature                1.000000       0.195430  0.041992   \n",
       "track valence                       0.195430       1.000000  0.090464   \n",
       "pop                                 0.041992       0.090464  1.000000   \n",
       "rock                               -0.041992      -0.090464 -1.000000   \n",
       "\n",
       "                            rock  \n",
       "track acousticness      0.220072  \n",
       "track danceability     -0.212921  \n",
       "track duration_ms      -0.007155  \n",
       "track energy           -0.233613  \n",
       "track instrumentalness  0.053833  \n",
       "track key              -0.022966  \n",
       "track liveness         -0.079953  \n",
       "track loudness         -0.299494  \n",
       "track mode              0.147524  \n",
       "track speechiness      -0.119881  \n",
       "track time_signature   -0.041992  \n",
       "track valence          -0.090464  \n",
       "pop                    -1.000000  \n",
       "rock                    1.000000  "
      ]
     },
     "execution_count": 11,
     "metadata": {},
     "output_type": "execute_result"
    }
   ],
   "source": [
    "corr = df2.corr()\n",
    "corr"
   ]
  },
  {
   "cell_type": "code",
   "execution_count": 12,
   "metadata": {},
   "outputs": [
    {
     "data": {
      "image/png": "[encoded data removed]",
      "text/plain": [
       "<Figure size 432x288 with 2 Axes>"
      ]
     },
     "metadata": {
      "needs_background": "light"
     },
     "output_type": "display_data"
    }
   ],
   "source": [
    "sns.heatmap(corr, xticklabels=corr.columns, yticklabels=corr.columns, cmap=\"YlGnBu\")\n",
    "plt.show()"
   ]
  },
  {
   "cell_type": "markdown",
   "metadata": {},
   "source": [
    "From the above correlation table and heatmap, there is no variable that is strongly correlated to the pop and rock genre. Let's now take a look at the track features correlation. We can see that the correlation between track energy and track loudness are highest at 0.76. Let's analyze these in the below graphs!"
   ]
  },
  {
   "cell_type": "code",
   "execution_count": 13,
   "metadata": {},
   "outputs": [
    {
     "data": {
      "text/plain": [
       "Text(0.5, 1.0, 'Track Energy per Genres')"
      ]
     },
     "execution_count": 13,
     "metadata": {},
     "output_type": "execute_result"
    },
    {
     "data": {
      "image/png": "[encoded data removed]",
      "text/plain": [
       "<Figure size 360x360 with 1 Axes>"
      ]
     },
     "metadata": {
      "needs_background": "light"
     },
     "output_type": "display_data"
    }
   ],
   "source": [
    "g = sns.catplot(x=\"genres-transformed\", y=\"track energy\", kind=\"violin\", inner=None, data=df2)\n",
    "sns.swarmplot(x=\"genres-transformed\", y=\"track energy\", color=\"k\", size=3, data=df2, ax=g.ax)\n",
    "plt.xlabel('Genres') \n",
    "plt.ylabel('Track Energy')\n",
    "plt.title('Track Energy per Genres')"
   ]
  },
  {
   "cell_type": "markdown",
   "metadata": {},
   "source": [
    "In the graph above, we can see that pop track energy is more grouped in 0.6 to 0.8 while track energy for pop is relatively more spread out from 0.4 to 0.9."
   ]
  },
  {
   "cell_type": "code",
   "execution_count": 14,
   "metadata": {},
   "outputs": [
    {
     "data": {
      "text/plain": [
       "Text(0.5, 1.0, 'Track Loudness per Genres')"
      ]
     },
     "execution_count": 14,
     "metadata": {},
     "output_type": "execute_result"
    },
    {
     "data": {
      "image/png": "[encoded data removed]",
      "text/plain": [
       "<Figure size 360x360 with 1 Axes>"
      ]
     },
     "metadata": {
      "needs_background": "light"
     },
     "output_type": "display_data"
    }
   ],
   "source": [
    "g = sns.catplot(x=\"genres-transformed\", y=\"track loudness\", kind=\"violin\", inner=None, data=df2)\n",
    "sns.swarmplot(x=\"genres-transformed\", y=\"track loudness\", color=\"k\", size=3, data=df2, ax=g.ax)\n",
    "plt.xlabel('Genres') \n",
    "plt.ylabel('Track Loudness')\n",
    "plt.title('Track Loudness per Genres')"
   ]
  },
  {
   "cell_type": "markdown",
   "metadata": {},
   "source": [
    "In the above graph, we can see that pop track loudness is once again more grouped in around -5 while track loudness for rock is more spread out in range, from almost -25decibel to more than 0 decibel. The track loudness for rock is also a bit more even, grouped around -15 until around -6.<br>\n",
    "<br>\n",
    "From the above two graphs we can see that pop music are generally higher in the energy and loudness. Rock music energy and loudness are relatively more spread oud in comparison to pop music."
   ]
  },
  {
   "cell_type": "code",
   "execution_count": 15,
   "metadata": {},
   "outputs": [
    {
     "data": {
      "image/png": "[encoded data removed]",
      "text/plain": [
       "<Figure size 360x360 with 1 Axes>"
      ]
     },
     "metadata": {
      "needs_background": "light"
     },
     "output_type": "display_data"
    }
   ],
   "source": [
    "sns.lmplot(x='track energy', y='track loudness', fit_reg=True, data=df2, scatter_kws={'alpha':0.3})\n",
    "plt.xlabel('Track Energy') \n",
    "plt.ylabel('Track Loudness')\n",
    "plt.title('Track Energy in Comparison to Track Loudness')\n",
    "plt.show()"
   ]
  },
  {
   "cell_type": "markdown",
   "metadata": {},
   "source": [
    "The above graph shows the track energy on the x axis and track loudness on the y axis. In this graph, we can analyze better the relationship between the two variables. The track energy that are low or from 0 to 0.4 have their track loudness until around -15 decibels. The track energy that are higher or more than 0.5, have their track loudness ranged from -15 to -2 decibels. The graph shows relatively linear distribution of dots, meaning that the track energy have linear relation to track loudness. The higher the track energy, the higher the track loudness."
   ]
  },
  {
   "cell_type": "markdown",
   "metadata": {},
   "source": [
    "## Predictive model"
   ]
  },
  {
   "cell_type": "markdown",
   "metadata": {},
   "source": [
    "In this project, we will use Random Forest Classifier. Why random forest? Random forests consist of multiple single trees each based on a random sample of the training data. They are typically more accurate than single decision trees. Random forest also can be used to predict both classification and regression. For this project, classification will be predicted by predicting the track genre."
   ]
  },
  {
   "cell_type": "code",
   "execution_count": 16,
   "metadata": {},
   "outputs": [
    {
     "data": {
      "text/plain": [
       "rock    385\n",
       "pop     147\n",
       "Name: genres-transformed, dtype: int64"
      ]
     },
     "execution_count": 16,
     "metadata": {},
     "output_type": "execute_result"
    }
   ],
   "source": [
    "df2['genres-transformed'].value_counts()"
   ]
  },
  {
   "cell_type": "markdown",
   "metadata": {},
   "source": [
    "Looking at the number above, rock genre has more data. It seems like it will be more difficult to predict pop genre. If we guess that a track is rock, we have roughly 72% accuracy. However, we will also take a look at the precision and recall as well in the later stage."
   ]
  },
  {
   "cell_type": "markdown",
   "metadata": {},
   "source": [
    "### Training the algorithm"
   ]
  },
  {
   "cell_type": "markdown",
   "metadata": {},
   "source": [
    "We will use the track features as the X variables. The X variables will be used to predict the genre.<br>\n",
    "<br>\n",
    "In the below cell, the training and test data are separated by 70% and 30%. This built-in function from sk-learn splits the data set randomly into a train set and a test set."
   ]
  },
  {
   "cell_type": "code",
   "execution_count": 17,
   "metadata": {},
   "outputs": [],
   "source": [
    "X = df2.loc[:,'track acousticness':'track valence']\n",
    "y = df2['genres-transformed']\n",
    "X_train, X_test, y_train, y_test = train_test_split(X, y, test_size=0.3, random_state=1)"
   ]
  },
  {
   "cell_type": "markdown",
   "metadata": {},
   "source": [
    "#### Random Forest model"
   ]
  },
  {
   "cell_type": "markdown",
   "metadata": {},
   "source": [
    "The below random forest model is a built-in function from sk-learn. RF uses randomness, a random_state is set for stability of result. Traditionally, literature suggests 10 more trees to be used in this model. But in this project, we'll use 100 (see n_estimators below)."
   ]
  },
  {
   "cell_type": "code",
   "execution_count": 18,
   "metadata": {},
   "outputs": [],
   "source": [
    "rf = RandomForestClassifier(random_state=1, n_estimators=100)\n",
    "rf = rf.fit(X_train, y_train)"
   ]
  },
  {
   "cell_type": "markdown",
   "metadata": {},
   "source": [
    "### Evaluating the model"
   ]
  },
  {
   "cell_type": "markdown",
   "metadata": {},
   "source": [
    "In the below, we're going to evaluate the model using a confusion matrix and calculating accuracy, precision and recall. This is typical for classification problem."
   ]
  },
  {
   "cell_type": "code",
   "execution_count": 19,
   "metadata": {},
   "outputs": [
    {
     "data": {
      "text/plain": [
       "array([[14, 41],\n",
       "       [ 9, 96]])"
      ]
     },
     "execution_count": 19,
     "metadata": {},
     "output_type": "execute_result"
    }
   ],
   "source": [
    "y_test_pred = rf.predict(X_test)\n",
    "cm = confusion_matrix(y_test, y_test_pred)\n",
    "cm"
   ]
  },
  {
   "cell_type": "code",
   "execution_count": 20,
   "metadata": {},
   "outputs": [
    {
     "data": {
      "text/html": [
       "<div>\n",
       "<style scoped>\n",
       "    .dataframe tbody tr th:only-of-type {\n",
       "        vertical-align: middle;\n",
       "    }\n",
       "\n",
       "    .dataframe tbody tr th {\n",
       "        vertical-align: top;\n",
       "    }\n",
       "\n",
       "    .dataframe thead th {\n",
       "        text-align: right;\n",
       "    }\n",
       "</style>\n",
       "<table border=\"1\" class=\"dataframe\">\n",
       "  <thead>\n",
       "    <tr style=\"text-align: right;\">\n",
       "      <th></th>\n",
       "      <th>pop  (predicted)</th>\n",
       "      <th>rock (predicted)</th>\n",
       "    </tr>\n",
       "  </thead>\n",
       "  <tbody>\n",
       "    <tr>\n",
       "      <th>pop (actual)</th>\n",
       "      <td>14</td>\n",
       "      <td>41</td>\n",
       "    </tr>\n",
       "    <tr>\n",
       "      <th>rock (actual)</th>\n",
       "      <td>9</td>\n",
       "      <td>96</td>\n",
       "    </tr>\n",
       "  </tbody>\n",
       "</table>\n",
       "</div>"
      ],
      "text/plain": [
       "               pop  (predicted)  rock (predicted)\n",
       "pop (actual)                 14                41\n",
       "rock (actual)                 9                96"
      ]
     },
     "execution_count": 20,
     "metadata": {},
     "output_type": "execute_result"
    }
   ],
   "source": [
    "y_pred = rf.predict(X_test) \n",
    "conf_matrix = confusion_matrix(y_test, y_pred) \n",
    "conf_matrix = pd.DataFrame(cm, index=['pop (actual)', 'rock (actual)'], columns = ['pop  (predicted)', 'rock (predicted)']) \n",
    "conf_matrix"
   ]
  },
  {
   "cell_type": "markdown",
   "metadata": {},
   "source": [
    "Based on the number of confusion matrix, rock is predicted better than pop. Now, let's calculate the accuracy, precision and recall."
   ]
  },
  {
   "cell_type": "markdown",
   "metadata": {},
   "source": [
    "To manually calculate the proportion of correctly predicted or accuracy, the formula is as follows:<br>\n",
    "<br>\n",
    "$ accuracy = \\frac{correctlyPredicted}{totalCases} $<br>\n",
    "<br>According to the formula, the accuracy of our prediction is 79%. That's quite good for predicting music."
   ]
  },
  {
   "cell_type": "code",
   "execution_count": 28,
   "metadata": {},
   "outputs": [
    {
     "name": "stdout",
     "output_type": "stream",
     "text": [
      "Accuracy:\n"
     ]
    },
    {
     "data": {
      "text/plain": [
       "0.6875"
      ]
     },
     "execution_count": 28,
     "metadata": {},
     "output_type": "execute_result"
    }
   ],
   "source": [
    "print(\"Accuracy:\")\n",
    "(14+96)/(14+9+41+96)"
   ]
  },
  {
   "cell_type": "markdown",
   "metadata": {},
   "source": [
    "To manually calculate the proportion of how much predicted is the actual or the precision, the formula is as follows:<br>\n",
    "<br>\n",
    "$ precision(var) = \\frac{correctlyPredicted(var)}{totalPrediction(var)} $<br>\n",
    "<br>According to the formula, the precision for pop is 62% and for rock is 82%. Good number for rock, but just okay for pop."
   ]
  },
  {
   "cell_type": "code",
   "execution_count": 22,
   "metadata": {},
   "outputs": [
    {
     "name": "stdout",
     "output_type": "stream",
     "text": [
      "Precision for pop:\n"
     ]
    },
    {
     "data": {
      "text/plain": [
       "0.6153846153846154"
      ]
     },
     "execution_count": 22,
     "metadata": {},
     "output_type": "execute_result"
    }
   ],
   "source": [
    "print(\"Precision for pop:\")\n",
    "(16)/(16+10)"
   ]
  },
  {
   "cell_type": "code",
   "execution_count": 23,
   "metadata": {},
   "outputs": [
    {
     "name": "stdout",
     "output_type": "stream",
     "text": [
      "Precision for rock:\n"
     ]
    },
    {
     "data": {
      "text/plain": [
       "0.8208955223880597"
      ]
     },
     "execution_count": 23,
     "metadata": {},
     "output_type": "execute_result"
    }
   ],
   "source": [
    "print(\"Precision for rock:\")\n",
    "(110)/(24+110)"
   ]
  },
  {
   "cell_type": "markdown",
   "metadata": {},
   "source": [
    "To manually calculate the proportion of how much the actual is in the prediction or recall, the formula is as follows:<br>\n",
    "<br>\n",
    "$ recall(var) = \\frac{correctlyPredicted(var)}{totalActual(var)} $<br>\n",
    "<br>According to the formula, the recall for pop is 40% which is not that good, but the recall for rock is very good with 92%."
   ]
  },
  {
   "cell_type": "code",
   "execution_count": 24,
   "metadata": {},
   "outputs": [
    {
     "name": "stdout",
     "output_type": "stream",
     "text": [
      "Recall for pop:\n"
     ]
    },
    {
     "data": {
      "text/plain": [
       "0.4"
      ]
     },
     "execution_count": 24,
     "metadata": {},
     "output_type": "execute_result"
    }
   ],
   "source": [
    "print(\"Recall for pop:\")\n",
    "(16)/(16+24)"
   ]
  },
  {
   "cell_type": "code",
   "execution_count": 25,
   "metadata": {},
   "outputs": [
    {
     "name": "stdout",
     "output_type": "stream",
     "text": [
      "Recall for rock:\n"
     ]
    },
    {
     "data": {
      "text/plain": [
       "0.9166666666666666"
      ]
     },
     "execution_count": 25,
     "metadata": {},
     "output_type": "execute_result"
    }
   ],
   "source": [
    "print(\"Recall for rock:\")\n",
    "(110)/(10+110)"
   ]
  },
  {
   "cell_type": "markdown",
   "metadata": {},
   "source": [
    "Now that we have the result through manual calculation, we'll calculate and analyze precision and recall with *classification_report*."
   ]
  },
  {
   "cell_type": "code",
   "execution_count": 26,
   "metadata": {},
   "outputs": [
    {
     "name": "stdout",
     "output_type": "stream",
     "text": [
      "              precision    recall  f1-score   support\n",
      "\n",
      "         pop       0.61      0.25      0.36        55\n",
      "        rock       0.70      0.91      0.79       105\n",
      "\n",
      "    accuracy                           0.69       160\n",
      "   macro avg       0.65      0.58      0.58       160\n",
      "weighted avg       0.67      0.69      0.64       160\n",
      "\n"
     ]
    }
   ],
   "source": [
    "from sklearn.metrics import classification_report\n",
    "print(classification_report(y_test, y_pred))"
   ]
  },
  {
   "cell_type": "markdown",
   "metadata": {},
   "source": [
    "The accuracy of the prediction is 79%, which is good for music prediction. The precision for rock music is very good with 0.82, while for pop is in the border of okay and not okay with 0.62. The recall for rock is great with 0.92 while the recall for rock is relatively bad with 0.40. As we can see, the precision and recall number is the same calculated manually and using _classification model_.<br>\n",
    "<br>\n",
    "<u>Let's say Spotify is to create a pop and rock playlist with the above calculation. If spotify only put tracks they know 100% sure are rock, they will get only rock tracks (high precision) and many too (high recall). If on the other hand, Spotify is to create pop playlist, they will have little amount of pop songs (low precision and low recall).</u>\n",
    "<hr>"
   ]
  },
  {
   "cell_type": "markdown",
   "metadata": {},
   "source": [
    "## Taking out variables"
   ]
  },
  {
   "cell_type": "markdown",
   "metadata": {},
   "source": [
    "When taking out one variable at a time from the model above, sometimes the precision and recall is up a little bit, around 0.02. From all calculation, when track speechiness is taken out of the X variables, it causes the most change in the precision and recall as follows: precision for pop is 0.66 and rock is 0.84 while recall for pop is 0.47 and rock is the same 0.92.\n",
    "<hr>"
   ]
  },
  {
   "cell_type": "markdown",
   "metadata": {},
   "source": [
    "## Different parameters"
   ]
  },
  {
   "cell_type": "markdown",
   "metadata": {},
   "source": [
    "In this section, we're going to try different parameters for our model. *N_estimators* is by default set to 10 and in our previous calculation, we set it to 100. Let's now use 1. The *max_features*, we're going to set it to the square root of the number variables, which is rounded up to 3."
   ]
  },
  {
   "cell_type": "code",
   "execution_count": 27,
   "metadata": {},
   "outputs": [
    {
     "name": "stdout",
     "output_type": "stream",
     "text": [
      "              precision    recall  f1-score   support\n",
      "\n",
      "         pop       0.49      0.36      0.42        55\n",
      "        rock       0.71      0.80      0.75       105\n",
      "\n",
      "    accuracy                           0.65       160\n",
      "   macro avg       0.60      0.58      0.58       160\n",
      "weighted avg       0.63      0.65      0.64       160\n",
      "\n"
     ]
    }
   ],
   "source": [
    "rf_new  = RandomForestClassifier(n_estimators = 1, max_features = 3, random_state=1) #RF is a random algorithm, so to get the same results we need to use random_state\n",
    "rf_new = rf_new.fit(X_train, y_train)\n",
    "y_pred_new = rf_new.predict(X_test) #the predicted values\n",
    "print(classification_report(y_test, y_pred_new))\n"
   ]
  },
  {
   "cell_type": "markdown",
   "metadata": {},
   "source": [
    "The precision, recall and accuracy are all at loss. The previous values are still better than the new parameters.\n",
    "<hr>"
   ]
  },
  {
   "cell_type": "markdown",
   "metadata": {},
   "source": [
    "## KNN"
   ]
  },
  {
   "cell_type": "markdown",
   "metadata": {},
   "source": [
    "When tried with KNN model, the accuracy is 67.5%. With 5 neighbours (out of 10 neighbours in the range), the precision and recall are generally the highest: precision for pop is 0.40 and rock is 0.78 while recall for pop is 0.30 and rock is the same 0.85. This means, even the best number in this model still are less than the result of Random Forest model that we use in the beginning.\n",
    "<hr>"
   ]
  },
  {
   "cell_type": "markdown",
   "metadata": {},
   "source": [
    "## Bibliography\n",
    "\n",
    "Web API Reference | Spotify for Developers. (n.d.). Spotify. Retrieved January 20, 2021, from https://developer.spotify.com/documentation/web-api/reference/#objects-index"
   ]
  }
 ],
 "metadata": {
  "kernelspec": {
   "display_name": "Python 3",
   "language": "python",
   "name": "python3"
  },
  "language_info": {
   "codemirror_mode": {
    "name": "ipython",
    "version": 3
   },
   "file_extension": ".py",
   "mimetype": "text/x-python",
   "name": "python",
   "nbconvert_exporter": "python",
   "pygments_lexer": "ipython3",
   "version": "3.7.6"
  }
 },
 "nbformat": 4,
 "nbformat_minor": 4
}
