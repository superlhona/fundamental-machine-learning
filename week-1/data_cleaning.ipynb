{
 "cells": [
  {
   "cell_type": "markdown",
   "metadata": {},
   "source": [
    "## Data cleaning exercise "
   ]
  },
  {
   "cell_type": "markdown",
   "metadata": {},
   "source": [
    "Fundamental Data Learning | Week 1"
   ]
  },
  {
   "cell_type": "markdown",
   "metadata": {},
   "source": [
    " "
   ]
  },
  {
   "cell_type": "markdown",
   "metadata": {},
   "source": [
    "The following are the head() of 2 provided data frames for this excercise:\n",
    "- df1 is taken from steps.csv\n",
    "- df2 is taken from survey.csv\n",
    "\n",
    "steps.csv is using semicolon for its separator, which is not the standard csv separator.\n",
    "Therefore in .read_csv command, the type of separator must be defined."
   ]
  },
  {
   "cell_type": "code",
   "execution_count": 10,
   "metadata": {},
   "outputs": [
    {
     "data": {
      "text/html": [
       "<div>\n",
       "<style scoped>\n",
       "    .dataframe tbody tr th:only-of-type {\n",
       "        vertical-align: middle;\n",
       "    }\n",
       "\n",
       "    .dataframe tbody tr th {\n",
       "        vertical-align: top;\n",
       "    }\n",
       "\n",
       "    .dataframe thead th {\n",
       "        text-align: right;\n",
       "    }\n",
       "</style>\n",
       "<table border=\"1\" class=\"dataframe\">\n",
       "  <thead>\n",
       "    <tr style=\"text-align: right;\">\n",
       "      <th></th>\n",
       "      <th>id</th>\n",
       "      <th>20-6-2013</th>\n",
       "      <th>21-6-2013</th>\n",
       "      <th>22-6-2013</th>\n",
       "      <th>23-6-2013</th>\n",
       "      <th>24-6-2013</th>\n",
       "      <th>25-6-2013</th>\n",
       "      <th>26-6-2013</th>\n",
       "      <th>27-6-2013</th>\n",
       "      <th>28-6-2013</th>\n",
       "      <th>...</th>\n",
       "      <th>4-5-2014</th>\n",
       "      <th>5-5-2014</th>\n",
       "      <th>6-5-2014</th>\n",
       "      <th>7-5-2014</th>\n",
       "      <th>8-5-2014</th>\n",
       "      <th>9-5-2014</th>\n",
       "      <th>10-5-2014</th>\n",
       "      <th>11-5-2014</th>\n",
       "      <th>12-5-2014</th>\n",
       "      <th>13-5-2014</th>\n",
       "    </tr>\n",
       "  </thead>\n",
       "  <tbody>\n",
       "    <tr>\n",
       "      <th>0</th>\n",
       "      <td>1</td>\n",
       "      <td>NaN</td>\n",
       "      <td>NaN</td>\n",
       "      <td>NaN</td>\n",
       "      <td>NaN</td>\n",
       "      <td>3941.0</td>\n",
       "      <td>15733.0</td>\n",
       "      <td>9929.0</td>\n",
       "      <td>12879.0</td>\n",
       "      <td>10541.0</td>\n",
       "      <td>...</td>\n",
       "      <td>NaN</td>\n",
       "      <td>NaN</td>\n",
       "      <td>NaN</td>\n",
       "      <td>NaN</td>\n",
       "      <td>NaN</td>\n",
       "      <td>NaN</td>\n",
       "      <td>NaN</td>\n",
       "      <td>NaN</td>\n",
       "      <td>NaN</td>\n",
       "      <td>NaN</td>\n",
       "    </tr>\n",
       "    <tr>\n",
       "      <th>1</th>\n",
       "      <td>2</td>\n",
       "      <td>NaN</td>\n",
       "      <td>NaN</td>\n",
       "      <td>10473.0</td>\n",
       "      <td>705.0</td>\n",
       "      <td>4287.0</td>\n",
       "      <td>5507.0</td>\n",
       "      <td>4024.0</td>\n",
       "      <td>3926.0</td>\n",
       "      <td>14595.0</td>\n",
       "      <td>...</td>\n",
       "      <td>NaN</td>\n",
       "      <td>NaN</td>\n",
       "      <td>NaN</td>\n",
       "      <td>NaN</td>\n",
       "      <td>NaN</td>\n",
       "      <td>NaN</td>\n",
       "      <td>NaN</td>\n",
       "      <td>NaN</td>\n",
       "      <td>NaN</td>\n",
       "      <td>NaN</td>\n",
       "    </tr>\n",
       "    <tr>\n",
       "      <th>2</th>\n",
       "      <td>3</td>\n",
       "      <td>NaN</td>\n",
       "      <td>11428.0</td>\n",
       "      <td>12523.0</td>\n",
       "      <td>2553.0</td>\n",
       "      <td>190.0</td>\n",
       "      <td>2164.0</td>\n",
       "      <td>8185.0</td>\n",
       "      <td>9630.0</td>\n",
       "      <td>8983.0</td>\n",
       "      <td>...</td>\n",
       "      <td>3914.0</td>\n",
       "      <td>4364.0</td>\n",
       "      <td>NaN</td>\n",
       "      <td>NaN</td>\n",
       "      <td>NaN</td>\n",
       "      <td>6227.0</td>\n",
       "      <td>4567.0</td>\n",
       "      <td>2567.0</td>\n",
       "      <td>1129.0</td>\n",
       "      <td>NaN</td>\n",
       "    </tr>\n",
       "    <tr>\n",
       "      <th>3</th>\n",
       "      <td>4</td>\n",
       "      <td>NaN</td>\n",
       "      <td>NaN</td>\n",
       "      <td>NaN</td>\n",
       "      <td>NaN</td>\n",
       "      <td>NaN</td>\n",
       "      <td>NaN</td>\n",
       "      <td>NaN</td>\n",
       "      <td>NaN</td>\n",
       "      <td>NaN</td>\n",
       "      <td>...</td>\n",
       "      <td>NaN</td>\n",
       "      <td>NaN</td>\n",
       "      <td>NaN</td>\n",
       "      <td>NaN</td>\n",
       "      <td>NaN</td>\n",
       "      <td>NaN</td>\n",
       "      <td>NaN</td>\n",
       "      <td>NaN</td>\n",
       "      <td>NaN</td>\n",
       "      <td>NaN</td>\n",
       "    </tr>\n",
       "    <tr>\n",
       "      <th>4</th>\n",
       "      <td>5</td>\n",
       "      <td>NaN</td>\n",
       "      <td>NaN</td>\n",
       "      <td>NaN</td>\n",
       "      <td>NaN</td>\n",
       "      <td>NaN</td>\n",
       "      <td>NaN</td>\n",
       "      <td>NaN</td>\n",
       "      <td>NaN</td>\n",
       "      <td>NaN</td>\n",
       "      <td>...</td>\n",
       "      <td>NaN</td>\n",
       "      <td>NaN</td>\n",
       "      <td>NaN</td>\n",
       "      <td>NaN</td>\n",
       "      <td>NaN</td>\n",
       "      <td>NaN</td>\n",
       "      <td>NaN</td>\n",
       "      <td>NaN</td>\n",
       "      <td>NaN</td>\n",
       "      <td>NaN</td>\n",
       "    </tr>\n",
       "  </tbody>\n",
       "</table>\n",
       "<p>5 rows × 329 columns</p>\n",
       "</div>"
      ],
      "text/plain": [
       "   id  20-6-2013  21-6-2013  22-6-2013  23-6-2013  24-6-2013  25-6-2013  \\\n",
       "0   1        NaN        NaN        NaN        NaN     3941.0    15733.0   \n",
       "1   2        NaN        NaN    10473.0      705.0     4287.0     5507.0   \n",
       "2   3        NaN    11428.0    12523.0     2553.0      190.0     2164.0   \n",
       "3   4        NaN        NaN        NaN        NaN        NaN        NaN   \n",
       "4   5        NaN        NaN        NaN        NaN        NaN        NaN   \n",
       "\n",
       "   26-6-2013  27-6-2013  28-6-2013  ...  4-5-2014  5-5-2014  6-5-2014  \\\n",
       "0     9929.0    12879.0    10541.0  ...       NaN       NaN       NaN   \n",
       "1     4024.0     3926.0    14595.0  ...       NaN       NaN       NaN   \n",
       "2     8185.0     9630.0     8983.0  ...    3914.0    4364.0       NaN   \n",
       "3        NaN        NaN        NaN  ...       NaN       NaN       NaN   \n",
       "4        NaN        NaN        NaN  ...       NaN       NaN       NaN   \n",
       "\n",
       "   7-5-2014  8-5-2014  9-5-2014  10-5-2014  11-5-2014  12-5-2014  13-5-2014  \n",
       "0       NaN       NaN       NaN        NaN        NaN        NaN        NaN  \n",
       "1       NaN       NaN       NaN        NaN        NaN        NaN        NaN  \n",
       "2       NaN       NaN    6227.0     4567.0     2567.0     1129.0        NaN  \n",
       "3       NaN       NaN       NaN        NaN        NaN        NaN        NaN  \n",
       "4       NaN       NaN       NaN        NaN        NaN        NaN        NaN  \n",
       "\n",
       "[5 rows x 329 columns]"
      ]
     },
     "execution_count": 10,
     "metadata": {},
     "output_type": "execute_result"
    }
   ],
   "source": [
    "import seaborn as sns\n",
    "import pandas as pd\n",
    "import matplotlib.pyplot as plt\n",
    "\n",
    "df1 = pd.read_csv('steps.csv', sep=';')\n",
    "df1.head()"
   ]
  },
  {
   "cell_type": "code",
   "execution_count": 11,
   "metadata": {},
   "outputs": [
    {
     "data": {
      "text/html": [
       "<div>\n",
       "<style scoped>\n",
       "    .dataframe tbody tr th:only-of-type {\n",
       "        vertical-align: middle;\n",
       "    }\n",
       "\n",
       "    .dataframe tbody tr th {\n",
       "        vertical-align: top;\n",
       "    }\n",
       "\n",
       "    .dataframe thead th {\n",
       "        text-align: right;\n",
       "    }\n",
       "</style>\n",
       "<table border=\"1\" class=\"dataframe\">\n",
       "  <thead>\n",
       "    <tr style=\"text-align: right;\">\n",
       "      <th></th>\n",
       "      <th>id</th>\n",
       "      <th>city</th>\n",
       "      <th>gender</th>\n",
       "      <th>age</th>\n",
       "      <th>hh_size</th>\n",
       "      <th>education</th>\n",
       "      <th>education_1</th>\n",
       "      <th>height</th>\n",
       "      <th>weight</th>\n",
       "    </tr>\n",
       "  </thead>\n",
       "  <tbody>\n",
       "    <tr>\n",
       "      <th>0</th>\n",
       "      <td>1</td>\n",
       "      <td>Bordeaux</td>\n",
       "      <td>Male</td>\n",
       "      <td>25-34</td>\n",
       "      <td>4</td>\n",
       "      <td>4</td>\n",
       "      <td>Master or doctorate</td>\n",
       "      <td>178.0</td>\n",
       "      <td>98.0</td>\n",
       "    </tr>\n",
       "    <tr>\n",
       "      <th>1</th>\n",
       "      <td>2</td>\n",
       "      <td>Lille</td>\n",
       "      <td>Male</td>\n",
       "      <td>35-44</td>\n",
       "      <td>1</td>\n",
       "      <td>3</td>\n",
       "      <td>Bachelor</td>\n",
       "      <td>180.0</td>\n",
       "      <td>77.0</td>\n",
       "    </tr>\n",
       "    <tr>\n",
       "      <th>2</th>\n",
       "      <td>3</td>\n",
       "      <td>Montpellier</td>\n",
       "      <td>Male</td>\n",
       "      <td>25-34</td>\n",
       "      <td>2</td>\n",
       "      <td>2</td>\n",
       "      <td>Master or doctorate</td>\n",
       "      <td>180.0</td>\n",
       "      <td>83.0</td>\n",
       "    </tr>\n",
       "    <tr>\n",
       "      <th>3</th>\n",
       "      <td>4</td>\n",
       "      <td>Lyon</td>\n",
       "      <td>Male</td>\n",
       "      <td>&lt;25</td>\n",
       "      <td>1</td>\n",
       "      <td>1</td>\n",
       "      <td>Bachelor</td>\n",
       "      <td>178.0</td>\n",
       "      <td>80.0</td>\n",
       "    </tr>\n",
       "    <tr>\n",
       "      <th>4</th>\n",
       "      <td>5</td>\n",
       "      <td>Montpellier</td>\n",
       "      <td>Female</td>\n",
       "      <td>25-34</td>\n",
       "      <td>3</td>\n",
       "      <td>4</td>\n",
       "      <td>Bachelor</td>\n",
       "      <td>167.0</td>\n",
       "      <td>61.0</td>\n",
       "    </tr>\n",
       "  </tbody>\n",
       "</table>\n",
       "</div>"
      ],
      "text/plain": [
       "   id         city  gender    age  hh_size  education          education_1  \\\n",
       "0   1     Bordeaux    Male  25-34        4          4  Master or doctorate   \n",
       "1   2        Lille    Male  35-44        1          3             Bachelor   \n",
       "2   3  Montpellier    Male  25-34        2          2  Master or doctorate   \n",
       "3   4         Lyon    Male    <25        1          1             Bachelor   \n",
       "4   5  Montpellier  Female  25-34        3          4             Bachelor   \n",
       "\n",
       "   height  weight  \n",
       "0   178.0    98.0  \n",
       "1   180.0    77.0  \n",
       "2   180.0    83.0  \n",
       "3   178.0    80.0  \n",
       "4   167.0    61.0  "
      ]
     },
     "execution_count": 11,
     "metadata": {},
     "output_type": "execute_result"
    }
   ],
   "source": [
    "df2 = pd.read_csv('survey.csv')\n",
    "df2.head()"
   ]
  },
  {
   "cell_type": "markdown",
   "metadata": {},
   "source": [
    " "
   ]
  },
  {
   "cell_type": "markdown",
   "metadata": {},
   "source": [
    "In the next step, I measure the median of steps per day from dataframe number 1.\n",
    "Then I transpose the dataframe so it has 2 columns only (index which shows date and the median itself) so that later on it's easier to make graph from."
   ]
  },
  {
   "cell_type": "code",
   "execution_count": 30,
   "metadata": {},
   "outputs": [
    {
     "data": {
      "text/html": [
       "<div>\n",
       "<style scoped>\n",
       "    .dataframe tbody tr th:only-of-type {\n",
       "        vertical-align: middle;\n",
       "    }\n",
       "\n",
       "    .dataframe tbody tr th {\n",
       "        vertical-align: top;\n",
       "    }\n",
       "\n",
       "    .dataframe thead th {\n",
       "        text-align: right;\n",
       "    }\n",
       "</style>\n",
       "<table border=\"1\" class=\"dataframe\">\n",
       "  <thead>\n",
       "    <tr style=\"text-align: right;\">\n",
       "      <th></th>\n",
       "      <th>index</th>\n",
       "      <th>median</th>\n",
       "    </tr>\n",
       "  </thead>\n",
       "  <tbody>\n",
       "    <tr>\n",
       "      <th>0</th>\n",
       "      <td>20-6-2013</td>\n",
       "      <td>834.0</td>\n",
       "    </tr>\n",
       "    <tr>\n",
       "      <th>1</th>\n",
       "      <td>21-6-2013</td>\n",
       "      <td>8561.0</td>\n",
       "    </tr>\n",
       "    <tr>\n",
       "      <th>2</th>\n",
       "      <td>22-6-2013</td>\n",
       "      <td>9980.0</td>\n",
       "    </tr>\n",
       "    <tr>\n",
       "      <th>3</th>\n",
       "      <td>23-6-2013</td>\n",
       "      <td>5652.0</td>\n",
       "    </tr>\n",
       "    <tr>\n",
       "      <th>4</th>\n",
       "      <td>24-6-2013</td>\n",
       "      <td>7740.0</td>\n",
       "    </tr>\n",
       "    <tr>\n",
       "      <th>...</th>\n",
       "      <td>...</td>\n",
       "      <td>...</td>\n",
       "    </tr>\n",
       "    <tr>\n",
       "      <th>322</th>\n",
       "      <td>8-5-2014</td>\n",
       "      <td>5378.0</td>\n",
       "    </tr>\n",
       "    <tr>\n",
       "      <th>323</th>\n",
       "      <td>9-5-2014</td>\n",
       "      <td>7235.0</td>\n",
       "    </tr>\n",
       "    <tr>\n",
       "      <th>324</th>\n",
       "      <td>10-5-2014</td>\n",
       "      <td>6627.0</td>\n",
       "    </tr>\n",
       "    <tr>\n",
       "      <th>325</th>\n",
       "      <td>11-5-2014</td>\n",
       "      <td>3120.0</td>\n",
       "    </tr>\n",
       "    <tr>\n",
       "      <th>326</th>\n",
       "      <td>12-5-2014</td>\n",
       "      <td>6568.0</td>\n",
       "    </tr>\n",
       "  </tbody>\n",
       "</table>\n",
       "<p>327 rows × 2 columns</p>\n",
       "</div>"
      ],
      "text/plain": [
       "         index  median\n",
       "0    20-6-2013   834.0\n",
       "1    21-6-2013  8561.0\n",
       "2    22-6-2013  9980.0\n",
       "3    23-6-2013  5652.0\n",
       "4    24-6-2013  7740.0\n",
       "..         ...     ...\n",
       "322   8-5-2014  5378.0\n",
       "323   9-5-2014  7235.0\n",
       "324  10-5-2014  6627.0\n",
       "325  11-5-2014  3120.0\n",
       "326  12-5-2014  6568.0\n",
       "\n",
       "[327 rows x 2 columns]"
      ]
     },
     "execution_count": 30,
     "metadata": {},
     "output_type": "execute_result"
    }
   ],
   "source": [
    "#measure median of steps per day\n",
    "median_of_steps = pd.DataFrame(df1.median().to_dict(),index=[df1.index.values[-1]])\n",
    "median_of_steps = median_of_steps.round() #round the number\n",
    "median_of_steps.drop('id', axis=1, inplace=True) #remove column with id index (clean up)\n",
    "\n",
    "#transpose the dataframe\n",
    "median_of_steps = median_of_steps.transpose()\n",
    "median_of_steps = median_of_steps.rename(columns={928: 'median'})\n",
    "median_of_steps_new = median_of_steps['median'].dropna().reset_index().copy()\n",
    "median_of_steps_new"
   ]
  },
  {
   "cell_type": "markdown",
   "metadata": {},
   "source": [
    "The index column which shows the date needs to be adjusted to date time type to be able to show the date on the graph as follows:"
   ]
  },
  {
   "cell_type": "code",
   "execution_count": 31,
   "metadata": {},
   "outputs": [
    {
     "name": "stdout",
     "output_type": "stream",
     "text": [
      "<class 'pandas.core.frame.DataFrame'>\n",
      "RangeIndex: 327 entries, 0 to 326\n",
      "Data columns (total 2 columns):\n",
      " #   Column  Non-Null Count  Dtype         \n",
      "---  ------  --------------  -----         \n",
      " 0   index   327 non-null    datetime64[ns]\n",
      " 1   median  327 non-null    float64       \n",
      "dtypes: datetime64[ns](1), float64(1)\n",
      "memory usage: 5.2 KB\n"
     ]
    }
   ],
   "source": [
    "median_of_steps_new['index'] = pd.to_datetime(median_of_steps_new['index'])"
   ]
  },
  {
   "cell_type": "markdown",
   "metadata": {},
   "source": [
    "The below graph shows the median of steps daily with month on the x axis. It's interesting that there are a few points/ days which median is either so low or so high. Also that between July 2013 to May 2014, there are more data registered."
   ]
  },
  {
   "cell_type": "code",
   "execution_count": 69,
   "metadata": {},
   "outputs": [
    {
     "data": {
      "text/plain": [
       "Text(0.5, 0.98, 'Median of steps daily')"
      ]
     },
     "execution_count": 69,
     "metadata": {},
     "output_type": "execute_result"
    },
    {
     "data": {
      "image/png": "[encoded data removed]",
      "text/plain": [
       "<Figure size 360x360 with 1 Axes>"
      ]
     },
     "metadata": {
      "needs_background": "light"
     },
     "output_type": "display_data"
    }
   ],
   "source": [
    "g = sns.relplot(x=\"index\", y=\"median\", kind=\"line\", data=median_of_steps_new)\n",
    "g.fig.autofmt_xdate()\n",
    "\n",
    "g.fig.suptitle('Median of steps daily')"
   ]
  },
  {
   "cell_type": "markdown",
   "metadata": {},
   "source": [
    "The below is the median of steps in KDE displot graph. What's interesting is that there's a big deep curve in around April 2014. This type of curve shows the range of median numbers nicely."
   ]
  },
  {
   "cell_type": "code",
   "execution_count": 70,
   "metadata": {},
   "outputs": [
    {
     "data": {
      "text/plain": [
       "Text(0.5, 0.98, 'Median of steps daily')"
      ]
     },
     "execution_count": 70,
     "metadata": {},
     "output_type": "execute_result"
    },
    {
     "data": {
      "image/png": "[encoded data removed]",
      "text/plain": [
       "<Figure size 360x360 with 1 Axes>"
      ]
     },
     "metadata": {
      "needs_background": "light"
     },
     "output_type": "display_data"
    }
   ],
   "source": [
    "x = sns.displot(median_of_steps_new, x=\"index\", y=\"median\", kind=\"kde\")\n",
    "x.fig.autofmt_xdate()\n",
    "\n",
    "x.fig.suptitle('Median of steps daily')"
   ]
  },
  {
   "cell_type": "markdown",
   "metadata": {},
   "source": [
    "The below is the median of steps in displot bar graph. With the below graph, it's interesting that we can see the mean of the median steps are just before the highest peak in the graph. I'm not sure if the graph is correct however, since the X and Y axis doesn't show the same values as the previous charts. To my limited undestanding of statistics, the graph below has negative skew."
   ]
  },
  {
   "cell_type": "code",
   "execution_count": 77,
   "metadata": {},
   "outputs": [
    {
     "name": "stderr",
     "output_type": "stream",
     "text": [
      "/opt/anaconda3/lib/python3.7/site-packages/seaborn/distributions.py:2551: FutureWarning: `distplot` is a deprecated function and will be removed in a future version. Please adapt your code to use either `displot` (a figure-level function with similar flexibility) or `histplot` (an axes-level function for histograms).\n",
      "  warnings.warn(msg, FutureWarning)\n"
     ]
    },
    {
     "data": {
      "image/png": "[encoded data removed]",
      "text/plain": [
       "<Figure size 432x288 with 1 Axes>"
      ]
     },
     "metadata": {
      "needs_background": "light"
     },
     "output_type": "display_data"
    }
   ],
   "source": [
    "mean_size = median_of_steps_new['median'].mean()\n",
    "median_size = median_of_steps_new['median'].median()\n",
    "\n",
    "sns.distplot(median_of_steps_new['median'], kde=True)\n",
    "plt.axvline(mean_size, 0, 100, color='green', label='mean')\n",
    "plt.axvline(median_size, 0, 100, color='red', label='median')\n",
    "plt.legend()\n",
    "plt.title('The mean & median amount of daily median steps')\n",
    "plt.show()\n",
    "\n",
    "#How can I make this with the same data as the above?"
   ]
  },
  {
   "cell_type": "code",
   "execution_count": 76,
   "metadata": {},
   "outputs": [],
   "source": [
    "#In this exercise, I'm only using 1 csv. Should I actually use both? I was not sure.\n",
    "#I really don't understand what normality, skewness, outliers mean. Can this please be explained a bit more in class?"
   ]
  },
  {
   "cell_type": "code",
   "execution_count": null,
   "metadata": {},
   "outputs": [],
   "source": []
  },
  {
   "cell_type": "code",
   "execution_count": null,
   "metadata": {},
   "outputs": [],
   "source": []
  },
  {
   "cell_type": "code",
   "execution_count": null,
   "metadata": {},
   "outputs": [],
   "source": []
  },
  {
   "cell_type": "code",
   "execution_count": null,
   "metadata": {},
   "outputs": [],
   "source": []
  },
  {
   "cell_type": "code",
   "execution_count": null,
   "metadata": {},
   "outputs": [],
   "source": []
  },
  {
   "cell_type": "code",
   "execution_count": null,
   "metadata": {},
   "outputs": [],
   "source": []
  }
 ],
 "metadata": {
  "kernelspec": {
   "display_name": "Python 3",
   "language": "python",
   "name": "python3"
  },
  "language_info": {
   "codemirror_mode": {
    "name": "ipython",
    "version": 3
   },
   "file_extension": ".py",
   "mimetype": "text/x-python",
   "name": "python",
   "nbconvert_exporter": "python",
   "pygments_lexer": "ipython3",
   "version": "3.7.6"
  }
 },
 "nbformat": 4,
 "nbformat_minor": 2
}
