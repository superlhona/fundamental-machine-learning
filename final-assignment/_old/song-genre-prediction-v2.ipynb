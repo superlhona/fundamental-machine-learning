{
 "cells": [
  {
   "cell_type": "markdown",
   "metadata": {},
   "source": [
    "# Song genre prediction\n",
    "<b>Predict a song genre using its track information and features</b>"
   ]
  },
  {
   "cell_type": "markdown",
   "metadata": {},
   "source": [
    "For this project, my research question is: <b>Can we predict a track genre based on track info and features?</b><br>\n",
    "<br>\n",
    "Through its API, Spotify provided users with variety of track features, from tempo and key to whether the song is with lyrics or not and whether the song is suitable for dancing or not. These track features will be the X variables. Using these track features, I will predict the genre of the song. This also means, that genre is the Y variable.<br>\n",
    "<br>\n",
    "The unit of observation of this project is song. I will use 6 Spotify playlists from 6 different era: All Out 50s, All Out 60s, All Out 70s, All Out 80s, All Out 90s, and All Out 00s. Each playlist consist of minimum 100 songs.<br>\n",
    "<br>\n",
    "For this proejctI will use <a href=\"https://github.com/plamere/spotipy\">Spotipy</a> library to get data from Spotify API. Let's get started!"
   ]
  },
  {
   "cell_type": "markdown",
   "metadata": {},
   "source": [
    "## Data processing"
   ]
  },
  {
   "cell_type": "markdown",
   "metadata": {},
   "source": [
    "In this section, I will firstly get the track IDs from all the playlist. Then, I from each track ID, will get the track features. From the Artist data, I will then get the possible genre of the song. Why possible genre? Because in Spotify, the genre is related to the artist, not the song. Therefore, each song might be tagged with multiple genre. These list of genre that is a categorical variables then will be transformed into dummy variables.\n",
    "<hr>"
   ]
  },
  {
   "cell_type": "markdown",
   "metadata": {},
   "source": [
    "Import necessary libraries for this project, then connect with my Spotify for Developer credentials"
   ]
  },
  {
   "cell_type": "code",
   "execution_count": 116,
   "metadata": {},
   "outputs": [],
   "source": [
    "from __future__ import print_function\n",
    "import spotipy\n",
    "from spotipy.oauth2 import SpotifyClientCredentials\n",
    "from pprint import pprint\n",
    "import json\n",
    "import csv\n",
    "import time\n",
    "import sys\n",
    "import seaborn as sns\n",
    "import pandas as pd\n",
    "import matplotlib.pyplot as plt\n",
    "from sklearn.model_selection import train_test_split\n",
    "from sklearn.ensemble import RandomForestClassifier \n",
    "from sklearn.metrics import confusion_matrix\n",
    "from sklearn.metrics import classification_report\n",
    "import sklearn as sk\n",
    "\n",
    "sp = spotipy.Spotify(client_credentials_manager=SpotifyClientCredentials(client_id='eaa563769e874ccd85c8185f682ef625', client_secret='9d60c77a99e34791a1b126a06d43dcf6'))"
   ]
  },
  {
   "cell_type": "markdown",
   "metadata": {},
   "source": [
    "Next, define the playlist IDs I'm going to work with. Since I hand-picked the playlist through Spotify Web Player, I was able to get the playlist ID through Spotify Web Player. Another way of doing this is to get a list of a user's playlist and search for the playlist IDs.<br>\n",
    "<br>\n",
    "In the below array, the playlist are sorted by oldest to newest (50s to 00s)"
   ]
  },
  {
   "cell_type": "code",
   "execution_count": 2,
   "metadata": {},
   "outputs": [],
   "source": [
    "playlists = ['37i9dQZF1DWSV3Tk4GO2fq', '37i9dQZF1DXaKIA8E7WcJj', '37i9dQZF1DWTJ7xPn4vNaz', '37i9dQZF1DX4UtSsGT1Sbe', '37i9dQZF1DXbTxeAdrVG2l', '37i9dQZF1DX4o1oenSJRJd']"
   ]
  },
  {
   "cell_type": "markdown",
   "metadata": {},
   "source": [
    "In the below code, we're getting the track IDs of every song on the above playlists and save them in a csv file, so that we can work with the data locally in the next process."
   ]
  },
  {
   "cell_type": "code",
   "execution_count": 3,
   "metadata": {},
   "outputs": [],
   "source": [
    "#source this\n",
    "get_tracks = []\n",
    "\n",
    "for list in playlists:\n",
    "    offset = 0    \n",
    "    \n",
    "    while True:\n",
    "        response = sp.playlist_items(list,\n",
    "                                     offset=offset,\n",
    "                                     fields='items.track.id,total',\n",
    "                                     additional_types=['track'])\n",
    "\n",
    "        if len(response['items']) == 0:\n",
    "            break\n",
    "        \n",
    "        get_tracks.extend(response['items'])\n",
    "        offset = offset + len(response['items'])\n",
    "        \n",
    "\n",
    "with open(\"tracks.json\", \"w\") as outfile:\n",
    "    json.dump(get_tracks, outfile)"
   ]
  },
  {
   "cell_type": "markdown",
   "metadata": {},
   "source": [
    "In the below code, we take the tracks data stored locally and continue work with it. The data was saved as json file, we're going to transform it into a dataframe (df) for further working on it."
   ]
  },
  {
   "cell_type": "code",
   "execution_count": 4,
   "metadata": {
    "scrolled": true
   },
   "outputs": [
    {
     "data": {
      "text/html": [
       "<div>\n",
       "<style scoped>\n",
       "    .dataframe tbody tr th:only-of-type {\n",
       "        vertical-align: middle;\n",
       "    }\n",
       "\n",
       "    .dataframe tbody tr th {\n",
       "        vertical-align: top;\n",
       "    }\n",
       "\n",
       "    .dataframe thead th {\n",
       "        text-align: right;\n",
       "    }\n",
       "</style>\n",
       "<table border=\"1\" class=\"dataframe\">\n",
       "  <thead>\n",
       "    <tr style=\"text-align: right;\">\n",
       "      <th></th>\n",
       "      <th>id</th>\n",
       "    </tr>\n",
       "  </thead>\n",
       "  <tbody>\n",
       "    <tr>\n",
       "      <th>0</th>\n",
       "      <td>06PdA0DLgF4BfAeUNZAbFG</td>\n",
       "    </tr>\n",
       "    <tr>\n",
       "      <th>1</th>\n",
       "      <td>3KzgdYUlqV6TOG7JCmx2Wg</td>\n",
       "    </tr>\n",
       "    <tr>\n",
       "      <th>2</th>\n",
       "      <td>40KCF1U2DNceYsugxZQruU</td>\n",
       "    </tr>\n",
       "    <tr>\n",
       "      <th>3</th>\n",
       "      <td>72nqbbrKjhXmDdRXQGq115</td>\n",
       "    </tr>\n",
       "    <tr>\n",
       "      <th>4</th>\n",
       "      <td>5ueyLj6e6oVaTY0KQ6yLaA</td>\n",
       "    </tr>\n",
       "  </tbody>\n",
       "</table>\n",
       "</div>"
      ],
      "text/plain": [
       "                       id\n",
       "0  06PdA0DLgF4BfAeUNZAbFG\n",
       "1  3KzgdYUlqV6TOG7JCmx2Wg\n",
       "2  40KCF1U2DNceYsugxZQruU\n",
       "3  72nqbbrKjhXmDdRXQGq115\n",
       "4  5ueyLj6e6oVaTY0KQ6yLaA"
      ]
     },
     "execution_count": 4,
     "metadata": {},
     "output_type": "execute_result"
    }
   ],
   "source": [
    "import pandas as pd\n",
    "\n",
    "data = pd.read_json(\"tracks.json\")\n",
    "df = pd.json_normalize(data['track'])\n",
    "df.head()"
   ]
  },
  {
   "cell_type": "markdown",
   "metadata": {},
   "source": [
    "In the next step, we take the track names, artist names and artist ids from the track id data we have."
   ]
  },
  {
   "cell_type": "code",
   "execution_count": 5,
   "metadata": {},
   "outputs": [
    {
     "data": {
      "text/html": [
       "<div>\n",
       "<style scoped>\n",
       "    .dataframe tbody tr th:only-of-type {\n",
       "        vertical-align: middle;\n",
       "    }\n",
       "\n",
       "    .dataframe tbody tr th {\n",
       "        vertical-align: top;\n",
       "    }\n",
       "\n",
       "    .dataframe thead th {\n",
       "        text-align: right;\n",
       "    }\n",
       "</style>\n",
       "<table border=\"1\" class=\"dataframe\">\n",
       "  <thead>\n",
       "    <tr style=\"text-align: right;\">\n",
       "      <th></th>\n",
       "      <th>id</th>\n",
       "      <th>track names</th>\n",
       "      <th>artists name</th>\n",
       "      <th>artists id</th>\n",
       "    </tr>\n",
       "  </thead>\n",
       "  <tbody>\n",
       "    <tr>\n",
       "      <th>0</th>\n",
       "      <td>06PdA0DLgF4BfAeUNZAbFG</td>\n",
       "      <td>Blueberry Hill</td>\n",
       "      <td>Fats Domino</td>\n",
       "      <td>09C0xjtosNAIXP36wTnWxd</td>\n",
       "    </tr>\n",
       "    <tr>\n",
       "      <th>1</th>\n",
       "      <td>3KzgdYUlqV6TOG7JCmx2Wg</td>\n",
       "      <td>Beyond the Sea</td>\n",
       "      <td>Bobby Darin</td>\n",
       "      <td>0EodhzA6yW1bIdD5B4tcmJ</td>\n",
       "    </tr>\n",
       "    <tr>\n",
       "      <th>2</th>\n",
       "      <td>40KCF1U2DNceYsugxZQruU</td>\n",
       "      <td>Broken Hearted Melody</td>\n",
       "      <td>Sarah Vaughan</td>\n",
       "      <td>1bgyxtWjZwA5PQlDsvs9b8</td>\n",
       "    </tr>\n",
       "    <tr>\n",
       "      <th>3</th>\n",
       "      <td>72nqbbrKjhXmDdRXQGq115</td>\n",
       "      <td>All I Have to Do Is Dream</td>\n",
       "      <td>The Everly Brothers</td>\n",
       "      <td>4ACplpEqD6JIVgKrafauzs</td>\n",
       "    </tr>\n",
       "    <tr>\n",
       "      <th>4</th>\n",
       "      <td>5ueyLj6e6oVaTY0KQ6yLaA</td>\n",
       "      <td>All Shook Up</td>\n",
       "      <td>Elvis Presley</td>\n",
       "      <td>43ZHCT0cAZBISjO8DG9PnE</td>\n",
       "    </tr>\n",
       "  </tbody>\n",
       "</table>\n",
       "</div>"
      ],
      "text/plain": [
       "                       id                track names         artists name  \\\n",
       "0  06PdA0DLgF4BfAeUNZAbFG             Blueberry Hill          Fats Domino   \n",
       "1  3KzgdYUlqV6TOG7JCmx2Wg             Beyond the Sea          Bobby Darin   \n",
       "2  40KCF1U2DNceYsugxZQruU      Broken Hearted Melody        Sarah Vaughan   \n",
       "3  72nqbbrKjhXmDdRXQGq115  All I Have to Do Is Dream  The Everly Brothers   \n",
       "4  5ueyLj6e6oVaTY0KQ6yLaA               All Shook Up        Elvis Presley   \n",
       "\n",
       "               artists id  \n",
       "0  09C0xjtosNAIXP36wTnWxd  \n",
       "1  0EodhzA6yW1bIdD5B4tcmJ  \n",
       "2  1bgyxtWjZwA5PQlDsvs9b8  \n",
       "3  4ACplpEqD6JIVgKrafauzs  \n",
       "4  43ZHCT0cAZBISjO8DG9PnE  "
      ]
     },
     "execution_count": 5,
     "metadata": {},
     "output_type": "execute_result"
    }
   ],
   "source": [
    "#source this\n",
    "tracks = df['id']\n",
    "track_names = []\n",
    "track_artists_name = []\n",
    "track_artists_id = []\n",
    "\n",
    "for track in tracks:\n",
    "    urn = 'spotify:track:' + track\n",
    "    track = sp.track(urn)\n",
    "    track_name = track['name']\n",
    "    track_artist_name = track['artists'][0]['name']\n",
    "    track_artist_id = track['artists'][0]['id']\n",
    "    track_explicit = track['explicit']\n",
    "    track_album_type = track['album']['album_type']\n",
    "    track_names.append(track_name)\n",
    "    track_artists_name.append(track_artist_name)\n",
    "    track_artists_id.append(track_artist_id)\n",
    "    \n",
    "df['track names'] = track_names\n",
    "df['artists name'] = track_artists_name\n",
    "df['artists id'] = track_artists_id\n",
    "\n",
    "df.head()"
   ]
  },
  {
   "cell_type": "markdown",
   "metadata": {},
   "source": [
    "Next:<br>\n",
    "From each track ID, will get the track features consisting of the following (Web API Reference | Spotify for Developers, n.d.):\n",
    "<ul>\n",
    "    <li><b>Accousticness</b> (A confidence measure from 0.0 to 1.0 of whether the track is acoustic. 1.0 represents high confidence the track is acoustic.)</li>\n",
    "    <li><b>Danceability</b> (Danceability describes how suitable a track is for dancing based on a combination of musical elements including tempo, rhythm stability, beat strength, and overall regularity. A value of 0.0 is least danceable and 1.0 is most danceable.)</li>\n",
    "    <li><b>Duration_ms</b> (The duration of the track in milliseconds.)</li>\n",
    "    <li><b>Energy</b> (Energy is a measure from 0.0 to 1.0 and represents a perceptual measure of intensity and activity. Typically, energetic tracks feel fast, loud, and noisy. For example, death metal has high energy, while a Bach prelude scores low on the scale. Perceptual features contributing to this attribute include dynamic range, perceived loudness, timbre, onset rate, and general entropy.)</li>\n",
    "    <li><b>Instrumentalness</b> (Predicts whether a track contains no vocals. “Ooh” and “aah” sounds are treated as instrumental in this context. Rap or spoken word tracks are clearly “vocal”. The closer the instrumentalness value is to 1.0, the greater likelihood the track contains no vocal content. Values above 0.5 are intended to represent instrumental tracks, but confidence is higher as the value approaches 1.0.)</li>\n",
    "    <li><b>Key</b> (The key the track is in. Integers map to pitches using standard Pitch Class notation. E.g. 0 = C, 1 = C♯/D♭, 2 = D, and so on.)</li>\n",
    "    <li><b>Liveness</b> (Detects the presence of an audience in the recording. Higher liveness values represent an increased probability that the track was performed live. A value above 0.8 provides strong likelihood that the track is live.)</li>\n",
    "    <li><b>Loudness</b> (The overall loudness of a track in decibels (dB). Loudness values are averaged across the entire track and are useful for comparing relative loudness of tracks. Loudness is the quality of a sound that is the primary psychological correlate of physical strength (amplitude). Values typical range between -60 and 0 db.)</li>\n",
    "    <li><b>Mode</b> (Mode indicates the modality (major or minor) of a track, the type of scale from which its melodic content is derived. Major is represented by 1 and minor is 0.)</li>\n",
    "    <li><b>Speechiness</b> (Speechiness detects the presence of spoken words in a track. The more exclusively speech-like the recording (e.g. talk show, audio book, poetry), the closer to 1.0 the attribute value. Values above 0.66 describe tracks that are probably made entirely of spoken words. Values between 0.33 and 0.66 describe tracks that may contain both music and speech, either in sections or layered, including such cases as rap music. Values below 0.33 most likely represent music and other non-speech-like tracks.)</li>\n",
    "    <li><b>Time signature</b> (An estimated overall time signature of a track. The time signature (meter) is a notational convention to specify how many beats are in each bar (or measure).)</li>\n",
    "    <li><b>Valence</b> (A measure from 0.0 to 1.0 describing the musical positiveness conveyed by a track. Tracks with high valence sound more positive (e.g. happy, cheerful, euphoric), while tracks with low valence sound more negative (e.g. sad, depressed, angry).)</li>\n",
    "</ul>"
   ]
  },
  {
   "cell_type": "code",
   "execution_count": 6,
   "metadata": {},
   "outputs": [
    {
     "data": {
      "text/html": [
       "<div>\n",
       "<style scoped>\n",
       "    .dataframe tbody tr th:only-of-type {\n",
       "        vertical-align: middle;\n",
       "    }\n",
       "\n",
       "    .dataframe tbody tr th {\n",
       "        vertical-align: top;\n",
       "    }\n",
       "\n",
       "    .dataframe thead th {\n",
       "        text-align: right;\n",
       "    }\n",
       "</style>\n",
       "<table border=\"1\" class=\"dataframe\">\n",
       "  <thead>\n",
       "    <tr style=\"text-align: right;\">\n",
       "      <th></th>\n",
       "      <th>id</th>\n",
       "      <th>track names</th>\n",
       "      <th>artists name</th>\n",
       "      <th>artists id</th>\n",
       "      <th>track acousticness</th>\n",
       "      <th>track danceability</th>\n",
       "      <th>track duration_ms</th>\n",
       "      <th>track energy</th>\n",
       "      <th>track instrumentalness</th>\n",
       "      <th>track key</th>\n",
       "      <th>track liveness</th>\n",
       "      <th>track loudness</th>\n",
       "      <th>track mode</th>\n",
       "      <th>track speechiness</th>\n",
       "      <th>track time_signature</th>\n",
       "      <th>track valence</th>\n",
       "    </tr>\n",
       "  </thead>\n",
       "  <tbody>\n",
       "    <tr>\n",
       "      <th>0</th>\n",
       "      <td>06PdA0DLgF4BfAeUNZAbFG</td>\n",
       "      <td>Blueberry Hill</td>\n",
       "      <td>Fats Domino</td>\n",
       "      <td>09C0xjtosNAIXP36wTnWxd</td>\n",
       "      <td>0.740</td>\n",
       "      <td>0.489</td>\n",
       "      <td>147880</td>\n",
       "      <td>0.499</td>\n",
       "      <td>0.000236</td>\n",
       "      <td>11</td>\n",
       "      <td>0.156</td>\n",
       "      <td>-9.702</td>\n",
       "      <td>1</td>\n",
       "      <td>0.0271</td>\n",
       "      <td>3</td>\n",
       "      <td>0.829</td>\n",
       "    </tr>\n",
       "    <tr>\n",
       "      <th>1</th>\n",
       "      <td>3KzgdYUlqV6TOG7JCmx2Wg</td>\n",
       "      <td>Beyond the Sea</td>\n",
       "      <td>Bobby Darin</td>\n",
       "      <td>0EodhzA6yW1bIdD5B4tcmJ</td>\n",
       "      <td>0.723</td>\n",
       "      <td>0.521</td>\n",
       "      <td>172480</td>\n",
       "      <td>0.516</td>\n",
       "      <td>0.000000</td>\n",
       "      <td>2</td>\n",
       "      <td>0.257</td>\n",
       "      <td>-7.456</td>\n",
       "      <td>0</td>\n",
       "      <td>0.0369</td>\n",
       "      <td>4</td>\n",
       "      <td>0.569</td>\n",
       "    </tr>\n",
       "    <tr>\n",
       "      <th>2</th>\n",
       "      <td>40KCF1U2DNceYsugxZQruU</td>\n",
       "      <td>Broken Hearted Melody</td>\n",
       "      <td>Sarah Vaughan</td>\n",
       "      <td>1bgyxtWjZwA5PQlDsvs9b8</td>\n",
       "      <td>0.744</td>\n",
       "      <td>0.448</td>\n",
       "      <td>143267</td>\n",
       "      <td>0.500</td>\n",
       "      <td>0.000000</td>\n",
       "      <td>7</td>\n",
       "      <td>0.191</td>\n",
       "      <td>-11.304</td>\n",
       "      <td>1</td>\n",
       "      <td>0.0356</td>\n",
       "      <td>4</td>\n",
       "      <td>0.768</td>\n",
       "    </tr>\n",
       "    <tr>\n",
       "      <th>3</th>\n",
       "      <td>72nqbbrKjhXmDdRXQGq115</td>\n",
       "      <td>All I Have to Do Is Dream</td>\n",
       "      <td>The Everly Brothers</td>\n",
       "      <td>4ACplpEqD6JIVgKrafauzs</td>\n",
       "      <td>0.783</td>\n",
       "      <td>0.542</td>\n",
       "      <td>141240</td>\n",
       "      <td>0.347</td>\n",
       "      <td>0.000000</td>\n",
       "      <td>4</td>\n",
       "      <td>0.144</td>\n",
       "      <td>-14.011</td>\n",
       "      <td>1</td>\n",
       "      <td>0.0268</td>\n",
       "      <td>4</td>\n",
       "      <td>0.596</td>\n",
       "    </tr>\n",
       "    <tr>\n",
       "      <th>4</th>\n",
       "      <td>5ueyLj6e6oVaTY0KQ6yLaA</td>\n",
       "      <td>All Shook Up</td>\n",
       "      <td>Elvis Presley</td>\n",
       "      <td>43ZHCT0cAZBISjO8DG9PnE</td>\n",
       "      <td>0.881</td>\n",
       "      <td>0.624</td>\n",
       "      <td>117080</td>\n",
       "      <td>0.468</td>\n",
       "      <td>0.000006</td>\n",
       "      <td>10</td>\n",
       "      <td>0.144</td>\n",
       "      <td>-12.162</td>\n",
       "      <td>1</td>\n",
       "      <td>0.1320</td>\n",
       "      <td>4</td>\n",
       "      <td>0.952</td>\n",
       "    </tr>\n",
       "  </tbody>\n",
       "</table>\n",
       "</div>"
      ],
      "text/plain": [
       "                       id                track names         artists name  \\\n",
       "0  06PdA0DLgF4BfAeUNZAbFG             Blueberry Hill          Fats Domino   \n",
       "1  3KzgdYUlqV6TOG7JCmx2Wg             Beyond the Sea          Bobby Darin   \n",
       "2  40KCF1U2DNceYsugxZQruU      Broken Hearted Melody        Sarah Vaughan   \n",
       "3  72nqbbrKjhXmDdRXQGq115  All I Have to Do Is Dream  The Everly Brothers   \n",
       "4  5ueyLj6e6oVaTY0KQ6yLaA               All Shook Up        Elvis Presley   \n",
       "\n",
       "               artists id  track acousticness  track danceability  \\\n",
       "0  09C0xjtosNAIXP36wTnWxd               0.740               0.489   \n",
       "1  0EodhzA6yW1bIdD5B4tcmJ               0.723               0.521   \n",
       "2  1bgyxtWjZwA5PQlDsvs9b8               0.744               0.448   \n",
       "3  4ACplpEqD6JIVgKrafauzs               0.783               0.542   \n",
       "4  43ZHCT0cAZBISjO8DG9PnE               0.881               0.624   \n",
       "\n",
       "   track duration_ms  track energy  track instrumentalness  track key  \\\n",
       "0             147880         0.499                0.000236         11   \n",
       "1             172480         0.516                0.000000          2   \n",
       "2             143267         0.500                0.000000          7   \n",
       "3             141240         0.347                0.000000          4   \n",
       "4             117080         0.468                0.000006         10   \n",
       "\n",
       "   track liveness  track loudness  track mode  track speechiness  \\\n",
       "0           0.156          -9.702           1             0.0271   \n",
       "1           0.257          -7.456           0             0.0369   \n",
       "2           0.191         -11.304           1             0.0356   \n",
       "3           0.144         -14.011           1             0.0268   \n",
       "4           0.144         -12.162           1             0.1320   \n",
       "\n",
       "   track time_signature  track valence  \n",
       "0                     3          0.829  \n",
       "1                     4          0.569  \n",
       "2                     4          0.768  \n",
       "3                     4          0.596  \n",
       "4                     4          0.952  "
      ]
     },
     "execution_count": 6,
     "metadata": {},
     "output_type": "execute_result"
    }
   ],
   "source": [
    "#source this\n",
    "track_ids = df['id']\n",
    "track_acousticness = []\n",
    "track_danceability = []\n",
    "track_duration_ms = []\n",
    "track_energy = []\n",
    "track_instrumentalness = []\n",
    "track_key = []\n",
    "track_liveness = []\n",
    "track_loudness = []\n",
    "track_mode = []\n",
    "track_speechiness = []\n",
    "track_time_signature = []\n",
    "track_valence = []\n",
    "                                            \n",
    "for id in track_ids:\n",
    "    features = sp.audio_features(id)\n",
    "    acousticness = features[0]['acousticness']\n",
    "    danceability = features[0]['danceability']\n",
    "    duration_ms = features[0]['duration_ms']\n",
    "    energy = features[0]['energy']\n",
    "    instrumentalness = features[0]['instrumentalness']\n",
    "    key = features[0]['key']\n",
    "    liveness = features[0]['liveness']\n",
    "    loudness = features[0]['loudness']\n",
    "    mode = features[0]['mode']\n",
    "    speechiness = features[0]['speechiness']\n",
    "    time_signature = features[0]['time_signature']\n",
    "    valence = features[0]['valence']\n",
    "    \n",
    "    track_acousticness.append(acousticness)\n",
    "    track_danceability.append(danceability)\n",
    "    track_duration_ms.append(duration_ms)\n",
    "    track_energy.append(energy)\n",
    "    track_instrumentalness.append(instrumentalness)\n",
    "    track_key.append(key)\n",
    "    track_liveness.append(liveness)\n",
    "    track_loudness.append(loudness)\n",
    "    track_mode.append(mode)\n",
    "    track_speechiness.append(speechiness)\n",
    "    track_time_signature.append(time_signature)\n",
    "    track_valence.append(valence)\n",
    "    \n",
    "df['track acousticness'] = track_acousticness\n",
    "df['track danceability'] = track_danceability\n",
    "df['track duration_ms'] = track_duration_ms\n",
    "df['track energy'] = track_energy\n",
    "df['track instrumentalness'] = track_instrumentalness\n",
    "df['track key'] = track_key\n",
    "df['track liveness'] = track_liveness\n",
    "df['track loudness'] = track_loudness\n",
    "df['track mode'] = track_mode\n",
    "df['track speechiness'] = track_speechiness\n",
    "df['track time_signature'] = track_time_signature\n",
    "df['track valence'] = track_valence\n",
    "\n",
    "df.head()"
   ]
  },
  {
   "cell_type": "markdown",
   "metadata": {},
   "source": [
    "In the last step of gathering the data for this project, we'll get the genres from artist ids. The result might return a few genres per artist, therefore for this project, we use only the last genre with the assumption that it's the broadest genre. Then, we save them as a csv file to keep the data locally."
   ]
  },
  {
   "cell_type": "code",
   "execution_count": 7,
   "metadata": {},
   "outputs": [],
   "source": [
    "#source this\n",
    "artists_id = df['artists id']\n",
    "genres = []\n",
    "\n",
    "for artist in artists_id:\n",
    "    urn = 'spotify:artist:' + artist\n",
    "    artist = sp.artist(urn)\n",
    "    artist_genres = artist['genres']\n",
    "    \n",
    "    if len(artist_genres) != 0:\n",
    "        broad_genre = artist_genres[-1] #only the last genre with the assumption that it's the broadest genre, also otherwise too many genre present.\n",
    "    else:\n",
    "        broad_genre = 'no genre'\n",
    "    \n",
    "    genres.append(broad_genre)\n",
    "    \n",
    "df['genres'] = genres\n",
    "df.to_csv('raw_data.csv', index=False)"
   ]
  },
  {
   "cell_type": "markdown",
   "metadata": {},
   "source": [
    "In the next step, we are working with the local dataset and continue with filtering all the genres to only show the ones containing pop and rock."
   ]
  },
  {
   "cell_type": "code",
   "execution_count": 8,
   "metadata": {},
   "outputs": [
    {
     "data": {
      "text/plain": [
       "soft rock              154\n",
       "rockabilly              56\n",
       "rock                    50\n",
       "pop rock                40\n",
       "yacht rock              40\n",
       "pop                     28\n",
       "post-teen pop           25\n",
       "rock-and-roll           21\n",
       "sunshine pop            18\n",
       "europop                 12\n",
       "swedish pop             12\n",
       "synthpop                11\n",
       "symphonic rock          10\n",
       "pop rap                  8\n",
       "dance pop                8\n",
       "viral pop                5\n",
       "sophisti-pop             5\n",
       "swamp rock               4\n",
       "scottish rock            4\n",
       "pop dance                4\n",
       "new wave pop             4\n",
       "roots rock               2\n",
       "country rock             2\n",
       "folk rock                1\n",
       "britpop                  1\n",
       "classic garage rock      1\n",
       "glam rock                1\n",
       "nz pop                   1\n",
       "power pop                1\n",
       "classic uk pop           1\n",
       "australian rock          1\n",
       "latin pop                1\n",
       "swamp pop                1\n",
       "Name: genres, dtype: int64"
      ]
     },
     "execution_count": 8,
     "metadata": {},
     "output_type": "execute_result"
    }
   ],
   "source": [
    "df1 = pd.read_csv('raw_data.csv')  \n",
    "df2 = df1[df1['genres'].str.contains('pop|rock')]\n",
    "df2['genres'].value_counts()"
   ]
  },
  {
   "cell_type": "markdown",
   "metadata": {},
   "source": [
    "To make it easier for us to process the genre later on, we're going to transform the values of genres column to the following: when it is a sub genre of pop, we're turning it into 'pop' and when it is a sub genre of rock, we're turning it into 'rock'. The values will be put to a new column named genres-transformed."
   ]
  },
  {
   "cell_type": "code",
   "execution_count": 97,
   "metadata": {},
   "outputs": [
    {
     "data": {
      "text/html": [
       "<div>\n",
       "<style scoped>\n",
       "    .dataframe tbody tr th:only-of-type {\n",
       "        vertical-align: middle;\n",
       "    }\n",
       "\n",
       "    .dataframe tbody tr th {\n",
       "        vertical-align: top;\n",
       "    }\n",
       "\n",
       "    .dataframe thead th {\n",
       "        text-align: right;\n",
       "    }\n",
       "</style>\n",
       "<table border=\"1\" class=\"dataframe\">\n",
       "  <thead>\n",
       "    <tr style=\"text-align: right;\">\n",
       "      <th></th>\n",
       "      <th>id</th>\n",
       "      <th>track names</th>\n",
       "      <th>artists name</th>\n",
       "      <th>artists id</th>\n",
       "      <th>track acousticness</th>\n",
       "      <th>track danceability</th>\n",
       "      <th>track duration_ms</th>\n",
       "      <th>track energy</th>\n",
       "      <th>track instrumentalness</th>\n",
       "      <th>track key</th>\n",
       "      <th>track liveness</th>\n",
       "      <th>track loudness</th>\n",
       "      <th>track mode</th>\n",
       "      <th>track speechiness</th>\n",
       "      <th>track time_signature</th>\n",
       "      <th>track valence</th>\n",
       "      <th>genres</th>\n",
       "      <th>genres-transformed</th>\n",
       "      <th>pop</th>\n",
       "      <th>rock</th>\n",
       "    </tr>\n",
       "  </thead>\n",
       "  <tbody>\n",
       "    <tr>\n",
       "      <th>3</th>\n",
       "      <td>72nqbbrKjhXmDdRXQGq115</td>\n",
       "      <td>All I Have to Do Is Dream</td>\n",
       "      <td>The Everly Brothers</td>\n",
       "      <td>4ACplpEqD6JIVgKrafauzs</td>\n",
       "      <td>0.783</td>\n",
       "      <td>0.542</td>\n",
       "      <td>141240</td>\n",
       "      <td>0.347</td>\n",
       "      <td>0.000000</td>\n",
       "      <td>4</td>\n",
       "      <td>0.1440</td>\n",
       "      <td>-14.011</td>\n",
       "      <td>1</td>\n",
       "      <td>0.0268</td>\n",
       "      <td>4</td>\n",
       "      <td>0.596</td>\n",
       "      <td>sunshine pop</td>\n",
       "      <td>pop</td>\n",
       "      <td>1</td>\n",
       "      <td>0</td>\n",
       "    </tr>\n",
       "    <tr>\n",
       "      <th>4</th>\n",
       "      <td>5ueyLj6e6oVaTY0KQ6yLaA</td>\n",
       "      <td>All Shook Up</td>\n",
       "      <td>Elvis Presley</td>\n",
       "      <td>43ZHCT0cAZBISjO8DG9PnE</td>\n",
       "      <td>0.881</td>\n",
       "      <td>0.624</td>\n",
       "      <td>117080</td>\n",
       "      <td>0.468</td>\n",
       "      <td>0.000006</td>\n",
       "      <td>10</td>\n",
       "      <td>0.1440</td>\n",
       "      <td>-12.162</td>\n",
       "      <td>1</td>\n",
       "      <td>0.1320</td>\n",
       "      <td>4</td>\n",
       "      <td>0.952</td>\n",
       "      <td>rockabilly</td>\n",
       "      <td>rock</td>\n",
       "      <td>0</td>\n",
       "      <td>1</td>\n",
       "    </tr>\n",
       "    <tr>\n",
       "      <th>5</th>\n",
       "      <td>50RwvvEKX5Q7AZt8FTAwIF</td>\n",
       "      <td>That'll Be The Day</td>\n",
       "      <td>Buddy Holly</td>\n",
       "      <td>3wYyutjgII8LJVVOLrGI0D</td>\n",
       "      <td>0.467</td>\n",
       "      <td>0.536</td>\n",
       "      <td>150133</td>\n",
       "      <td>0.637</td>\n",
       "      <td>0.000000</td>\n",
       "      <td>2</td>\n",
       "      <td>0.0838</td>\n",
       "      <td>-7.774</td>\n",
       "      <td>1</td>\n",
       "      <td>0.0343</td>\n",
       "      <td>4</td>\n",
       "      <td>0.798</td>\n",
       "      <td>rockabilly</td>\n",
       "      <td>rock</td>\n",
       "      <td>0</td>\n",
       "      <td>1</td>\n",
       "    </tr>\n",
       "    <tr>\n",
       "      <th>8</th>\n",
       "      <td>2FkCjtQ1lYsf71s2FAS8hE</td>\n",
       "      <td>The Great Pretender</td>\n",
       "      <td>The Platters</td>\n",
       "      <td>6KWcxMWVNVIYbdOQyJtsSy</td>\n",
       "      <td>0.943</td>\n",
       "      <td>0.425</td>\n",
       "      <td>160667</td>\n",
       "      <td>0.401</td>\n",
       "      <td>0.000003</td>\n",
       "      <td>7</td>\n",
       "      <td>0.0720</td>\n",
       "      <td>-9.427</td>\n",
       "      <td>1</td>\n",
       "      <td>0.0315</td>\n",
       "      <td>3</td>\n",
       "      <td>0.531</td>\n",
       "      <td>rockabilly</td>\n",
       "      <td>rock</td>\n",
       "      <td>0</td>\n",
       "      <td>1</td>\n",
       "    </tr>\n",
       "    <tr>\n",
       "      <th>9</th>\n",
       "      <td>4MUGG9mgDUP8dlaS3AAeg0</td>\n",
       "      <td>Stagger Lee</td>\n",
       "      <td>Lloyd Price</td>\n",
       "      <td>3iOE5ItEv5xr9fmKi7GNh2</td>\n",
       "      <td>0.675</td>\n",
       "      <td>0.396</td>\n",
       "      <td>144960</td>\n",
       "      <td>0.618</td>\n",
       "      <td>0.000000</td>\n",
       "      <td>3</td>\n",
       "      <td>0.0982</td>\n",
       "      <td>-8.209</td>\n",
       "      <td>1</td>\n",
       "      <td>0.0311</td>\n",
       "      <td>4</td>\n",
       "      <td>0.824</td>\n",
       "      <td>rockabilly</td>\n",
       "      <td>rock</td>\n",
       "      <td>0</td>\n",
       "      <td>1</td>\n",
       "    </tr>\n",
       "  </tbody>\n",
       "</table>\n",
       "</div>"
      ],
      "text/plain": [
       "                       id                track names         artists name  \\\n",
       "3  72nqbbrKjhXmDdRXQGq115  All I Have to Do Is Dream  The Everly Brothers   \n",
       "4  5ueyLj6e6oVaTY0KQ6yLaA               All Shook Up        Elvis Presley   \n",
       "5  50RwvvEKX5Q7AZt8FTAwIF         That'll Be The Day          Buddy Holly   \n",
       "8  2FkCjtQ1lYsf71s2FAS8hE        The Great Pretender         The Platters   \n",
       "9  4MUGG9mgDUP8dlaS3AAeg0                Stagger Lee          Lloyd Price   \n",
       "\n",
       "               artists id  track acousticness  track danceability  \\\n",
       "3  4ACplpEqD6JIVgKrafauzs               0.783               0.542   \n",
       "4  43ZHCT0cAZBISjO8DG9PnE               0.881               0.624   \n",
       "5  3wYyutjgII8LJVVOLrGI0D               0.467               0.536   \n",
       "8  6KWcxMWVNVIYbdOQyJtsSy               0.943               0.425   \n",
       "9  3iOE5ItEv5xr9fmKi7GNh2               0.675               0.396   \n",
       "\n",
       "   track duration_ms  track energy  track instrumentalness  track key  \\\n",
       "3             141240         0.347                0.000000          4   \n",
       "4             117080         0.468                0.000006         10   \n",
       "5             150133         0.637                0.000000          2   \n",
       "8             160667         0.401                0.000003          7   \n",
       "9             144960         0.618                0.000000          3   \n",
       "\n",
       "   track liveness  track loudness  track mode  track speechiness  \\\n",
       "3          0.1440         -14.011           1             0.0268   \n",
       "4          0.1440         -12.162           1             0.1320   \n",
       "5          0.0838          -7.774           1             0.0343   \n",
       "8          0.0720          -9.427           1             0.0315   \n",
       "9          0.0982          -8.209           1             0.0311   \n",
       "\n",
       "   track time_signature  track valence        genres genres-transformed  pop  \\\n",
       "3                     4          0.596  sunshine pop                pop    1   \n",
       "4                     4          0.952    rockabilly               rock    0   \n",
       "5                     4          0.798    rockabilly               rock    0   \n",
       "8                     3          0.531    rockabilly               rock    0   \n",
       "9                     4          0.824    rockabilly               rock    0   \n",
       "\n",
       "   rock  \n",
       "3     0  \n",
       "4     1  \n",
       "5     1  \n",
       "8     1  \n",
       "9     1  "
      ]
     },
     "execution_count": 97,
     "metadata": {},
     "output_type": "execute_result"
    }
   ],
   "source": [
    "df2.loc[df2['genres'].str.contains('pop'), 'genres-transformed'] = 'pop'\n",
    "df2.loc[df2['genres'].str.contains('rock'), 'genres-transformed'] = 'rock'\n",
    "df2.head()"
   ]
  },
  {
   "cell_type": "markdown",
   "metadata": {},
   "source": [
    "We're making dummies out of the genres-transformed values to later on see if there are strong correlation values to each genre."
   ]
  },
  {
   "cell_type": "code",
   "execution_count": 10,
   "metadata": {},
   "outputs": [
    {
     "data": {
      "text/html": [
       "<div>\n",
       "<style scoped>\n",
       "    .dataframe tbody tr th:only-of-type {\n",
       "        vertical-align: middle;\n",
       "    }\n",
       "\n",
       "    .dataframe tbody tr th {\n",
       "        vertical-align: top;\n",
       "    }\n",
       "\n",
       "    .dataframe thead th {\n",
       "        text-align: right;\n",
       "    }\n",
       "</style>\n",
       "<table border=\"1\" class=\"dataframe\">\n",
       "  <thead>\n",
       "    <tr style=\"text-align: right;\">\n",
       "      <th></th>\n",
       "      <th>id</th>\n",
       "      <th>track names</th>\n",
       "      <th>artists name</th>\n",
       "      <th>artists id</th>\n",
       "      <th>track acousticness</th>\n",
       "      <th>track danceability</th>\n",
       "      <th>track duration_ms</th>\n",
       "      <th>track energy</th>\n",
       "      <th>track instrumentalness</th>\n",
       "      <th>track key</th>\n",
       "      <th>track liveness</th>\n",
       "      <th>track loudness</th>\n",
       "      <th>track mode</th>\n",
       "      <th>track speechiness</th>\n",
       "      <th>track time_signature</th>\n",
       "      <th>track valence</th>\n",
       "      <th>genres</th>\n",
       "      <th>genres-transformed</th>\n",
       "      <th>pop</th>\n",
       "      <th>rock</th>\n",
       "    </tr>\n",
       "  </thead>\n",
       "  <tbody>\n",
       "    <tr>\n",
       "      <th>3</th>\n",
       "      <td>72nqbbrKjhXmDdRXQGq115</td>\n",
       "      <td>All I Have to Do Is Dream</td>\n",
       "      <td>The Everly Brothers</td>\n",
       "      <td>4ACplpEqD6JIVgKrafauzs</td>\n",
       "      <td>0.783</td>\n",
       "      <td>0.542</td>\n",
       "      <td>141240</td>\n",
       "      <td>0.347</td>\n",
       "      <td>0.000000</td>\n",
       "      <td>4</td>\n",
       "      <td>0.1440</td>\n",
       "      <td>-14.011</td>\n",
       "      <td>1</td>\n",
       "      <td>0.0268</td>\n",
       "      <td>4</td>\n",
       "      <td>0.596</td>\n",
       "      <td>sunshine pop</td>\n",
       "      <td>pop</td>\n",
       "      <td>1</td>\n",
       "      <td>0</td>\n",
       "    </tr>\n",
       "    <tr>\n",
       "      <th>4</th>\n",
       "      <td>5ueyLj6e6oVaTY0KQ6yLaA</td>\n",
       "      <td>All Shook Up</td>\n",
       "      <td>Elvis Presley</td>\n",
       "      <td>43ZHCT0cAZBISjO8DG9PnE</td>\n",
       "      <td>0.881</td>\n",
       "      <td>0.624</td>\n",
       "      <td>117080</td>\n",
       "      <td>0.468</td>\n",
       "      <td>0.000006</td>\n",
       "      <td>10</td>\n",
       "      <td>0.1440</td>\n",
       "      <td>-12.162</td>\n",
       "      <td>1</td>\n",
       "      <td>0.1320</td>\n",
       "      <td>4</td>\n",
       "      <td>0.952</td>\n",
       "      <td>rockabilly</td>\n",
       "      <td>rock</td>\n",
       "      <td>0</td>\n",
       "      <td>1</td>\n",
       "    </tr>\n",
       "    <tr>\n",
       "      <th>5</th>\n",
       "      <td>50RwvvEKX5Q7AZt8FTAwIF</td>\n",
       "      <td>That'll Be The Day</td>\n",
       "      <td>Buddy Holly</td>\n",
       "      <td>3wYyutjgII8LJVVOLrGI0D</td>\n",
       "      <td>0.467</td>\n",
       "      <td>0.536</td>\n",
       "      <td>150133</td>\n",
       "      <td>0.637</td>\n",
       "      <td>0.000000</td>\n",
       "      <td>2</td>\n",
       "      <td>0.0838</td>\n",
       "      <td>-7.774</td>\n",
       "      <td>1</td>\n",
       "      <td>0.0343</td>\n",
       "      <td>4</td>\n",
       "      <td>0.798</td>\n",
       "      <td>rockabilly</td>\n",
       "      <td>rock</td>\n",
       "      <td>0</td>\n",
       "      <td>1</td>\n",
       "    </tr>\n",
       "    <tr>\n",
       "      <th>8</th>\n",
       "      <td>2FkCjtQ1lYsf71s2FAS8hE</td>\n",
       "      <td>The Great Pretender</td>\n",
       "      <td>The Platters</td>\n",
       "      <td>6KWcxMWVNVIYbdOQyJtsSy</td>\n",
       "      <td>0.943</td>\n",
       "      <td>0.425</td>\n",
       "      <td>160667</td>\n",
       "      <td>0.401</td>\n",
       "      <td>0.000003</td>\n",
       "      <td>7</td>\n",
       "      <td>0.0720</td>\n",
       "      <td>-9.427</td>\n",
       "      <td>1</td>\n",
       "      <td>0.0315</td>\n",
       "      <td>3</td>\n",
       "      <td>0.531</td>\n",
       "      <td>rockabilly</td>\n",
       "      <td>rock</td>\n",
       "      <td>0</td>\n",
       "      <td>1</td>\n",
       "    </tr>\n",
       "    <tr>\n",
       "      <th>9</th>\n",
       "      <td>4MUGG9mgDUP8dlaS3AAeg0</td>\n",
       "      <td>Stagger Lee</td>\n",
       "      <td>Lloyd Price</td>\n",
       "      <td>3iOE5ItEv5xr9fmKi7GNh2</td>\n",
       "      <td>0.675</td>\n",
       "      <td>0.396</td>\n",
       "      <td>144960</td>\n",
       "      <td>0.618</td>\n",
       "      <td>0.000000</td>\n",
       "      <td>3</td>\n",
       "      <td>0.0982</td>\n",
       "      <td>-8.209</td>\n",
       "      <td>1</td>\n",
       "      <td>0.0311</td>\n",
       "      <td>4</td>\n",
       "      <td>0.824</td>\n",
       "      <td>rockabilly</td>\n",
       "      <td>rock</td>\n",
       "      <td>0</td>\n",
       "      <td>1</td>\n",
       "    </tr>\n",
       "  </tbody>\n",
       "</table>\n",
       "</div>"
      ],
      "text/plain": [
       "                       id                track names         artists name  \\\n",
       "3  72nqbbrKjhXmDdRXQGq115  All I Have to Do Is Dream  The Everly Brothers   \n",
       "4  5ueyLj6e6oVaTY0KQ6yLaA               All Shook Up        Elvis Presley   \n",
       "5  50RwvvEKX5Q7AZt8FTAwIF         That'll Be The Day          Buddy Holly   \n",
       "8  2FkCjtQ1lYsf71s2FAS8hE        The Great Pretender         The Platters   \n",
       "9  4MUGG9mgDUP8dlaS3AAeg0                Stagger Lee          Lloyd Price   \n",
       "\n",
       "               artists id  track acousticness  track danceability  \\\n",
       "3  4ACplpEqD6JIVgKrafauzs               0.783               0.542   \n",
       "4  43ZHCT0cAZBISjO8DG9PnE               0.881               0.624   \n",
       "5  3wYyutjgII8LJVVOLrGI0D               0.467               0.536   \n",
       "8  6KWcxMWVNVIYbdOQyJtsSy               0.943               0.425   \n",
       "9  3iOE5ItEv5xr9fmKi7GNh2               0.675               0.396   \n",
       "\n",
       "   track duration_ms  track energy  track instrumentalness  track key  \\\n",
       "3             141240         0.347                0.000000          4   \n",
       "4             117080         0.468                0.000006         10   \n",
       "5             150133         0.637                0.000000          2   \n",
       "8             160667         0.401                0.000003          7   \n",
       "9             144960         0.618                0.000000          3   \n",
       "\n",
       "   track liveness  track loudness  track mode  track speechiness  \\\n",
       "3          0.1440         -14.011           1             0.0268   \n",
       "4          0.1440         -12.162           1             0.1320   \n",
       "5          0.0838          -7.774           1             0.0343   \n",
       "8          0.0720          -9.427           1             0.0315   \n",
       "9          0.0982          -8.209           1             0.0311   \n",
       "\n",
       "   track time_signature  track valence        genres genres-transformed  pop  \\\n",
       "3                     4          0.596  sunshine pop                pop    1   \n",
       "4                     4          0.952    rockabilly               rock    0   \n",
       "5                     4          0.798    rockabilly               rock    0   \n",
       "8                     3          0.531    rockabilly               rock    0   \n",
       "9                     4          0.824    rockabilly               rock    0   \n",
       "\n",
       "   rock  \n",
       "3     0  \n",
       "4     1  \n",
       "5     1  \n",
       "8     1  \n",
       "9     1  "
      ]
     },
     "execution_count": 10,
     "metadata": {},
     "output_type": "execute_result"
    }
   ],
   "source": [
    "dummies = df2['genres-transformed'].str.get_dummies()\n",
    "df2 = pd.concat([df2, dummies], axis=1) \n",
    "df2.head()"
   ]
  },
  {
   "cell_type": "markdown",
   "metadata": {},
   "source": [
    "Our dataframe is ready to be processed!"
   ]
  },
  {
   "cell_type": "markdown",
   "metadata": {},
   "source": [
    "## Feature engineering"
   ]
  },
  {
   "cell_type": "markdown",
   "metadata": {},
   "source": [
    "For the above dataset, not a lot of transformation happens to the data. We did have to undergo a few steps to actually get the genre: Track id > artist id > genre, while the track feature is relatively easy: Track id > Feature track. We transformed all the pop and rock sub genres into just 2 genres: pop and rock to be used for the prediction.\n",
    "<hr>"
   ]
  },
  {
   "cell_type": "markdown",
   "metadata": {},
   "source": [
    "## Descriptive analysis"
   ]
  },
  {
   "cell_type": "markdown",
   "metadata": {},
   "source": [
    "Now, we're going to look at most strongly correlating variables, possibly also to the genres."
   ]
  },
  {
   "cell_type": "code",
   "execution_count": 11,
   "metadata": {},
   "outputs": [
    {
     "data": {
      "text/html": [
       "<div>\n",
       "<style scoped>\n",
       "    .dataframe tbody tr th:only-of-type {\n",
       "        vertical-align: middle;\n",
       "    }\n",
       "\n",
       "    .dataframe tbody tr th {\n",
       "        vertical-align: top;\n",
       "    }\n",
       "\n",
       "    .dataframe thead th {\n",
       "        text-align: right;\n",
       "    }\n",
       "</style>\n",
       "<table border=\"1\" class=\"dataframe\">\n",
       "  <thead>\n",
       "    <tr style=\"text-align: right;\">\n",
       "      <th></th>\n",
       "      <th>track acousticness</th>\n",
       "      <th>track danceability</th>\n",
       "      <th>track duration_ms</th>\n",
       "      <th>track energy</th>\n",
       "      <th>track instrumentalness</th>\n",
       "      <th>track key</th>\n",
       "      <th>track liveness</th>\n",
       "      <th>track loudness</th>\n",
       "      <th>track mode</th>\n",
       "      <th>track speechiness</th>\n",
       "      <th>track time_signature</th>\n",
       "      <th>track valence</th>\n",
       "      <th>pop</th>\n",
       "      <th>rock</th>\n",
       "    </tr>\n",
       "  </thead>\n",
       "  <tbody>\n",
       "    <tr>\n",
       "      <th>track acousticness</th>\n",
       "      <td>1.000000</td>\n",
       "      <td>-0.331582</td>\n",
       "      <td>-0.311224</td>\n",
       "      <td>-0.554659</td>\n",
       "      <td>0.037637</td>\n",
       "      <td>0.042611</td>\n",
       "      <td>0.022591</td>\n",
       "      <td>-0.376041</td>\n",
       "      <td>0.164208</td>\n",
       "      <td>-0.046427</td>\n",
       "      <td>-0.191581</td>\n",
       "      <td>-0.207785</td>\n",
       "      <td>-0.225092</td>\n",
       "      <td>0.225092</td>\n",
       "    </tr>\n",
       "    <tr>\n",
       "      <th>track danceability</th>\n",
       "      <td>-0.331582</td>\n",
       "      <td>1.000000</td>\n",
       "      <td>0.018774</td>\n",
       "      <td>0.295653</td>\n",
       "      <td>-0.029215</td>\n",
       "      <td>-0.052280</td>\n",
       "      <td>-0.090444</td>\n",
       "      <td>0.220928</td>\n",
       "      <td>-0.166974</td>\n",
       "      <td>0.136281</td>\n",
       "      <td>0.148098</td>\n",
       "      <td>0.485495</td>\n",
       "      <td>0.214303</td>\n",
       "      <td>-0.214303</td>\n",
       "    </tr>\n",
       "    <tr>\n",
       "      <th>track duration_ms</th>\n",
       "      <td>-0.311224</td>\n",
       "      <td>0.018774</td>\n",
       "      <td>1.000000</td>\n",
       "      <td>0.053799</td>\n",
       "      <td>0.015783</td>\n",
       "      <td>-0.044440</td>\n",
       "      <td>-0.060588</td>\n",
       "      <td>0.005458</td>\n",
       "      <td>-0.014583</td>\n",
       "      <td>-0.160470</td>\n",
       "      <td>-0.016546</td>\n",
       "      <td>-0.266660</td>\n",
       "      <td>0.007395</td>\n",
       "      <td>-0.007395</td>\n",
       "    </tr>\n",
       "    <tr>\n",
       "      <th>track energy</th>\n",
       "      <td>-0.554659</td>\n",
       "      <td>0.295653</td>\n",
       "      <td>0.053799</td>\n",
       "      <td>1.000000</td>\n",
       "      <td>-0.049831</td>\n",
       "      <td>-0.077708</td>\n",
       "      <td>0.179099</td>\n",
       "      <td>0.761036</td>\n",
       "      <td>-0.101313</td>\n",
       "      <td>0.234496</td>\n",
       "      <td>0.212808</td>\n",
       "      <td>0.451249</td>\n",
       "      <td>0.242062</td>\n",
       "      <td>-0.242062</td>\n",
       "    </tr>\n",
       "    <tr>\n",
       "      <th>track instrumentalness</th>\n",
       "      <td>0.037637</td>\n",
       "      <td>-0.029215</td>\n",
       "      <td>0.015783</td>\n",
       "      <td>-0.049831</td>\n",
       "      <td>1.000000</td>\n",
       "      <td>0.102860</td>\n",
       "      <td>0.062724</td>\n",
       "      <td>-0.127387</td>\n",
       "      <td>-0.075466</td>\n",
       "      <td>-0.014302</td>\n",
       "      <td>0.034290</td>\n",
       "      <td>-0.024014</td>\n",
       "      <td>-0.052181</td>\n",
       "      <td>0.052181</td>\n",
       "    </tr>\n",
       "    <tr>\n",
       "      <th>track key</th>\n",
       "      <td>0.042611</td>\n",
       "      <td>-0.052280</td>\n",
       "      <td>-0.044440</td>\n",
       "      <td>-0.077708</td>\n",
       "      <td>0.102860</td>\n",
       "      <td>1.000000</td>\n",
       "      <td>-0.044565</td>\n",
       "      <td>-0.083534</td>\n",
       "      <td>-0.124367</td>\n",
       "      <td>0.078822</td>\n",
       "      <td>-0.008342</td>\n",
       "      <td>-0.095288</td>\n",
       "      <td>0.018536</td>\n",
       "      <td>-0.018536</td>\n",
       "    </tr>\n",
       "    <tr>\n",
       "      <th>track liveness</th>\n",
       "      <td>0.022591</td>\n",
       "      <td>-0.090444</td>\n",
       "      <td>-0.060588</td>\n",
       "      <td>0.179099</td>\n",
       "      <td>0.062724</td>\n",
       "      <td>-0.044565</td>\n",
       "      <td>1.000000</td>\n",
       "      <td>0.158156</td>\n",
       "      <td>0.006324</td>\n",
       "      <td>0.072189</td>\n",
       "      <td>-0.037163</td>\n",
       "      <td>0.070183</td>\n",
       "      <td>0.083566</td>\n",
       "      <td>-0.083566</td>\n",
       "    </tr>\n",
       "    <tr>\n",
       "      <th>track loudness</th>\n",
       "      <td>-0.376041</td>\n",
       "      <td>0.220928</td>\n",
       "      <td>0.005458</td>\n",
       "      <td>0.761036</td>\n",
       "      <td>-0.127387</td>\n",
       "      <td>-0.083534</td>\n",
       "      <td>0.158156</td>\n",
       "      <td>1.000000</td>\n",
       "      <td>-0.097470</td>\n",
       "      <td>0.200696</td>\n",
       "      <td>0.118516</td>\n",
       "      <td>0.164720</td>\n",
       "      <td>0.310112</td>\n",
       "      <td>-0.310112</td>\n",
       "    </tr>\n",
       "    <tr>\n",
       "      <th>track mode</th>\n",
       "      <td>0.164208</td>\n",
       "      <td>-0.166974</td>\n",
       "      <td>-0.014583</td>\n",
       "      <td>-0.101313</td>\n",
       "      <td>-0.075466</td>\n",
       "      <td>-0.124367</td>\n",
       "      <td>0.006324</td>\n",
       "      <td>-0.097470</td>\n",
       "      <td>1.000000</td>\n",
       "      <td>-0.108792</td>\n",
       "      <td>-0.051308</td>\n",
       "      <td>-0.108504</td>\n",
       "      <td>-0.157412</td>\n",
       "      <td>0.157412</td>\n",
       "    </tr>\n",
       "    <tr>\n",
       "      <th>track speechiness</th>\n",
       "      <td>-0.046427</td>\n",
       "      <td>0.136281</td>\n",
       "      <td>-0.160470</td>\n",
       "      <td>0.234496</td>\n",
       "      <td>-0.014302</td>\n",
       "      <td>0.078822</td>\n",
       "      <td>0.072189</td>\n",
       "      <td>0.200696</td>\n",
       "      <td>-0.108792</td>\n",
       "      <td>1.000000</td>\n",
       "      <td>0.067726</td>\n",
       "      <td>0.187982</td>\n",
       "      <td>0.120742</td>\n",
       "      <td>-0.120742</td>\n",
       "    </tr>\n",
       "    <tr>\n",
       "      <th>track time_signature</th>\n",
       "      <td>-0.191581</td>\n",
       "      <td>0.148098</td>\n",
       "      <td>-0.016546</td>\n",
       "      <td>0.212808</td>\n",
       "      <td>0.034290</td>\n",
       "      <td>-0.008342</td>\n",
       "      <td>-0.037163</td>\n",
       "      <td>0.118516</td>\n",
       "      <td>-0.051308</td>\n",
       "      <td>0.067726</td>\n",
       "      <td>1.000000</td>\n",
       "      <td>0.211999</td>\n",
       "      <td>0.048722</td>\n",
       "      <td>-0.048722</td>\n",
       "    </tr>\n",
       "    <tr>\n",
       "      <th>track valence</th>\n",
       "      <td>-0.207785</td>\n",
       "      <td>0.485495</td>\n",
       "      <td>-0.266660</td>\n",
       "      <td>0.451249</td>\n",
       "      <td>-0.024014</td>\n",
       "      <td>-0.095288</td>\n",
       "      <td>0.070183</td>\n",
       "      <td>0.164720</td>\n",
       "      <td>-0.108504</td>\n",
       "      <td>0.187982</td>\n",
       "      <td>0.211999</td>\n",
       "      <td>1.000000</td>\n",
       "      <td>0.093376</td>\n",
       "      <td>-0.093376</td>\n",
       "    </tr>\n",
       "    <tr>\n",
       "      <th>pop</th>\n",
       "      <td>-0.225092</td>\n",
       "      <td>0.214303</td>\n",
       "      <td>0.007395</td>\n",
       "      <td>0.242062</td>\n",
       "      <td>-0.052181</td>\n",
       "      <td>0.018536</td>\n",
       "      <td>0.083566</td>\n",
       "      <td>0.310112</td>\n",
       "      <td>-0.157412</td>\n",
       "      <td>0.120742</td>\n",
       "      <td>0.048722</td>\n",
       "      <td>0.093376</td>\n",
       "      <td>1.000000</td>\n",
       "      <td>-1.000000</td>\n",
       "    </tr>\n",
       "    <tr>\n",
       "      <th>rock</th>\n",
       "      <td>0.225092</td>\n",
       "      <td>-0.214303</td>\n",
       "      <td>-0.007395</td>\n",
       "      <td>-0.242062</td>\n",
       "      <td>0.052181</td>\n",
       "      <td>-0.018536</td>\n",
       "      <td>-0.083566</td>\n",
       "      <td>-0.310112</td>\n",
       "      <td>0.157412</td>\n",
       "      <td>-0.120742</td>\n",
       "      <td>-0.048722</td>\n",
       "      <td>-0.093376</td>\n",
       "      <td>-1.000000</td>\n",
       "      <td>1.000000</td>\n",
       "    </tr>\n",
       "  </tbody>\n",
       "</table>\n",
       "</div>"
      ],
      "text/plain": [
       "                        track acousticness  track danceability  \\\n",
       "track acousticness                1.000000           -0.331582   \n",
       "track danceability               -0.331582            1.000000   \n",
       "track duration_ms                -0.311224            0.018774   \n",
       "track energy                     -0.554659            0.295653   \n",
       "track instrumentalness            0.037637           -0.029215   \n",
       "track key                         0.042611           -0.052280   \n",
       "track liveness                    0.022591           -0.090444   \n",
       "track loudness                   -0.376041            0.220928   \n",
       "track mode                        0.164208           -0.166974   \n",
       "track speechiness                -0.046427            0.136281   \n",
       "track time_signature             -0.191581            0.148098   \n",
       "track valence                    -0.207785            0.485495   \n",
       "pop                              -0.225092            0.214303   \n",
       "rock                              0.225092           -0.214303   \n",
       "\n",
       "                        track duration_ms  track energy  \\\n",
       "track acousticness              -0.311224     -0.554659   \n",
       "track danceability               0.018774      0.295653   \n",
       "track duration_ms                1.000000      0.053799   \n",
       "track energy                     0.053799      1.000000   \n",
       "track instrumentalness           0.015783     -0.049831   \n",
       "track key                       -0.044440     -0.077708   \n",
       "track liveness                  -0.060588      0.179099   \n",
       "track loudness                   0.005458      0.761036   \n",
       "track mode                      -0.014583     -0.101313   \n",
       "track speechiness               -0.160470      0.234496   \n",
       "track time_signature            -0.016546      0.212808   \n",
       "track valence                   -0.266660      0.451249   \n",
       "pop                              0.007395      0.242062   \n",
       "rock                            -0.007395     -0.242062   \n",
       "\n",
       "                        track instrumentalness  track key  track liveness  \\\n",
       "track acousticness                    0.037637   0.042611        0.022591   \n",
       "track danceability                   -0.029215  -0.052280       -0.090444   \n",
       "track duration_ms                     0.015783  -0.044440       -0.060588   \n",
       "track energy                         -0.049831  -0.077708        0.179099   \n",
       "track instrumentalness                1.000000   0.102860        0.062724   \n",
       "track key                             0.102860   1.000000       -0.044565   \n",
       "track liveness                        0.062724  -0.044565        1.000000   \n",
       "track loudness                       -0.127387  -0.083534        0.158156   \n",
       "track mode                           -0.075466  -0.124367        0.006324   \n",
       "track speechiness                    -0.014302   0.078822        0.072189   \n",
       "track time_signature                  0.034290  -0.008342       -0.037163   \n",
       "track valence                        -0.024014  -0.095288        0.070183   \n",
       "pop                                  -0.052181   0.018536        0.083566   \n",
       "rock                                  0.052181  -0.018536       -0.083566   \n",
       "\n",
       "                        track loudness  track mode  track speechiness  \\\n",
       "track acousticness           -0.376041    0.164208          -0.046427   \n",
       "track danceability            0.220928   -0.166974           0.136281   \n",
       "track duration_ms             0.005458   -0.014583          -0.160470   \n",
       "track energy                  0.761036   -0.101313           0.234496   \n",
       "track instrumentalness       -0.127387   -0.075466          -0.014302   \n",
       "track key                    -0.083534   -0.124367           0.078822   \n",
       "track liveness                0.158156    0.006324           0.072189   \n",
       "track loudness                1.000000   -0.097470           0.200696   \n",
       "track mode                   -0.097470    1.000000          -0.108792   \n",
       "track speechiness             0.200696   -0.108792           1.000000   \n",
       "track time_signature          0.118516   -0.051308           0.067726   \n",
       "track valence                 0.164720   -0.108504           0.187982   \n",
       "pop                           0.310112   -0.157412           0.120742   \n",
       "rock                         -0.310112    0.157412          -0.120742   \n",
       "\n",
       "                        track time_signature  track valence       pop  \\\n",
       "track acousticness                 -0.191581      -0.207785 -0.225092   \n",
       "track danceability                  0.148098       0.485495  0.214303   \n",
       "track duration_ms                  -0.016546      -0.266660  0.007395   \n",
       "track energy                        0.212808       0.451249  0.242062   \n",
       "track instrumentalness              0.034290      -0.024014 -0.052181   \n",
       "track key                          -0.008342      -0.095288  0.018536   \n",
       "track liveness                     -0.037163       0.070183  0.083566   \n",
       "track loudness                      0.118516       0.164720  0.310112   \n",
       "track mode                         -0.051308      -0.108504 -0.157412   \n",
       "track speechiness                   0.067726       0.187982  0.120742   \n",
       "track time_signature                1.000000       0.211999  0.048722   \n",
       "track valence                       0.211999       1.000000  0.093376   \n",
       "pop                                 0.048722       0.093376  1.000000   \n",
       "rock                               -0.048722      -0.093376 -1.000000   \n",
       "\n",
       "                            rock  \n",
       "track acousticness      0.225092  \n",
       "track danceability     -0.214303  \n",
       "track duration_ms      -0.007395  \n",
       "track energy           -0.242062  \n",
       "track instrumentalness  0.052181  \n",
       "track key              -0.018536  \n",
       "track liveness         -0.083566  \n",
       "track loudness         -0.310112  \n",
       "track mode              0.157412  \n",
       "track speechiness      -0.120742  \n",
       "track time_signature   -0.048722  \n",
       "track valence          -0.093376  \n",
       "pop                    -1.000000  \n",
       "rock                    1.000000  "
      ]
     },
     "execution_count": 11,
     "metadata": {},
     "output_type": "execute_result"
    }
   ],
   "source": [
    "corr = df2.corr()\n",
    "corr"
   ]
  },
  {
   "cell_type": "code",
   "execution_count": 12,
   "metadata": {},
   "outputs": [
    {
     "data": {
      "image/png": "[encoded data removed]",
      "text/plain": [
       "<Figure size 432x288 with 2 Axes>"
      ]
     },
     "metadata": {
      "needs_background": "light"
     },
     "output_type": "display_data"
    }
   ],
   "source": [
    "sns.heatmap(corr, xticklabels=corr.columns, yticklabels=corr.columns, cmap=\"YlGnBu\")\n",
    "plt.show()"
   ]
  },
  {
   "cell_type": "markdown",
   "metadata": {},
   "source": [
    "From the above correlation table and heatmap, there is no variable that is strongly correlated to the pop and rock genre. Let's now take a look at the track features correlation. We can see that the correlation between track energy and track loudness are highest at 0.76. Let's analyze these in the below graphs!"
   ]
  },
  {
   "cell_type": "code",
   "execution_count": 14,
   "metadata": {},
   "outputs": [
    {
     "data": {
      "text/plain": [
       "Text(0.5, 1.0, 'Track Energy per Genres')"
      ]
     },
     "execution_count": 14,
     "metadata": {},
     "output_type": "execute_result"
    },
    {
     "data": {
      "image/png": "[encoded data removed]",
      "text/plain": [
       "<Figure size 360x360 with 1 Axes>"
      ]
     },
     "metadata": {
      "needs_background": "light"
     },
     "output_type": "display_data"
    }
   ],
   "source": [
    "g = sns.catplot(x=\"genres-transformed\", y=\"track energy\", kind=\"violin\", inner=None, data=df2)\n",
    "sns.swarmplot(x=\"genres-transformed\", y=\"track energy\", color=\"k\", size=3, data=df2, ax=g.ax)\n",
    "plt.xlabel('Genres') \n",
    "plt.ylabel('Track Energy')\n",
    "plt.title('Track Energy per Genres')"
   ]
  },
  {
   "cell_type": "markdown",
   "metadata": {},
   "source": [
    "In the graph above, we can see that pop track energy is more grouped in 0.6 to 0.8 while track energy for pop is relatively more spread out from 0.4 to 0.9."
   ]
  },
  {
   "cell_type": "code",
   "execution_count": 96,
   "metadata": {},
   "outputs": [
    {
     "data": {
      "text/plain": [
       "Text(0.5, 1.0, 'Track Loudness per Genres')"
      ]
     },
     "execution_count": 96,
     "metadata": {},
     "output_type": "execute_result"
    },
    {
     "data": {
      "image/png": "[encoded data removed]",
      "text/plain": [
       "<Figure size 360x360 with 1 Axes>"
      ]
     },
     "metadata": {
      "needs_background": "light"
     },
     "output_type": "display_data"
    }
   ],
   "source": [
    "g = sns.catplot(x=\"genres-transformed\", y=\"track loudness\", kind=\"violin\", inner=None, data=df2)\n",
    "sns.swarmplot(x=\"genres-transformed\", y=\"track loudness\", color=\"k\", size=3, data=df2, ax=g.ax)\n",
    "plt.xlabel('Genres') \n",
    "plt.ylabel('Track Loudness')\n",
    "plt.title('Track Loudness per Genres')"
   ]
  },
  {
   "cell_type": "markdown",
   "metadata": {},
   "source": [
    "In the above graph, we can see that pop track loudness is once again more grouped in around -5 while track loudness for rock is more spread out in range, from almost -25decibel to more than 0 decibel. The track loudness for rock is also a bit more even, grouped around -12 until around -6.<br>\n",
    "<br>\n",
    "From the above two graphs we can see that pop music are generally higher in the energy and loudness. Rock music energy and loudness are relatively more spread oud in comparison to pop music."
   ]
  },
  {
   "cell_type": "code",
   "execution_count": 16,
   "metadata": {},
   "outputs": [
    {
     "data": {
      "image/png": "[encoded data removed]",
      "text/plain": [
       "<Figure size 360x360 with 1 Axes>"
      ]
     },
     "metadata": {
      "needs_background": "light"
     },
     "output_type": "display_data"
    }
   ],
   "source": [
    "sns.lmplot(x='track energy', y='track loudness', fit_reg=True, data=df2, scatter_kws={'alpha':0.3})\n",
    "plt.xlabel('Track Energy') \n",
    "plt.ylabel('Track Loudness')\n",
    "plt.title('Track Energy in Comparison to Track Loudness')\n",
    "plt.show()"
   ]
  },
  {
   "cell_type": "markdown",
   "metadata": {},
   "source": [
    "The above graph shows the track energy on the x axis and track loudness on the y axis. In this graph, we can analyze better the relationship between the two variables. The track energy that are low or from 0 to 0.4 have their track loudness until around -15 decibels. The track energy that are higher or more than 0.5, have their track loudness ranged from -15 to -2 decibels. The graph shows relatively linear distribution of dots, meaning that the track energy have linear relation to track loudness. The higher the track energy, the higher the track loudness."
   ]
  },
  {
   "cell_type": "markdown",
   "metadata": {},
   "source": [
    "## Predictive model"
   ]
  },
  {
   "cell_type": "markdown",
   "metadata": {},
   "source": [
    "In this project, we will use Random Forest Classifier. Why random forest? Random forests consist of multiple single trees each based on a random sample of the training data. They are typically more accurate than single decision trees. Random forest also can be used to predict both classification and regression. For this project, classification will be predicted by predicting the track genre."
   ]
  },
  {
   "cell_type": "code",
   "execution_count": 118,
   "metadata": {},
   "outputs": [
    {
     "data": {
      "text/plain": [
       "rock    387\n",
       "pop     146\n",
       "Name: genres-transformed, dtype: int64"
      ]
     },
     "execution_count": 118,
     "metadata": {},
     "output_type": "execute_result"
    }
   ],
   "source": [
    "df2['genres-transformed'].value_counts()"
   ]
  },
  {
   "cell_type": "markdown",
   "metadata": {},
   "source": [
    "Looking at the number above, rock genre has more data. It seems like it will be more difficult to predict pop genre. If we guess that a track is rock, we have roughly 72% accuracy. However, we will also take a look at the precision and recall as well in the later stage."
   ]
  },
  {
   "cell_type": "markdown",
   "metadata": {},
   "source": [
    "### Training the algorithm"
   ]
  },
  {
   "cell_type": "markdown",
   "metadata": {},
   "source": [
    "We will use the track features as the X variables. The X variables will be used to predict the genre.<br>\n",
    "<br>\n",
    "In the below cell, the training and test data are separated by 70% and 30%. This built-in function from sk-learn splits the data set randomly into a train set and a test set."
   ]
  },
  {
   "cell_type": "code",
   "execution_count": 105,
   "metadata": {},
   "outputs": [],
   "source": [
    "X = df2.loc[:,'track acousticness':'track valence']\n",
    "y = df2['genres-transformed']\n",
    "X_train, X_test, y_train, y_test = train_test_split(X, y, test_size=0.3, random_state=1)"
   ]
  },
  {
   "cell_type": "markdown",
   "metadata": {},
   "source": [
    "#### Random Forest model"
   ]
  },
  {
   "cell_type": "markdown",
   "metadata": {},
   "source": [
    "The below random forest model is a built-in function from sk-learn. RF uses randomness, a random_state is set for stability of result. Traditionally, literature suggests 10 more trees to be used in this model. But in this project, we'll use 100 (see n_estimators below)."
   ]
  },
  {
   "cell_type": "code",
   "execution_count": 106,
   "metadata": {},
   "outputs": [],
   "source": [
    "rf = RandomForestClassifier(random_state=1, n_estimators=100)\n",
    "rf = rf.fit(X_train, y_train)"
   ]
  },
  {
   "cell_type": "markdown",
   "metadata": {},
   "source": [
    "### Evaluating the model"
   ]
  },
  {
   "cell_type": "markdown",
   "metadata": {},
   "source": [
    "In the below, we're going to evaluate the model using a confusion matrix and calculating accuracy, precision and recall. This is typical for classification problem."
   ]
  },
  {
   "cell_type": "code",
   "execution_count": 107,
   "metadata": {},
   "outputs": [
    {
     "data": {
      "text/plain": [
       "array([[ 16,  24],\n",
       "       [ 10, 110]])"
      ]
     },
     "execution_count": 107,
     "metadata": {},
     "output_type": "execute_result"
    }
   ],
   "source": [
    "y_test_pred = rf.predict(X_test)\n",
    "cm = confusion_matrix(y_test, y_test_pred)\n",
    "cm"
   ]
  },
  {
   "cell_type": "code",
   "execution_count": 108,
   "metadata": {},
   "outputs": [
    {
     "data": {
      "text/html": [
       "<div>\n",
       "<style scoped>\n",
       "    .dataframe tbody tr th:only-of-type {\n",
       "        vertical-align: middle;\n",
       "    }\n",
       "\n",
       "    .dataframe tbody tr th {\n",
       "        vertical-align: top;\n",
       "    }\n",
       "\n",
       "    .dataframe thead th {\n",
       "        text-align: right;\n",
       "    }\n",
       "</style>\n",
       "<table border=\"1\" class=\"dataframe\">\n",
       "  <thead>\n",
       "    <tr style=\"text-align: right;\">\n",
       "      <th></th>\n",
       "      <th>pop  (predicted)</th>\n",
       "      <th>rock (predicted)</th>\n",
       "    </tr>\n",
       "  </thead>\n",
       "  <tbody>\n",
       "    <tr>\n",
       "      <th>pop (actual)</th>\n",
       "      <td>16</td>\n",
       "      <td>24</td>\n",
       "    </tr>\n",
       "    <tr>\n",
       "      <th>rock (actual)</th>\n",
       "      <td>10</td>\n",
       "      <td>110</td>\n",
       "    </tr>\n",
       "  </tbody>\n",
       "</table>\n",
       "</div>"
      ],
      "text/plain": [
       "               pop  (predicted)  rock (predicted)\n",
       "pop (actual)                 16                24\n",
       "rock (actual)                10               110"
      ]
     },
     "execution_count": 108,
     "metadata": {},
     "output_type": "execute_result"
    }
   ],
   "source": [
    "y_pred = rf.predict(X_test) \n",
    "conf_matrix = confusion_matrix(y_test, y_pred) \n",
    "conf_matrix = pd.DataFrame(cm, index=['pop (actual)', 'rock (actual)'], columns = ['pop  (predicted)', 'rock (predicted)']) \n",
    "conf_matrix"
   ]
  },
  {
   "cell_type": "markdown",
   "metadata": {},
   "source": [
    "Based on the number of confusion matrix, rock is predicted better than pop. Now, let's calculate the accuracy, precision and recall."
   ]
  },
  {
   "cell_type": "markdown",
   "metadata": {},
   "source": [
    "To manually calculate the proportion of correctly predicted or accuracy, the formula is as follows:<br>\n",
    "<br>\n",
    "$ accuracy = \\frac{correctlyPredicted}{totalCases} $<br>\n",
    "<br>According to the formula, the accuracy of our prediction is 79%. That's quite good for predicting music."
   ]
  },
  {
   "cell_type": "code",
   "execution_count": 135,
   "metadata": {},
   "outputs": [
    {
     "name": "stdout",
     "output_type": "stream",
     "text": [
      "Accuracy:\n"
     ]
    },
    {
     "data": {
      "text/plain": [
       "0.7875"
      ]
     },
     "execution_count": 135,
     "metadata": {},
     "output_type": "execute_result"
    }
   ],
   "source": [
    "print(\"Accuracy:\")\n",
    "(16+110)/(16+10+24+110)"
   ]
  },
  {
   "cell_type": "markdown",
   "metadata": {},
   "source": [
    "To manually calculate the proportion of how much predicted is the actual or the precision, the formula is as follows:<br>\n",
    "<br>\n",
    "$ precision(var) = \\frac{correctlyPredicted(var)}{totalPrediction(var)} $<br>\n",
    "<br>According to the formula, the precision for pop is 62% and for rock is 82%. Good number for rock, but just okay for pop."
   ]
  },
  {
   "cell_type": "code",
   "execution_count": 127,
   "metadata": {},
   "outputs": [
    {
     "name": "stdout",
     "output_type": "stream",
     "text": [
      "Precision for pop:\n"
     ]
    },
    {
     "data": {
      "text/plain": [
       "0.6153846153846154"
      ]
     },
     "execution_count": 127,
     "metadata": {},
     "output_type": "execute_result"
    }
   ],
   "source": [
    "print(\"Precision for pop:\")\n",
    "(16)/(16+10)"
   ]
  },
  {
   "cell_type": "code",
   "execution_count": 128,
   "metadata": {},
   "outputs": [
    {
     "name": "stdout",
     "output_type": "stream",
     "text": [
      "Precision for rock:\n"
     ]
    },
    {
     "data": {
      "text/plain": [
       "0.8208955223880597"
      ]
     },
     "execution_count": 128,
     "metadata": {},
     "output_type": "execute_result"
    }
   ],
   "source": [
    "print(\"Precision for rock:\")\n",
    "(110)/(24+110)"
   ]
  },
  {
   "cell_type": "markdown",
   "metadata": {},
   "source": [
    "To manually calculate the proportion of how much the actual is in the prediction or recall, the formula is as follows:<br>\n",
    "<br>\n",
    "$ recall(var) = \\frac{correctlyPredicted(var)}{totalActual(var)} $<br>\n",
    "<br>According to the formula, the recall for pop is 40% which is not that good, but the recall for rock is very good with 92%."
   ]
  },
  {
   "cell_type": "code",
   "execution_count": 129,
   "metadata": {},
   "outputs": [
    {
     "name": "stdout",
     "output_type": "stream",
     "text": [
      "Recall for pop:\n"
     ]
    },
    {
     "data": {
      "text/plain": [
       "0.4"
      ]
     },
     "execution_count": 129,
     "metadata": {},
     "output_type": "execute_result"
    }
   ],
   "source": [
    "print(\"Recall for pop:\")\n",
    "(16)/(16+24)"
   ]
  },
  {
   "cell_type": "code",
   "execution_count": 130,
   "metadata": {},
   "outputs": [
    {
     "name": "stdout",
     "output_type": "stream",
     "text": [
      "Recall for rock:\n"
     ]
    },
    {
     "data": {
      "text/plain": [
       "0.9166666666666666"
      ]
     },
     "execution_count": 130,
     "metadata": {},
     "output_type": "execute_result"
    }
   ],
   "source": [
    "print(\"Recall for rock:\")\n",
    "(110)/(10+110)"
   ]
  },
  {
   "cell_type": "markdown",
   "metadata": {},
   "source": [
    "Now that we have the result through manual calculation, we'll calculate and analyze precision and recall with *classification_report*."
   ]
  },
  {
   "cell_type": "code",
   "execution_count": 109,
   "metadata": {},
   "outputs": [
    {
     "name": "stdout",
     "output_type": "stream",
     "text": [
      "              precision    recall  f1-score   support\n",
      "\n",
      "         pop       0.62      0.40      0.48        40\n",
      "        rock       0.82      0.92      0.87       120\n",
      "\n",
      "    accuracy                           0.79       160\n",
      "   macro avg       0.72      0.66      0.68       160\n",
      "weighted avg       0.77      0.79      0.77       160\n",
      "\n"
     ]
    }
   ],
   "source": [
    "from sklearn.metrics import classification_report\n",
    "print(classification_report(y_test, y_pred))"
   ]
  },
  {
   "cell_type": "markdown",
   "metadata": {},
   "source": [
    "The accuracy of the prediction is 79%, which is good for music prediction. The precision for rock music is very good with 0.82, while for pop is in the border of okay and not okay with 0.62. The recall for rock is great with 0.92 while the recall for rock is relatively bad with 0.40. As we can see, the precision and recall number is the same calculated manually and using _classification model_.<br>\n",
    "<br>\n",
    "<u>Let's say Spotify is to create a pop and rock playlist with the above calculation. If spotify only put tracks they know 100% sure are rock, they will get only rock tracks (high precision) and many too (high recall). If on the other hand, Spotify is to create pop playlist, they will have little amount of pop songs (low precision and low recall).</u>\n",
    "<hr>"
   ]
  },
  {
   "cell_type": "markdown",
   "metadata": {},
   "source": [
    "## Taking out variables"
   ]
  },
  {
   "cell_type": "markdown",
   "metadata": {},
   "source": [
    "When taking out one variable at a time from the model above, sometimes the precision and recall is up a little bit, around 0.02. From all calculation, when track speechiness is taken out of the X variables, it causes the most change in the precision and recall as follows: precision for pop is 0.66 and rock is 0.84 while recall for pop is 0.47 and rock is the same 0.92.\n",
    "<hr>"
   ]
  },
  {
   "cell_type": "markdown",
   "metadata": {},
   "source": [
    "## Different parameters"
   ]
  },
  {
   "cell_type": "markdown",
   "metadata": {},
   "source": [
    "In this section, we're going to try different parameters for our model. *N_estimators* is by default set to 10 and in our previous calculation, we set it to 100. Let's now use 1. The *max_features*, we're going to set it to the square root of the number variables, which is rounded up to 3."
   ]
  },
  {
   "cell_type": "code",
   "execution_count": 115,
   "metadata": {},
   "outputs": [
    {
     "name": "stdout",
     "output_type": "stream",
     "text": [
      "              precision    recall  f1-score   support\n",
      "\n",
      "         pop       0.36      0.42      0.39        40\n",
      "        rock       0.80      0.75      0.77       120\n",
      "\n",
      "    accuracy                           0.67       160\n",
      "   macro avg       0.58      0.59      0.58       160\n",
      "weighted avg       0.69      0.67      0.68       160\n",
      "\n"
     ]
    }
   ],
   "source": [
    "rf_new  = RandomForestClassifier(n_estimators = 1, max_features = 3, random_state=1) #RF is a random algorithm, so to get the same results we need to use random_state\n",
    "rf_new = rf_new.fit(X_train, y_train)\n",
    "y_pred_new = rf_new.predict(X_test) #the predicted values\n",
    "print(classification_report(y_test, y_pred_new))\n"
   ]
  },
  {
   "cell_type": "markdown",
   "metadata": {},
   "source": [
    "The precision, recall and accuracy are all at loss. The previous values are still better than the new parameters.\n",
    "<hr>"
   ]
  },
  {
   "cell_type": "markdown",
   "metadata": {},
   "source": [
    "## KNN"
   ]
  },
  {
   "cell_type": "markdown",
   "metadata": {},
   "source": [
    "When tried with KNN model, the accuracy is 67.5%. With 5 neighbours (out of 10 neighbours in the range), the precision and recall are generally the highest: precision for pop is 0.40 and rock is 0.78 while recall for pop is 0.30 and rock is the same 0.85. This means, even the best number in this model still are less than the result of Random Forest model that we use in the beginning.\n",
    "<hr>"
   ]
  },
  {
   "cell_type": "markdown",
   "metadata": {},
   "source": [
    "## Bibliography\n",
    "\n",
    "Web API Reference | Spotify for Developers. (n.d.). Spotify. Retrieved January 20, 2021, from https://developer.spotify.com/documentation/web-api/reference/#objects-index"
   ]
  }
 ],
 "metadata": {
  "kernelspec": {
   "display_name": "Python 3",
   "language": "python",
   "name": "python3"
  },
  "language_info": {
   "codemirror_mode": {
    "name": "ipython",
    "version": 3
   },
   "file_extension": ".py",
   "mimetype": "text/x-python",
   "name": "python",
   "nbconvert_exporter": "python",
   "pygments_lexer": "ipython3",
   "version": "3.7.6"
  }
 },
 "nbformat": 4,
 "nbformat_minor": 4
}
