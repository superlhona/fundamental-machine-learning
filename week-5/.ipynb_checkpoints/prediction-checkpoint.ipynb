{
 "cells": [
  {
   "cell_type": "code",
   "execution_count": 1,
   "metadata": {},
   "outputs": [],
   "source": [
    "import seaborn as sns\n",
    "import sklearn as sk\n",
    "import pandas as pd\n",
    "import matplotlib.pyplot as plt\n",
    "from sklearn.model_selection import train_test_split #We need this to split the data"
   ]
  },
  {
   "cell_type": "code",
   "execution_count": 3,
   "metadata": {},
   "outputs": [
    {
     "data": {
      "text/plain": [
       "female    1584\n",
       "male      1584\n",
       "Name: label, dtype: int64"
      ]
     },
     "execution_count": 3,
     "metadata": {},
     "output_type": "execute_result"
    }
   ],
   "source": [
    "df = pd.read_csv('voice.csv')\n",
    "df = df.dropna() #first get rid of rows with empty cells\n",
    "df.head()\n",
    "df['label'].value_counts()"
   ]
  },
  {
   "cell_type": "code",
   "execution_count": null,
   "metadata": {},
   "outputs": [],
   "source": []
  },
  {
   "cell_type": "code",
   "execution_count": 22,
   "metadata": {},
   "outputs": [
    {
     "data": {
      "text/html": [
       "<div>\n",
       "<style scoped>\n",
       "    .dataframe tbody tr th:only-of-type {\n",
       "        vertical-align: middle;\n",
       "    }\n",
       "\n",
       "    .dataframe tbody tr th {\n",
       "        vertical-align: top;\n",
       "    }\n",
       "\n",
       "    .dataframe thead th {\n",
       "        text-align: right;\n",
       "    }\n",
       "</style>\n",
       "<table border=\"1\" class=\"dataframe\">\n",
       "  <thead>\n",
       "    <tr style=\"text-align: right;\">\n",
       "      <th></th>\n",
       "      <th>Time</th>\n",
       "      <th>V1</th>\n",
       "      <th>V2</th>\n",
       "      <th>V3</th>\n",
       "      <th>V4</th>\n",
       "      <th>V5</th>\n",
       "      <th>V6</th>\n",
       "      <th>V7</th>\n",
       "      <th>V8</th>\n",
       "      <th>V9</th>\n",
       "      <th>...</th>\n",
       "      <th>V20</th>\n",
       "      <th>V21</th>\n",
       "      <th>V22</th>\n",
       "      <th>V23</th>\n",
       "      <th>V24</th>\n",
       "      <th>V25</th>\n",
       "      <th>V26</th>\n",
       "      <th>V27</th>\n",
       "      <th>V28</th>\n",
       "      <th>Amount</th>\n",
       "    </tr>\n",
       "  </thead>\n",
       "  <tbody>\n",
       "    <tr>\n",
       "      <th>92336</th>\n",
       "      <td>63884</td>\n",
       "      <td>0.805625</td>\n",
       "      <td>-1.695688</td>\n",
       "      <td>1.352358</td>\n",
       "      <td>-0.282137</td>\n",
       "      <td>-2.253216</td>\n",
       "      <td>0.017385</td>\n",
       "      <td>-1.217197</td>\n",
       "      <td>0.202760</td>\n",
       "      <td>-0.152576</td>\n",
       "      <td>...</td>\n",
       "      <td>-0.005321</td>\n",
       "      <td>-0.004854</td>\n",
       "      <td>0.042170</td>\n",
       "      <td>-0.132694</td>\n",
       "      <td>0.590563</td>\n",
       "      <td>-0.139888</td>\n",
       "      <td>1.096028</td>\n",
       "      <td>-0.039289</td>\n",
       "      <td>0.058267</td>\n",
       "      <td>239.76</td>\n",
       "    </tr>\n",
       "    <tr>\n",
       "      <th>62015</th>\n",
       "      <td>50089</td>\n",
       "      <td>1.100031</td>\n",
       "      <td>-0.102983</td>\n",
       "      <td>1.111263</td>\n",
       "      <td>1.292381</td>\n",
       "      <td>-0.933713</td>\n",
       "      <td>-0.115089</td>\n",
       "      <td>-0.540140</td>\n",
       "      <td>0.190514</td>\n",
       "      <td>0.607337</td>\n",
       "      <td>...</td>\n",
       "      <td>-0.162889</td>\n",
       "      <td>0.151511</td>\n",
       "      <td>0.592482</td>\n",
       "      <td>-0.125180</td>\n",
       "      <td>0.561148</td>\n",
       "      <td>0.570113</td>\n",
       "      <td>-0.244571</td>\n",
       "      <td>0.051015</td>\n",
       "      <td>0.021777</td>\n",
       "      <td>15.93</td>\n",
       "    </tr>\n",
       "    <tr>\n",
       "      <th>5005</th>\n",
       "      <td>4573</td>\n",
       "      <td>-1.552078</td>\n",
       "      <td>-0.531074</td>\n",
       "      <td>1.974243</td>\n",
       "      <td>1.013701</td>\n",
       "      <td>1.024195</td>\n",
       "      <td>-1.144346</td>\n",
       "      <td>0.002698</td>\n",
       "      <td>0.048984</td>\n",
       "      <td>1.339099</td>\n",
       "      <td>...</td>\n",
       "      <td>0.241350</td>\n",
       "      <td>-0.181249</td>\n",
       "      <td>-0.715027</td>\n",
       "      <td>0.328461</td>\n",
       "      <td>0.268026</td>\n",
       "      <td>-0.015884</td>\n",
       "      <td>-0.726971</td>\n",
       "      <td>0.026191</td>\n",
       "      <td>0.155041</td>\n",
       "      <td>83.72</td>\n",
       "    </tr>\n",
       "    <tr>\n",
       "      <th>56848</th>\n",
       "      <td>47632</td>\n",
       "      <td>-0.419158</td>\n",
       "      <td>0.949003</td>\n",
       "      <td>1.336161</td>\n",
       "      <td>0.854330</td>\n",
       "      <td>0.442809</td>\n",
       "      <td>0.107296</td>\n",
       "      <td>0.772343</td>\n",
       "      <td>-0.182008</td>\n",
       "      <td>-0.640852</td>\n",
       "      <td>...</td>\n",
       "      <td>0.015254</td>\n",
       "      <td>0.213674</td>\n",
       "      <td>0.779649</td>\n",
       "      <td>-0.181551</td>\n",
       "      <td>0.038274</td>\n",
       "      <td>-0.493093</td>\n",
       "      <td>-0.334844</td>\n",
       "      <td>-0.222714</td>\n",
       "      <td>-0.062746</td>\n",
       "      <td>19.99</td>\n",
       "    </tr>\n",
       "    <tr>\n",
       "      <th>99373</th>\n",
       "      <td>67089</td>\n",
       "      <td>0.054913</td>\n",
       "      <td>1.758103</td>\n",
       "      <td>-2.796921</td>\n",
       "      <td>1.320415</td>\n",
       "      <td>1.549875</td>\n",
       "      <td>-0.875941</td>\n",
       "      <td>0.498296</td>\n",
       "      <td>0.236048</td>\n",
       "      <td>-0.683338</td>\n",
       "      <td>...</td>\n",
       "      <td>0.008538</td>\n",
       "      <td>-0.125729</td>\n",
       "      <td>-0.211676</td>\n",
       "      <td>0.142032</td>\n",
       "      <td>-1.351474</td>\n",
       "      <td>-0.221678</td>\n",
       "      <td>-0.351459</td>\n",
       "      <td>-0.100930</td>\n",
       "      <td>-0.083579</td>\n",
       "      <td>8.49</td>\n",
       "    </tr>\n",
       "  </tbody>\n",
       "</table>\n",
       "<p>5 rows × 30 columns</p>\n",
       "</div>"
      ],
      "text/plain": [
       "        Time        V1        V2        V3        V4        V5        V6  \\\n",
       "92336  63884  0.805625 -1.695688  1.352358 -0.282137 -2.253216  0.017385   \n",
       "62015  50089  1.100031 -0.102983  1.111263  1.292381 -0.933713 -0.115089   \n",
       "5005    4573 -1.552078 -0.531074  1.974243  1.013701  1.024195 -1.144346   \n",
       "56848  47632 -0.419158  0.949003  1.336161  0.854330  0.442809  0.107296   \n",
       "99373  67089  0.054913  1.758103 -2.796921  1.320415  1.549875 -0.875941   \n",
       "\n",
       "             V7        V8        V9  ...       V20       V21       V22  \\\n",
       "92336 -1.217197  0.202760 -0.152576  ... -0.005321 -0.004854  0.042170   \n",
       "62015 -0.540140  0.190514  0.607337  ... -0.162889  0.151511  0.592482   \n",
       "5005   0.002698  0.048984  1.339099  ...  0.241350 -0.181249 -0.715027   \n",
       "56848  0.772343 -0.182008 -0.640852  ...  0.015254  0.213674  0.779649   \n",
       "99373  0.498296  0.236048 -0.683338  ...  0.008538 -0.125729 -0.211676   \n",
       "\n",
       "            V23       V24       V25       V26       V27       V28  Amount  \n",
       "92336 -0.132694  0.590563 -0.139888  1.096028 -0.039289  0.058267  239.76  \n",
       "62015 -0.125180  0.561148  0.570113 -0.244571  0.051015  0.021777   15.93  \n",
       "5005   0.328461  0.268026 -0.015884 -0.726971  0.026191  0.155041   83.72  \n",
       "56848 -0.181551  0.038274 -0.493093 -0.334844 -0.222714 -0.062746   19.99  \n",
       "99373  0.142032 -1.351474 -0.221678 -0.351459 -0.100930 -0.083579    8.49  \n",
       "\n",
       "[5 rows x 30 columns]"
      ]
     },
     "execution_count": 22,
     "metadata": {},
     "output_type": "execute_result"
    }
   ],
   "source": [
    "# from sklearn.preprocessing import normalize #get the function needed to normalize our data.\n",
    "\n",
    "X = df.loc[:,'Time':'Amount'] #create the X matrix\n",
    "# X = normalize(X) #normalize the matrix to put everything on the same scale\n",
    "\n",
    "y = df['Class'] #create the y-variable\n",
    "X_train, X_test, y_train, y_test = train_test_split(X, y, test_size=0.3, random_state=1) #split the data, store it into different variables\n",
    "\n",
    "X_train.head()"
   ]
  },
  {
   "cell_type": "code",
   "execution_count": 38,
   "metadata": {},
   "outputs": [],
   "source": [
    "from sklearn.ensemble import RandomForestClassifier \n",
    "\n",
    "rf = RandomForestClassifier()\n",
    "rf = rf.fit(X_train, y_train)"
   ]
  },
  {
   "cell_type": "code",
   "execution_count": 39,
   "metadata": {},
   "outputs": [
    {
     "data": {
      "text/plain": [
       "array([[29932,     2],\n",
       "       [   15,    51]])"
      ]
     },
     "execution_count": 39,
     "metadata": {},
     "output_type": "execute_result"
    }
   ],
   "source": [
    "from sklearn.metrics import confusion_matrix\n",
    "y_test_pred = rf.predict(X_test) #the predicted values\n",
    "cm = confusion_matrix(y_test, y_test_pred) #creates a \"confusion matrix\"\n",
    "cm"
   ]
  },
  {
   "cell_type": "code",
   "execution_count": 40,
   "metadata": {},
   "outputs": [
    {
     "data": {
      "text/html": [
       "<div>\n",
       "<style scoped>\n",
       "    .dataframe tbody tr th:only-of-type {\n",
       "        vertical-align: middle;\n",
       "    }\n",
       "\n",
       "    .dataframe tbody tr th {\n",
       "        vertical-align: top;\n",
       "    }\n",
       "\n",
       "    .dataframe thead th {\n",
       "        text-align: right;\n",
       "    }\n",
       "</style>\n",
       "<table border=\"1\" class=\"dataframe\">\n",
       "  <thead>\n",
       "    <tr style=\"text-align: right;\">\n",
       "      <th></th>\n",
       "      <th>Not Fraud (predicted)</th>\n",
       "      <th>Fraud (predicted)</th>\n",
       "    </tr>\n",
       "  </thead>\n",
       "  <tbody>\n",
       "    <tr>\n",
       "      <th>Not Fraud (actual)</th>\n",
       "      <td>29932</td>\n",
       "      <td>2</td>\n",
       "    </tr>\n",
       "    <tr>\n",
       "      <th>Fraud (actual)</th>\n",
       "      <td>15</td>\n",
       "      <td>51</td>\n",
       "    </tr>\n",
       "  </tbody>\n",
       "</table>\n",
       "</div>"
      ],
      "text/plain": [
       "                    Not Fraud (predicted)  Fraud (predicted)\n",
       "Not Fraud (actual)                  29932                  2\n",
       "Fraud (actual)                         15                 51"
      ]
     },
     "execution_count": 40,
     "metadata": {},
     "output_type": "execute_result"
    }
   ],
   "source": [
    "conf_matrix = pd.DataFrame(cm, index=['Not Fraud (actual)', 'Fraud (actual)'], columns = ['Not Fraud (predicted)', 'Fraud (predicted)']) \n",
    "conf_matrix"
   ]
  },
  {
   "cell_type": "code",
   "execution_count": 41,
   "metadata": {},
   "outputs": [
    {
     "data": {
      "text/plain": [
       "0.9994333333333333"
      ]
     },
     "execution_count": 41,
     "metadata": {},
     "output_type": "execute_result"
    }
   ],
   "source": [
    "(29933+51)/(29933+1+15+51)\n",
    "rf.score(X_test, y_test)"
   ]
  },
  {
   "cell_type": "code",
   "execution_count": 34,
   "metadata": {},
   "outputs": [
    {
     "data": {
      "text/plain": [
       "0.9622641509433962"
      ]
     },
     "execution_count": 34,
     "metadata": {},
     "output_type": "execute_result"
    }
   ],
   "source": [
    "51/(1+52)"
   ]
  },
  {
   "cell_type": "code",
   "execution_count": 35,
   "metadata": {},
   "outputs": [
    {
     "data": {
      "text/plain": [
       "0.7727272727272727"
      ]
     },
     "execution_count": 35,
     "metadata": {},
     "output_type": "execute_result"
    }
   ],
   "source": [
    "51/(15+51)"
   ]
  },
  {
   "cell_type": "code",
   "execution_count": null,
   "metadata": {},
   "outputs": [],
   "source": []
  },
  {
   "cell_type": "code",
   "execution_count": null,
   "metadata": {},
   "outputs": [],
   "source": []
  }
 ],
 "metadata": {
  "kernelspec": {
   "display_name": "Python 3",
   "language": "python",
   "name": "python3"
  },
  "language_info": {
   "codemirror_mode": {
    "name": "ipython",
    "version": 3
   },
   "file_extension": ".py",
   "mimetype": "text/x-python",
   "name": "python",
   "nbconvert_exporter": "python",
   "pygments_lexer": "ipython3",
   "version": "3.7.6"
  }
 },
 "nbformat": 4,
 "nbformat_minor": 2
}
